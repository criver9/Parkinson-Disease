{
 "cells": [
  {
   "cell_type": "markdown",
   "metadata": {},
   "source": [
    "## Classification of Parkinson patients using tapping and memory"
   ]
  },
  {
   "cell_type": "code",
   "execution_count": 1,
   "metadata": {},
   "outputs": [],
   "source": [
    "import synapseclient\n",
    "import pandas as pd\n",
    "import json\n",
    "import csv\n",
    "import matplotlib.pyplot as plt"
   ]
  },
  {
   "cell_type": "code",
   "execution_count": 2,
   "metadata": {},
   "outputs": [],
   "source": [
    "#Save to a csv file\n",
    "\n",
    "with open('TappingTableWithPerform&EntropyTap.csv') as csvfile:\n",
    "    TapTable=pd.read_csv(csvfile, delimiter=',') \n",
    "with open('DemoTable.csv') as csvfile:\n",
    "    DemoTable=pd.read_csv(csvfile, delimiter=',') \n",
    "with open('MemoryTable.csv') as csvfile:\n",
    "    MemTable=pd.read_csv(csvfile, delimiter=',')"
   ]
  },
  {
   "cell_type": "code",
   "execution_count": 3,
   "metadata": {},
   "outputs": [
    {
     "name": "stdout",
     "output_type": "stream",
     "text": [
      "(69979, 18)\n",
      "(44413, 18)\n",
      "(3777, 14)\n"
     ]
    }
   ],
   "source": [
    "# eliminate the tasks where parkinson patients were feeling at their best\n",
    "print(TapTable.shape)\n",
    "TapTable=TapTable[TapTable['medTimepoint']!= 'Just after Parkinson medication (at your best)']\n",
    "TapTable=TapTable[TapTable['medTimepoint']!= 'Another time']\n",
    "\n",
    "MemTable=MemTable[MemTable['medTimepoint']!= 'Just after Parkinson medication (at your best)']\n",
    "MemTable=MemTable[MemTable['medTimepoint']!= 'Another time']\n",
    "\n",
    "#TapTable=TapTable.drop(['ROW_ID', 'ROW_VERSION','recordId','createdOn','appVersion','phoneInfo','accel_tapping.json.items','tapping_results.json.ButtonRectLeft','tapping_results.json.ButtonRectRight','tapping_results.json.endDate','tapping_results.json.startDate','tapping_results.json.TappingViewSize','medTimepoint'], axis=1)\n",
    "print(TapTable.shape)\n",
    "print(MemTable.shape)"
   ]
  },
  {
   "cell_type": "code",
   "execution_count": 4,
   "metadata": {},
   "outputs": [
    {
     "name": "stdout",
     "output_type": "stream",
     "text": [
      "                             healthCode  TapPerform  EntropyTap\n",
      "0  000240d1-1110-4dd2-a2d0-e344c37efd68       210.0    3.443919\n",
      "1  0002d5ff-53da-44bb-ab0d-f2426a8c78e2       104.0    2.753290\n",
      "2  0005a31d-e52c-447c-9971-ccc7bef667fb       180.0    2.898457\n",
      "3  00081bd9-9abd-4003-b035-de6cc3e8c922        38.5    4.092585\n",
      "4  00290381-e82e-46b2-b4e6-df115823d71b       193.0    3.422479\n"
     ]
    }
   ],
   "source": [
    "# Averaging results over patients\n",
    "TapTableN = TapTable.groupby(\"healthCode\")[\"TapPerform\",\"EntropyTap\"].mean()\n",
    "TapTableN = pd.DataFrame(TapTableN)  \n",
    "TapTableN = TapTableN.reset_index()\n",
    "print(TapTableN.head())\n"
   ]
  },
  {
   "cell_type": "code",
   "execution_count": 5,
   "metadata": {},
   "outputs": [
    {
     "name": "stdout",
     "output_type": "stream",
     "text": [
      "                             healthCode  \\\n",
      "0  00081bd9-9abd-4003-b035-de6cc3e8c922   \n",
      "1  010aed99-c9b3-4bdc-a23b-530d619b43a9   \n",
      "2  01185d64-7791-4282-8c3d-e657cd810bb0   \n",
      "3  0142010e-cb15-4391-90b5-29ac0dbe5bae   \n",
      "4  0160664a-f4af-4071-a4aa-2967f3ea0503   \n",
      "\n",
      "   MemoryGameResults.json.MemoryGameOverallScore  \n",
      "0                                         210.00  \n",
      "1                                         255.00  \n",
      "2                                         215.00  \n",
      "3                                         257.50  \n",
      "4                                         251.25  \n"
     ]
    }
   ],
   "source": [
    "MemTable.columns\n",
    "MemTable=MemTable.drop(['ROW_ID', 'ROW_VERSION','recordId','createdOn','appVersion','phoneInfo','MemoryGameResults.json.startDate','MemoryGameResults.json.endDate','MemoryGameResults.json.MemoryGameGameRecords','medTimepoint'], axis=1)\n",
    "MemTableN = MemTable.groupby(\"healthCode\")[\"MemoryGameResults.json.MemoryGameOverallScore\"].mean()\n",
    "MemTableN = pd.DataFrame(MemTableN)  \n",
    "MemTableN = MemTableN.reset_index()\n",
    "print(MemTableN.head())\n"
   ]
  },
  {
   "cell_type": "code",
   "execution_count": 6,
   "metadata": {},
   "outputs": [
    {
     "name": "stdout",
     "output_type": "stream",
     "text": [
      "(823, 2)\n"
     ]
    }
   ],
   "source": [
    "print(MemTableN.shape)"
   ]
  },
  {
   "cell_type": "code",
   "execution_count": 7,
   "metadata": {
    "scrolled": true
   },
   "outputs": [
    {
     "data": {
      "text/plain": [
       "(6013, 6)"
      ]
     },
     "execution_count": 7,
     "metadata": {},
     "output_type": "execute_result"
    }
   ],
   "source": [
    "\n",
    "#Sub-DataFrame of Demo Table with only features of interest: Age, diagnostic year, gender.\n",
    "#DemoTable.head()\n",
    "DemoTableN=DemoTable[[\"age\",\"healthCode\",\"diagnosis-year\",\"gender\"]]\n",
    "DemoTableN.shape\n",
    "#Merges TapTables with the PerfInfo and drops thos values in TapTable that are not defined in PerInfo\n",
    "TapTableN=TapTableN.merge(DemoTableN)\n",
    "TapTableN.shape\n",
    "#TapMemTableN=pd.concat([TapTableN, MemTableN], axis=1)\n",
    "#TapMemTableN\n",
    "#TapMemTableN.head()\n",
    "#TapTable.head()\n",
    "#PatientTemp = TapTable.groupby(\"healthCode\")[\"healthCode\"].count()\n",
    "#print(PatientTemp)\n",
    "#TapMemTableN=TapMemTableN.merge(DemoTableN)\n",
    "#TapMemTableN.head()\n"
   ]
  },
  {
   "cell_type": "code",
   "execution_count": 8,
   "metadata": {},
   "outputs": [
    {
     "name": "stdout",
     "output_type": "stream",
     "text": [
      "                               healthCode  TapPerform  EntropyTap   age  \\\n",
      "0    00081bd9-9abd-4003-b035-de6cc3e8c922   38.500000    4.092585  70.0   \n",
      "1    010aed99-c9b3-4bdc-a23b-530d619b43a9  201.500000    3.482837  46.0   \n",
      "2    0142010e-cb15-4391-90b5-29ac0dbe5bae  200.000000    3.204262  37.0   \n",
      "3    0160664a-f4af-4071-a4aa-2967f3ea0503  136.896552    3.338570  64.0   \n",
      "4    01b25cac-97dc-4f16-b266-742a25a768d0   79.357143    3.170084  67.0   \n",
      "..                                    ...         ...         ...   ...   \n",
      "641  ff5abff8-7ece-4735-b568-4f4d361f1841  240.500000    3.008788  36.0   \n",
      "642  ff699dbc-26d4-4dae-8c34-d0fb7b96ae21  141.000000    3.471341  41.0   \n",
      "643  ff776fbd-45ad-491b-ba6d-67a74f62c434  162.000000    3.863474  18.0   \n",
      "644  ffab2631-dfe1-4f5e-bd9e-f763e8aede19  185.643678    2.979239  56.0   \n",
      "645  ffe9fec0-e3c6-44b2-8b4f-8f6f772b99c3  166.000000    3.619195  61.0   \n",
      "\n",
      "     diagnosis-year  gender  MemoryGameResults.json.MemoryGameOverallScore  \n",
      "0               NaN    Male                                     210.000000  \n",
      "1               NaN    Male                                     255.000000  \n",
      "2               NaN    Male                                     257.500000  \n",
      "3            2012.0    Male                                     251.250000  \n",
      "4               NaN    Male                                     237.187500  \n",
      "..              ...     ...                                            ...  \n",
      "641             NaN    Male                                     255.000000  \n",
      "642             NaN  Female                                     296.666667  \n",
      "643             NaN  Female                                     260.000000  \n",
      "644          2009.0  Female                                     290.000000  \n",
      "645          2010.0  Female                                     212.500000  \n",
      "\n",
      "[646 rows x 7 columns]\n"
     ]
    }
   ],
   "source": [
    "TapMemTableN=TapTableN.merge(MemTableN)\n",
    "print(TapMemTableN)"
   ]
  },
  {
   "cell_type": "code",
   "execution_count": 9,
   "metadata": {},
   "outputs": [],
   "source": [
    "TapMemTableN=TapMemTableN.dropna(subset=['age','gender','MemoryGameResults.json.MemoryGameOverallScore'])"
   ]
  },
  {
   "cell_type": "code",
   "execution_count": 10,
   "metadata": {},
   "outputs": [],
   "source": [
    "# change gender column to categorical 0:female, 1: male\n",
    "df_gender = pd.get_dummies(TapMemTableN['gender'],drop_first=True)\n",
    "#print(TapTableN.gender.value_counts())\n",
    "TapMemTableN = pd.concat([TapMemTableN, df_gender], axis=1)\n",
    "TapMemTableN=TapMemTableN.drop(['healthCode','gender'], axis=1)\n",
    "\n"
   ]
  },
  {
   "cell_type": "code",
   "execution_count": 11,
   "metadata": {},
   "outputs": [
    {
     "data": {
      "text/html": [
       "<div>\n",
       "<style scoped>\n",
       "    .dataframe tbody tr th:only-of-type {\n",
       "        vertical-align: middle;\n",
       "    }\n",
       "\n",
       "    .dataframe tbody tr th {\n",
       "        vertical-align: top;\n",
       "    }\n",
       "\n",
       "    .dataframe thead th {\n",
       "        text-align: right;\n",
       "    }\n",
       "</style>\n",
       "<table border=\"1\" class=\"dataframe\">\n",
       "  <thead>\n",
       "    <tr style=\"text-align: right;\">\n",
       "      <th></th>\n",
       "      <th>TapPerform</th>\n",
       "      <th>EntropyTap</th>\n",
       "      <th>age</th>\n",
       "      <th>diagnosis-year</th>\n",
       "      <th>MemoryGameResults.json.MemoryGameOverallScore</th>\n",
       "      <th>Male</th>\n",
       "    </tr>\n",
       "  </thead>\n",
       "  <tbody>\n",
       "    <tr>\n",
       "      <th>0</th>\n",
       "      <td>38.500000</td>\n",
       "      <td>4.092585</td>\n",
       "      <td>70.0</td>\n",
       "      <td>NaN</td>\n",
       "      <td>210.0000</td>\n",
       "      <td>1</td>\n",
       "    </tr>\n",
       "    <tr>\n",
       "      <th>1</th>\n",
       "      <td>201.500000</td>\n",
       "      <td>3.482837</td>\n",
       "      <td>46.0</td>\n",
       "      <td>NaN</td>\n",
       "      <td>255.0000</td>\n",
       "      <td>1</td>\n",
       "    </tr>\n",
       "    <tr>\n",
       "      <th>2</th>\n",
       "      <td>200.000000</td>\n",
       "      <td>3.204262</td>\n",
       "      <td>37.0</td>\n",
       "      <td>NaN</td>\n",
       "      <td>257.5000</td>\n",
       "      <td>1</td>\n",
       "    </tr>\n",
       "    <tr>\n",
       "      <th>3</th>\n",
       "      <td>136.896552</td>\n",
       "      <td>3.338570</td>\n",
       "      <td>64.0</td>\n",
       "      <td>2012.0</td>\n",
       "      <td>251.2500</td>\n",
       "      <td>1</td>\n",
       "    </tr>\n",
       "    <tr>\n",
       "      <th>4</th>\n",
       "      <td>79.357143</td>\n",
       "      <td>3.170084</td>\n",
       "      <td>67.0</td>\n",
       "      <td>NaN</td>\n",
       "      <td>237.1875</td>\n",
       "      <td>1</td>\n",
       "    </tr>\n",
       "  </tbody>\n",
       "</table>\n",
       "</div>"
      ],
      "text/plain": [
       "   TapPerform  EntropyTap   age  diagnosis-year  \\\n",
       "0   38.500000    4.092585  70.0             NaN   \n",
       "1  201.500000    3.482837  46.0             NaN   \n",
       "2  200.000000    3.204262  37.0             NaN   \n",
       "3  136.896552    3.338570  64.0          2012.0   \n",
       "4   79.357143    3.170084  67.0             NaN   \n",
       "\n",
       "   MemoryGameResults.json.MemoryGameOverallScore  Male  \n",
       "0                                       210.0000     1  \n",
       "1                                       255.0000     1  \n",
       "2                                       257.5000     1  \n",
       "3                                       251.2500     1  \n",
       "4                                       237.1875     1  "
      ]
     },
     "execution_count": 11,
     "metadata": {},
     "output_type": "execute_result"
    }
   ],
   "source": [
    "TapMemTableN.head()\n"
   ]
  },
  {
   "cell_type": "code",
   "execution_count": 12,
   "metadata": {},
   "outputs": [
    {
     "name": "stdout",
     "output_type": "stream",
     "text": [
      "     TapPerform  EntropyTap   age  diagnosis-year  \\\n",
      "0     38.500000    4.092585  70.0             NaN   \n",
      "1    201.500000    3.482837  46.0             NaN   \n",
      "2    200.000000    3.204262  37.0             NaN   \n",
      "3    136.896552    3.338570  64.0             3.0   \n",
      "4     79.357143    3.170084  67.0             NaN   \n",
      "..          ...         ...   ...             ...   \n",
      "641  240.500000    3.008788  36.0             NaN   \n",
      "642  141.000000    3.471341  41.0             NaN   \n",
      "643  162.000000    3.863474  18.0             NaN   \n",
      "644  185.643678    2.979239  56.0             6.0   \n",
      "645  166.000000    3.619195  61.0             5.0   \n",
      "\n",
      "     MemoryGameResults.json.MemoryGameOverallScore  Male  YearsPD  \n",
      "0                                       210.000000     1        0  \n",
      "1                                       255.000000     1        0  \n",
      "2                                       257.500000     1        0  \n",
      "3                                       251.250000     1        1  \n",
      "4                                       237.187500     1        0  \n",
      "..                                             ...   ...      ...  \n",
      "641                                     255.000000     1        0  \n",
      "642                                     296.666667     0        0  \n",
      "643                                     260.000000     0        0  \n",
      "644                                     290.000000     0        1  \n",
      "645                                     212.500000     0        1  \n",
      "\n",
      "[643 rows x 7 columns]\n"
     ]
    }
   ],
   "source": [
    "# diagnosis-year becomes years with diagnosed disease\n",
    "TapMemTableN['diagnosis-year']=(2015-TapMemTableN['diagnosis-year'])\n",
    "#NAN REPLACED WITH ZERO AND OTHER INT REPLACED WITH ONE\n",
    "dfb = TapMemTableN['diagnosis-year'].notnull().astype(int)\n",
    "TapMemTableN['YearsPD']=dfb\n",
    "print(TapMemTableN)\n"
   ]
  },
  {
   "cell_type": "code",
   "execution_count": 13,
   "metadata": {},
   "outputs": [
    {
     "data": {
      "text/plain": [
       "Index(['TapPerform', 'EntropyTap', 'age', 'diagnosis-year',\n",
       "       'MemoryGameResults.json.MemoryGameOverallScore', 'Male', 'YearsPD'],\n",
       "      dtype='object')"
      ]
     },
     "execution_count": 13,
     "metadata": {},
     "output_type": "execute_result"
    }
   ],
   "source": [
    "TapMemTableN.columns"
   ]
  },
  {
   "cell_type": "code",
   "execution_count": 44,
   "metadata": {},
   "outputs": [
    {
     "data": {
      "text/plain": [
       "173"
      ]
     },
     "execution_count": 44,
     "metadata": {},
     "output_type": "execute_result"
    }
   ],
   "source": [
    "X = TapMemTableN[['TapPerform','EntropyTap', 'age','Male','MemoryGameResults.json.MemoryGameOverallScore']]\n",
    "#X = TapMemTableN[['EntropyTap', 'age','Male','MemoryGameResults.json.MemoryGameOverallScore']]\n",
    "y = TapMemTableN['YearsPD']\n",
    "sum(y)"
   ]
  },
  {
   "cell_type": "code",
   "execution_count": 45,
   "metadata": {},
   "outputs": [
    {
     "data": {
      "text/plain": [
       "(array([  0., 100., 200., 300., 400., 500.]),\n",
       " [Text(0, 0, ''),\n",
       "  Text(0, 0, ''),\n",
       "  Text(0, 0, ''),\n",
       "  Text(0, 0, ''),\n",
       "  Text(0, 0, ''),\n",
       "  Text(0, 0, '')])"
      ]
     },
     "execution_count": 45,
     "metadata": {},
     "output_type": "execute_result"
    },
    {
     "data": {
      "image/png": "[encoded data removed]",
      "text/plain": [
       "<Figure size 432x288 with 1 Axes>"
      ]
     },
     "metadata": {
      "needs_background": "light"
     },
     "output_type": "display_data"
    }
   ],
   "source": [
    "PDPlot=y.value_counts().plot.bar()\n",
    "PDPlot.set_ylabel('No individuals',fontsize=18)\n",
    "#PDPlot.set_title('Audit Results')\n",
    "PDPlot.set_xticklabels( ('0', '1'),fontsize=14 )\n",
    "plt.xticks(fontsize=14)\n",
    "plt.yticks(fontsize=14)"
   ]
  },
  {
   "cell_type": "markdown",
   "metadata": {},
   "source": [
    "## Building the model"
   ]
  },
  {
   "cell_type": "code",
   "execution_count": 67,
   "metadata": {},
   "outputs": [],
   "source": [
    "from sklearn import datasets\n",
    "from sklearn.model_selection import train_test_split\n",
    "\n",
    "X_train, X_test, y_train, y_test = train_test_split(X,y, test_size=0.3, random_state=130)"
   ]
  },
  {
   "cell_type": "code",
   "execution_count": 68,
   "metadata": {},
   "outputs": [],
   "source": [
    "from sklearn.linear_model import LogisticRegression\n",
    "from sklearn.naive_bayes import GaussianNB\n",
    "from sklearn.neighbors import KNeighborsClassifier\n",
    "from sklearn import svm\n",
    "from sklearn.tree import DecisionTreeClassifier\n",
    "from sklearn.ensemble import RandomForestClassifier\n",
    "from sklearn.metrics import roc_curve, roc_auc_score"
   ]
  },
  {
   "cell_type": "code",
   "execution_count": 69,
   "metadata": {},
   "outputs": [],
   "source": [
    "classifiers = [LogisticRegression(random_state=13), \n",
    "               GaussianNB(), \n",
    "               RandomForestClassifier(random_state=13),\n",
    "              svm.SVC(kernel='poly',probability=True,random_state=12)]\n",
    "\n",
    "\n",
    "# Define a result table as a DataFrame\n",
    "result_table = pd.DataFrame(columns=['classifiers', 'fpr','tpr','auc'])\n",
    "\n",
    "# Train the models and record the results\n",
    "for cls in classifiers:\n",
    "    model = cls.fit(X_train, y_train)\n",
    "    yproba = model.predict_proba(X_test)[::,1]\n",
    "    \n",
    "    fpr, tpr, _ = roc_curve(y_test,  yproba)\n",
    "    auc = roc_auc_score(y_test, yproba)\n",
    "    \n",
    "    result_table = result_table.append({'classifiers':cls.__class__.__name__,\n",
    "                                        'fpr':fpr, \n",
    "                                        'tpr':tpr, \n",
    "                                        'auc':auc}, ignore_index=True)\n",
    "\n",
    "# Set name of the classifiers as index labels\n",
    "result_table.set_index('classifiers', inplace=True)"
   ]
  },
  {
   "cell_type": "code",
   "execution_count": 70,
   "metadata": {},
   "outputs": [
    {
     "data": {
      "image/png": "[encoded data removed]",
      "text/plain": [
       "<Figure size 576x432 with 1 Axes>"
      ]
     },
     "metadata": {
      "needs_background": "light"
     },
     "output_type": "display_data"
    }
   ],
   "source": [
    "import matplotlib.pyplot as plt\n",
    "import numpy as np\n",
    "fig = plt.figure(figsize=(8,6))\n",
    "\n",
    "for i in result_table.index:\n",
    "    plt.plot(result_table.loc[i]['fpr'], \n",
    "             result_table.loc[i]['tpr'], \n",
    "             label=\"{}, AUC={:.3f}\".format(i, result_table.loc[i]['auc']))\n",
    "    \n",
    "plt.plot([0,1], [0,1], color='orange', linestyle='--')\n",
    "\n",
    "plt.xticks(np.arange(0.0, 1.1, step=0.1))\n",
    "plt.xlabel(\"False Positive Rate\", fontsize=15)\n",
    "\n",
    "plt.yticks(np.arange(0.0, 1.1, step=0.1))\n",
    "plt.ylabel(\"True Positive Rate\", fontsize=15)\n",
    "\n",
    "plt.title('ROC Curve Analysis', fontweight='bold', fontsize=15)\n",
    "plt.legend(prop={'size':13}, loc='lower right')\n",
    "\n",
    "plt.show()"
   ]
  },
  {
   "cell_type": "code",
   "execution_count": 50,
   "metadata": {},
   "outputs": [],
   "source": [
    "#Notes on the Report:\n",
    "#Precision 0: TN/(TN+FN) of those predicted with out the disease, which how many really do not have it.\n",
    "#Precision 1: TP/(TP+FP) of those predicted with the disease, which how many really had it.\n",
    "#Recall 0: TN/(TN+FP) of those that dont have the disease how many were predicted with out the disease\n",
    "#Recall 1: TP/(TP+FN) of those that have the disease how many were predicted with the disease\n",
    "#Accuracy: TP+TN/(TP+TN+FP+FN), how many were classified correctly.\n",
    "#For early diagnosis we would like to focus on recall 1 to be high. People with early stages of the disease should diagnose\n",
    "#Few false negatives."
   ]
  },
  {
   "cell_type": "markdown",
   "metadata": {},
   "source": [
    "## Using weighted logistic regression to compensate for imbalance data set\n"
   ]
  },
  {
   "cell_type": "code",
   "execution_count": 71,
   "metadata": {},
   "outputs": [
    {
     "name": "stdout",
     "output_type": "stream",
     "text": [
      "Best score: 0.9112615384615385 with param: {'class_weight': {0: 1, 1: 2}}\n",
      "[0.91064615 0.91126154 0.91101538 0.90990769 0.91015385 0.91101538\n",
      " 0.91076923 0.91064615 0.91027692 0.91064615 0.90941538 0.90892308\n",
      " 0.90781538 0.90572308 0.90449231 0.90264615 0.90141538 0.8992\n",
      " 0.89723077 0.89341538]\n"
     ]
    }
   ],
   "source": [
    "# define weight hyperparameter\n",
    "w = [{0:1,1:1},{0:1,1:2},{0:1,1:3}, {0:1,1:4}, \n",
    "     {0:1,1:5}, {0:1,1:6}, {0:1,1:7}, {0:1,1:8}, \n",
    "     {0:1,1:9}, {0:1,1:10}, {0:1,1:12}, {0:1,1:14}, \n",
    "     {0:1,1:16}, {0:1,1:18}, {0:1,1:20}, \n",
    "     {0:1,1:25}, {0:1,1:30}, {0:1.0,1:40}, \n",
    "     {0:1.0,1:50}, {0:1,1:100}]\n",
    "hyperparam_grid = {\"class_weight\": w }\n",
    "\n",
    "from sklearn import datasets\n",
    "#from sklearn.model_selection import train_test_split\n",
    "\n",
    "#X_train, X_test, y_train, y_test = train_test_split(X,y, test_size=0.3, random_state=15)\n",
    "\n",
    "from sklearn.linear_model import LogisticRegression\n",
    "from sklearn.model_selection import train_test_split, GridSearchCV, cross_val_score, RepeatedStratifiedKFold, StratifiedKFold\n",
    "from sklearn.metrics import accuracy_score, confusion_matrix,roc_curve, roc_auc_score, precision_score, recall_score, precision_recall_curve\n",
    "from sklearn.metrics import f1_score\n",
    "\n",
    "# define model\n",
    "lg3 = LogisticRegression(random_state=3)\n",
    "# define evaluation procedure\n",
    "grid = GridSearchCV(lg3,hyperparam_grid,scoring=\"roc_auc\", cv=None, n_jobs=-1, refit=True)\n",
    "grid.fit(X_train,y_train)\n",
    "\n",
    "\n",
    "print(f'Best score: {grid.best_score_} with param: {grid.best_params_}')\n",
    "\n",
    "print(grid.cv_results_['mean_test_score'])"
   ]
  },
  {
   "cell_type": "code",
   "execution_count": 72,
   "metadata": {},
   "outputs": [
    {
     "name": "stdout",
     "output_type": "stream",
     "text": [
      "Accuracy of logistic regression classifier on test set: 0.83\n",
      "              precision    recall  f1-score   support\n",
      "\n",
      "           0       0.94      0.83      0.88       145\n",
      "           1       0.62      0.85      0.72        48\n",
      "\n",
      "    accuracy                           0.83       193\n",
      "   macro avg       0.78      0.84      0.80       193\n",
      "weighted avg       0.86      0.83      0.84       193\n",
      "\n"
     ]
    },
    {
     "data": {
      "image/png": "[encoded data removed]",
      "text/plain": [
       "<Figure size 432x288 with 2 Axes>"
      ]
     },
     "metadata": {
      "needs_background": "light"
     },
     "output_type": "display_data"
    }
   ],
   "source": [
    "\n",
    "from sklearn.metrics import roc_curve, roc_auc_score\n",
    "\n",
    "### define class weights grdisearch showed this is the best weighted class\n",
    "\n",
    "w = {0: 1.0, 1:2} #obtein from last cell\n",
    "\n",
    "classTapMem = LogisticRegression(class_weight=w)\n",
    "classTapMem.fit(X_train, y_train) \n",
    "\n",
    "from sklearn.metrics import classification_report\n",
    "from sklearn.metrics import confusion_matrix\n",
    "import matplotlib.pyplot as plt\n",
    "from sklearn.metrics import plot_confusion_matrix\n",
    "from sklearn.metrics import accuracy_score\n",
    "from sklearn.metrics import recall_score\n",
    "\n",
    "y_pred = classTapMem.predict(X_test)\n",
    "print('Accuracy of logistic regression classifier on test set: {:.2f}'.format(classTapMem.score(X_test, y_test)))\n",
    "confusionMatrix = confusion_matrix(y_test, y_pred, normalize='true')\n",
    "print(classification_report(y_test, y_pred))\n",
    "classes = [\"unoccupied\", \"occupied\"]\n",
    "disp = plot_confusion_matrix(classTapMem, X_test, y_test,cmap=plt.cm.Blues,normalize='true')"
   ]
  },
  {
   "cell_type": "code",
   "execution_count": 73,
   "metadata": {},
   "outputs": [
    {
     "name": "stdout",
     "output_type": "stream",
     "text": [
      "[[-0.01208138  0.27504691  0.11129517 -0.69095245 -0.00089996]] [-4.30041844]\n"
     ]
    }
   ],
   "source": [
    "#'TapPerform','EntropyTap', 'age','Male','MemoryGameResults.json.MemoryGameOverallScore'\n",
    "print(classTapMem.coef_,classTapMem.intercept_)"
   ]
  },
  {
   "cell_type": "code",
   "execution_count": 74,
   "metadata": {},
   "outputs": [
    {
     "data": {
      "text/plain": [
       "array([0])"
      ]
     },
     "execution_count": 74,
     "metadata": {},
     "output_type": "execute_result"
    }
   ],
   "source": [
    "\n",
    "(classTapMem.predict([[200,3,60,1,400]]))\n"
   ]
  },
  {
   "cell_type": "markdown",
   "metadata": {},
   "source": [
    "Best predictor is gender!"
   ]
  },
  {
   "cell_type": "code",
   "execution_count": 75,
   "metadata": {},
   "outputs": [
    {
     "data": {
      "text/plain": [
       "<AxesSubplot:xlabel='age', ylabel='TapPerform'>"
      ]
     },
     "execution_count": 75,
     "metadata": {},
     "output_type": "execute_result"
    },
    {
     "data": {
      "image/png": "[encoded data removed]",
      "text/plain": [
       "<Figure size 720x360 with 1 Axes>"
      ]
     },
     "metadata": {
      "needs_background": "light"
     },
     "output_type": "display_data"
    }
   ],
   "source": [
    "# scatter plot\n",
    "import matplotlib.pyplot as plt\n",
    "import seaborn as sns\n",
    "plt.figure(figsize=(10,5))\n",
    "sns.scatterplot(data = TapMemTableN, \n",
    "                x = 'age', \n",
    "                y = 'TapPerform', \n",
    "                hue = TapMemTableN['YearsPD'].tolist())"
   ]
  },
  {
   "cell_type": "markdown",
   "metadata": {},
   "source": [
    "Checking what is the age of the false negatives"
   ]
  },
  {
   "cell_type": "code",
   "execution_count": 78,
   "metadata": {},
   "outputs": [],
   "source": [
    "P = X_test.loc[(y_test == 1)]\n",
    "PP = X_test.loc[(y_pred == 0)]"
   ]
  },
  {
   "cell_type": "code",
   "execution_count": 80,
   "metadata": {},
   "outputs": [
    {
     "name": "stdout",
     "output_type": "stream",
     "text": [
      "Int64Index([524, 466, 170, 449,  82, 276, 164, 260, 285, 498, 522, 190, 151,\n",
      "            445, 431, 356, 185, 277, 308, 381, 621, 119, 528, 254, 134, 275,\n",
      "            509, 102, 280, 612, 299, 266, 230,  13, 457, 369, 517, 229, 373,\n",
      "            284, 328, 603,  15, 237, 159, 188, 116, 521,  72, 242, 491,  24,\n",
      "             64, 550],\n",
      "           dtype='int64')\n",
      "Int64Index([268, 399, 624, 384, 452,  79, 584, 461, 404,  11,\n",
      "            ...\n",
      "            403, 352,  74, 491, 479, 353, 243, 510, 250, 593],\n",
      "           dtype='int64', length=132)\n"
     ]
    }
   ],
   "source": [
    "print(P.index)\n",
    "print(PP.index)"
   ]
  },
  {
   "cell_type": "code",
   "execution_count": 81,
   "metadata": {},
   "outputs": [],
   "source": [
    "def intersection(lst1, lst2): \n",
    "    lst3 = [value for value in lst1 if value in lst2] \n",
    "    return lst3 "
   ]
  },
  {
   "cell_type": "code",
   "execution_count": 82,
   "metadata": {},
   "outputs": [
    {
     "name": "stdout",
     "output_type": "stream",
     "text": [
      "[285, 498, 254, 509, 266, 229, 328, 15, 521, 72, 491]\n"
     ]
    }
   ],
   "source": [
    "print(intersection(P.index, PP.index)) \n"
   ]
  },
  {
   "cell_type": "code",
   "execution_count": 97,
   "metadata": {},
   "outputs": [
    {
     "data": {
      "text/plain": [
       "285    59.0\n",
       "498    59.0\n",
       "254    51.0\n",
       "509    43.0\n",
       "266    54.0\n",
       "229    63.0\n",
       "328    44.0\n",
       "15     53.0\n",
       "521    65.0\n",
       "72     63.0\n",
       "491    27.0\n",
       "Name: age, dtype: float64"
      ]
     },
     "execution_count": 97,
     "metadata": {},
     "output_type": "execute_result"
    }
   ],
   "source": [
    "X_test.loc[intersection(P.index, PP.index),'age']\n",
    "\n"
   ]
  },
  {
   "cell_type": "code",
   "execution_count": 98,
   "metadata": {},
   "outputs": [
    {
     "data": {
      "text/plain": [
       "285    214.000000\n",
       "498    190.575758\n",
       "254     69.000000\n",
       "509     74.666667\n",
       "266    190.347826\n",
       "229    220.075000\n",
       "328    167.034483\n",
       "15     143.009259\n",
       "521    200.362319\n",
       "72     192.666667\n",
       "491    194.750000\n",
       "Name: TapPerform, dtype: float64"
      ]
     },
     "execution_count": 98,
     "metadata": {},
     "output_type": "execute_result"
    }
   ],
   "source": [
    "X_test.loc[intersection(P.index, PP.index),'TapPerform']"
   ]
  },
  {
   "cell_type": "markdown",
   "metadata": {},
   "source": [
    " The idea of only using age >40 to make the classfier won't decrease false negatives"
   ]
  },
  {
   "cell_type": "markdown",
   "metadata": {},
   "source": [
    "## What if only Tapping performance was included in the logistic regression\n"
   ]
  },
  {
   "cell_type": "code",
   "execution_count": 117,
   "metadata": {},
   "outputs": [
    {
     "data": {
      "text/html": [
       "<div>\n",
       "<style scoped>\n",
       "    .dataframe tbody tr th:only-of-type {\n",
       "        vertical-align: middle;\n",
       "    }\n",
       "\n",
       "    .dataframe tbody tr th {\n",
       "        vertical-align: top;\n",
       "    }\n",
       "\n",
       "    .dataframe thead th {\n",
       "        text-align: right;\n",
       "    }\n",
       "</style>\n",
       "<table border=\"1\" class=\"dataframe\">\n",
       "  <thead>\n",
       "    <tr style=\"text-align: right;\">\n",
       "      <th></th>\n",
       "      <th>healthCode</th>\n",
       "      <th>TapPerform</th>\n",
       "      <th>age</th>\n",
       "      <th>diagnosis-year</th>\n",
       "      <th>gender</th>\n",
       "    </tr>\n",
       "  </thead>\n",
       "  <tbody>\n",
       "    <tr>\n",
       "      <th>0</th>\n",
       "      <td>000240d1-1110-4dd2-a2d0-e344c37efd68</td>\n",
       "      <td>210.000000</td>\n",
       "      <td>33.0</td>\n",
       "      <td>NaN</td>\n",
       "      <td>Male</td>\n",
       "    </tr>\n",
       "    <tr>\n",
       "      <th>1</th>\n",
       "      <td>0005a31d-e52c-447c-9971-ccc7bef667fb</td>\n",
       "      <td>180.000000</td>\n",
       "      <td>35.0</td>\n",
       "      <td>NaN</td>\n",
       "      <td>Male</td>\n",
       "    </tr>\n",
       "    <tr>\n",
       "      <th>2</th>\n",
       "      <td>00081bd9-9abd-4003-b035-de6cc3e8c922</td>\n",
       "      <td>38.500000</td>\n",
       "      <td>70.0</td>\n",
       "      <td>NaN</td>\n",
       "      <td>Male</td>\n",
       "    </tr>\n",
       "    <tr>\n",
       "      <th>3</th>\n",
       "      <td>00290381-e82e-46b2-b4e6-df115823d71b</td>\n",
       "      <td>193.000000</td>\n",
       "      <td>25.0</td>\n",
       "      <td>NaN</td>\n",
       "      <td>Male</td>\n",
       "    </tr>\n",
       "    <tr>\n",
       "      <th>4</th>\n",
       "      <td>00372eda-3796-481b-96f7-f37e8e600904</td>\n",
       "      <td>129.166667</td>\n",
       "      <td>NaN</td>\n",
       "      <td>NaN</td>\n",
       "      <td>Female</td>\n",
       "    </tr>\n",
       "  </tbody>\n",
       "</table>\n",
       "</div>"
      ],
      "text/plain": [
       "                             healthCode  TapPerform   age  diagnosis-year  \\\n",
       "0  000240d1-1110-4dd2-a2d0-e344c37efd68  210.000000  33.0             NaN   \n",
       "1  0005a31d-e52c-447c-9971-ccc7bef667fb  180.000000  35.0             NaN   \n",
       "2  00081bd9-9abd-4003-b035-de6cc3e8c922   38.500000  70.0             NaN   \n",
       "3  00290381-e82e-46b2-b4e6-df115823d71b  193.000000  25.0             NaN   \n",
       "4  00372eda-3796-481b-96f7-f37e8e600904  129.166667   NaN             NaN   \n",
       "\n",
       "   gender  \n",
       "0    Male  \n",
       "1    Male  \n",
       "2    Male  \n",
       "3    Male  \n",
       "4  Female  "
      ]
     },
     "execution_count": 117,
     "metadata": {},
     "output_type": "execute_result"
    }
   ],
   "source": [
    "TapTableN.head()"
   ]
  },
  {
   "cell_type": "code",
   "execution_count": 76,
   "metadata": {},
   "outputs": [
    {
     "name": "stdout",
     "output_type": "stream",
     "text": [
      "     TapPerform  EntropyTap   age  diagnosis-year  \\\n",
      "0     38.500000    4.092585  70.0             NaN   \n",
      "1    201.500000    3.482837  46.0             NaN   \n",
      "2    200.000000    3.204262  37.0             NaN   \n",
      "3    136.896552    3.338570  64.0             3.0   \n",
      "4     79.357143    3.170084  67.0             NaN   \n",
      "..          ...         ...   ...             ...   \n",
      "641  240.500000    3.008788  36.0             NaN   \n",
      "642  141.000000    3.471341  41.0             NaN   \n",
      "643  162.000000    3.863474  18.0             NaN   \n",
      "644  185.643678    2.979239  56.0             6.0   \n",
      "645  166.000000    3.619195  61.0             5.0   \n",
      "\n",
      "     MemoryGameResults.json.MemoryGameOverallScore  Male  YearsPD  \n",
      "0                                       210.000000     1        0  \n",
      "1                                       255.000000     1        0  \n",
      "2                                       257.500000     1        0  \n",
      "3                                       251.250000     1        1  \n",
      "4                                       237.187500     1        0  \n",
      "..                                             ...   ...      ...  \n",
      "641                                     255.000000     1        0  \n",
      "642                                     296.666667     0        0  \n",
      "643                                     260.000000     0        0  \n",
      "644                                     290.000000     0        1  \n",
      "645                                     212.500000     0        1  \n",
      "\n",
      "[643 rows x 7 columns]\n"
     ]
    }
   ],
   "source": [
    "# diagnosis-year becomes years with diagnosed disease\n",
    "TapTableN['diagnosis-year']=(2015-TapTableN['diagnosis-year'])\n",
    "#NAN REPLACED WITH ZERO AND OTHER INT REPLACED WITH ONE\n",
    "dfbb = TapTableN['diagnosis-year'].notnull().astype(int)\n",
    "TapTableN['YearsPD']=dfbb\n",
    "print(TapMemTableN)"
   ]
  },
  {
   "cell_type": "code",
   "execution_count": 77,
   "metadata": {},
   "outputs": [],
   "source": [
    "XX = TapTableN[['TapPerform']]\n",
    "yy = TapTableN['YearsPD']\n"
   ]
  },
  {
   "cell_type": "code",
   "execution_count": 78,
   "metadata": {},
   "outputs": [
    {
     "data": {
      "text/html": [
       "<div>\n",
       "<style scoped>\n",
       "    .dataframe tbody tr th:only-of-type {\n",
       "        vertical-align: middle;\n",
       "    }\n",
       "\n",
       "    .dataframe tbody tr th {\n",
       "        vertical-align: top;\n",
       "    }\n",
       "\n",
       "    .dataframe thead th {\n",
       "        text-align: right;\n",
       "    }\n",
       "</style>\n",
       "<table border=\"1\" class=\"dataframe\">\n",
       "  <thead>\n",
       "    <tr style=\"text-align: right;\">\n",
       "      <th></th>\n",
       "      <th>TapPerform</th>\n",
       "    </tr>\n",
       "  </thead>\n",
       "  <tbody>\n",
       "    <tr>\n",
       "      <th>0</th>\n",
       "      <td>210.000000</td>\n",
       "    </tr>\n",
       "    <tr>\n",
       "      <th>1</th>\n",
       "      <td>180.000000</td>\n",
       "    </tr>\n",
       "    <tr>\n",
       "      <th>2</th>\n",
       "      <td>38.500000</td>\n",
       "    </tr>\n",
       "    <tr>\n",
       "      <th>3</th>\n",
       "      <td>193.000000</td>\n",
       "    </tr>\n",
       "    <tr>\n",
       "      <th>4</th>\n",
       "      <td>129.166667</td>\n",
       "    </tr>\n",
       "  </tbody>\n",
       "</table>\n",
       "</div>"
      ],
      "text/plain": [
       "   TapPerform\n",
       "0  210.000000\n",
       "1  180.000000\n",
       "2   38.500000\n",
       "3  193.000000\n",
       "4  129.166667"
      ]
     },
     "execution_count": 78,
     "metadata": {},
     "output_type": "execute_result"
    }
   ],
   "source": [
    "XX.head()"
   ]
  },
  {
   "cell_type": "code",
   "execution_count": 79,
   "metadata": {},
   "outputs": [
    {
     "data": {
      "text/plain": [
       "LogisticRegression(class_weight={0: 1.0, 1: 2})"
      ]
     },
     "execution_count": 79,
     "metadata": {},
     "output_type": "execute_result"
    }
   ],
   "source": [
    "X_trainT, X_testT, y_trainT, y_testT = train_test_split(XX,yy, test_size=0.3, random_state=130)\n",
    "\n",
    "classTap = LogisticRegression(class_weight=w)\n",
    "classTap.fit(X_trainT, y_trainT) \n"
   ]
  },
  {
   "cell_type": "code",
   "execution_count": 80,
   "metadata": {},
   "outputs": [
    {
     "name": "stdout",
     "output_type": "stream",
     "text": [
      "Accuracy of logistic regression classifier on test set: 0.88\n",
      "              precision    recall  f1-score   support\n",
      "\n",
      "           0       0.92      0.95      0.93      1579\n",
      "           1       0.52      0.38      0.44       225\n",
      "\n",
      "    accuracy                           0.88      1804\n",
      "   macro avg       0.72      0.67      0.69      1804\n",
      "weighted avg       0.87      0.88      0.87      1804\n",
      "\n"
     ]
    },
    {
     "data": {
      "image/png": "[encoded data removed]",
      "text/plain": [
       "<Figure size 432x288 with 2 Axes>"
      ]
     },
     "metadata": {
      "needs_background": "light"
     },
     "output_type": "display_data"
    }
   ],
   "source": [
    "y_predT = classTap.predict(X_testT)\n",
    "print('Accuracy of logistic regression classifier on test set: {:.2f}'.format(classTap.score(X_testT, y_testT)))\n",
    "confusionMatrix = confusion_matrix(y_testT, y_predT, normalize='true')\n",
    "print(classification_report(y_testT, y_predT))\n",
    "classes = [\"unoccupied\", \"occupied\"]\n",
    "disp = plot_confusion_matrix(classTap, X_testT, y_testT,cmap=plt.cm.Blues,normalize='true')"
   ]
  },
  {
   "cell_type": "code",
   "execution_count": 89,
   "metadata": {},
   "outputs": [
    {
     "data": {
      "text/plain": [
       "<matplotlib.legend.Legend at 0x116deaf70>"
      ]
     },
     "execution_count": 89,
     "metadata": {},
     "output_type": "execute_result"
    },
    {
     "data": {
      "image/png": "[encoded data removed]",
      "text/plain": [
       "<Figure size 432x288 with 1 Axes>"
      ]
     },
     "metadata": {
      "needs_background": "light"
     },
     "output_type": "display_data"
    }
   ],
   "source": [
    "import matplotlib.pyplot as plt\n",
    "import numpy as np\n",
    "yprobaT = classTap.predict_proba(X_testT)[::,1]\n",
    "    \n",
    "fpr, tpr, _ = roc_curve(y_testT,  yprobaT)\n",
    "auc = roc_auc_score(y_testT, yprobaT)\n",
    "plt.plot(fpr, tpr,label=\"AUC={:.3f}\".format(auc))\n",
    "    \n",
    "plt.plot([0,1], [0,1], color='orange', linestyle='--')\n",
    "\n",
    "plt.xticks(np.arange(0.0, 1.1, step=0.1))\n",
    "plt.xlabel(\"False Positive Rate\", fontsize=15)\n",
    "\n",
    "plt.yticks(np.arange(0.0, 1.1, step=0.1))\n",
    "plt.ylabel(\"True Positive Rate\", fontsize=15)\n",
    "\n",
    "plt.title('ROC Curve ', fontweight='bold', fontsize=15)\n",
    "plt.legend(prop={'size':13}, loc='lower right')\n"
   ]
  },
  {
   "cell_type": "code",
   "execution_count": 84,
   "metadata": {},
   "outputs": [
    {
     "data": {
      "text/plain": [
       "0.7989289986630075"
      ]
     },
     "execution_count": 84,
     "metadata": {},
     "output_type": "execute_result"
    }
   ],
   "source": [
    "auc"
   ]
  },
  {
   "cell_type": "code",
   "execution_count": 88,
   "metadata": {},
   "outputs": [
    {
     "name": "stdout",
     "output_type": "stream",
     "text": [
      "AUC=0.799\n"
     ]
    }
   ],
   "source": [
    "print(\"AUC={:.3f}\".format(auc))"
   ]
  },
  {
   "cell_type": "code",
   "execution_count": null,
   "metadata": {},
   "outputs": [],
   "source": []
  }
 ],
 "metadata": {
  "kernelspec": {
   "display_name": "Python [conda env:insight] *",
   "language": "python",
   "name": "conda-env-insight-py"
  },
  "language_info": {
   "codemirror_mode": {
    "name": "ipython",
    "version": 3
   },
   "file_extension": ".py",
   "mimetype": "text/x-python",
   "name": "python",
   "nbconvert_exporter": "python",
   "pygments_lexer": "ipython3",
   "version": "3.8.5"
  }
 },
 "nbformat": 4,
 "nbformat_minor": 4
}
