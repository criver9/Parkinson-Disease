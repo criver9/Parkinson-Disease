{
 "cells": [
  {
   "cell_type": "markdown",
   "metadata": {},
   "source": [
    "## Classification of Parkinson patients using an extra feature of Tapping: Std of the interval."
   ]
  },
  {
   "cell_type": "code",
   "execution_count": 1,
   "metadata": {},
   "outputs": [],
   "source": [
    "import synapseclient\n",
    "import pandas as pd\n",
    "import json\n",
    "import csv\n",
    "import matplotlib.pyplot as plt"
   ]
  },
  {
   "cell_type": "code",
   "execution_count": null,
   "metadata": {},
   "outputs": [],
   "source": [
    "\n",
    "MemTable.head()"
   ]
  },
  {
   "cell_type": "markdown",
   "metadata": {},
   "source": [
    "## Building data frame using tapping performance and demographic information"
   ]
  },
  {
   "cell_type": "code",
   "execution_count": null,
   "metadata": {},
   "outputs": [],
   "source": [
    "TapTable.columns\n",
    "#Drop columns no needed\n",
    "TapTable=TapTable.drop(['ROW_ID', 'ROW_VERSION','recordId','createdOn','appVersion','phoneInfo','accel_tapping.json.items','tapping_results.json.ButtonRectLeft','tapping_results.json.ButtonRectRight','tapping_results.json.endDate','tapping_results.json.startDate','tapping_results.json.TappingViewSize','medTimepoint'], axis=1)\n",
    "#Creating directory\n",
    "d = {'tapping_results.json.TappingSamples':LabelList,'TapPerform':Perform}\n",
    "PerfInfo = pd.DataFrame(d)\n",
    "#Merges TapTables with the PerfInfo and drops thos values in TapTable that are not defined in PerInfo\n",
    "#TapTable=TapTable.merge(PerfInfo,left_on='tapping_results.json.TappingSamples', right_on='tapping_results.json.TappingSamples')\n",
    "TapTable=TapTable.merge(PerfInfo)\n",
    "TapTableN = TapTable.groupby(\"healthCode\")[\"TapPerform\"].mean()\n",
    "TapTableN = pd.DataFrame(TapTableN)  \n",
    "TapTableN = TapTableN.reset_index()\n",
    "TapTableN.shape\n",
    "#TapTemp2 = TapTable.groupby(\"healthCode\")[\"TapPerform\"].std()\n",
    "#print(TapTemp2.shape)\n",
    "#TapTableN=pd.concat([TapTemp,TapTemp2], axis=1)\n",
    "#print(TapTableN.shape)\n"
   ]
  },
  {
   "cell_type": "code",
   "execution_count": null,
   "metadata": {},
   "outputs": [],
   "source": [
    "TapTableN.head()"
   ]
  },
  {
   "cell_type": "code",
   "execution_count": null,
   "metadata": {},
   "outputs": [],
   "source": [
    "MemTable.columns\n",
    "MemTable=MemTable.drop(['ROW_ID', 'ROW_VERSION','recordId','createdOn','appVersion','phoneInfo','MemoryGameResults.json.startDate','MemoryGameResults.json.endDate','MemoryGameResults.json.MemoryGameGameRecords','medTimepoint'], axis=1)\n",
    "MemTableN = MemTable.groupby(\"healthCode\")[\"MemoryGameResults.json.MemoryGameOverallScore\"].mean()\n",
    "MemTableN = pd.DataFrame(MemTableN)  \n",
    "MemTableN = MemTableN.reset_index()\n",
    "print(MemTableN.head())\n"
   ]
  },
  {
   "cell_type": "code",
   "execution_count": null,
   "metadata": {},
   "outputs": [],
   "source": [
    "print(MemTableN.shape)"
   ]
  },
  {
   "cell_type": "code",
   "execution_count": null,
   "metadata": {
    "scrolled": true
   },
   "outputs": [],
   "source": [
    "\n",
    "#Sub-DataFrame of Demo Table with only features of interest: Age, diagnostic year, gender.\n",
    "#DemoTable.head()\n",
    "DemoTableN=DemoTable[[\"age\",\"healthCode\",\"diagnosis-year\",\"gender\"]]\n",
    "DemoTableN.shape\n",
    "#Merges TapTables with the PerfInfo and drops thos values in TapTable that are not defined in PerInfo\n",
    "TapTableN=TapTableN.merge(DemoTableN)\n",
    "TapTableN.shape\n",
    "#TapMemTableN=pd.concat([TapTableN, MemTableN], axis=1)\n",
    "#TapMemTableN\n",
    "#TapMemTableN.head()\n",
    "#TapTable.head()\n",
    "#PatientTemp = TapTable.groupby(\"healthCode\")[\"healthCode\"].count()\n",
    "#print(PatientTemp)\n",
    "#TapMemTableN=TapMemTableN.merge(DemoTableN)\n",
    "#TapMemTableN.head()\n"
   ]
  },
  {
   "cell_type": "code",
   "execution_count": null,
   "metadata": {},
   "outputs": [],
   "source": [
    "TapMemTableN=TapTableN.merge(MemTableN)\n",
    "print(TapMemTableN)"
   ]
  },
  {
   "cell_type": "code",
   "execution_count": null,
   "metadata": {},
   "outputs": [],
   "source": [
    "# change gender column to categorical 0:female, 1: male\n",
    "df_gender = pd.get_dummies(TapMemTableN['gender'],drop_first=True)\n",
    "#print(TapTableN.gender.value_counts())\n",
    "TapMemTableN = pd.concat([TapMemTableN, df_gender], axis=1)\n",
    "TapMemTableN=TapMemTableN.drop(['healthCode','gender'], axis=1)\n",
    "\n"
   ]
  },
  {
   "cell_type": "code",
   "execution_count": null,
   "metadata": {},
   "outputs": [],
   "source": [
    "TapMemTableN.head()\n"
   ]
  },
  {
   "cell_type": "code",
   "execution_count": null,
   "metadata": {},
   "outputs": [],
   "source": [
    "# diagnosis-year becomes years with diagnosed disease\n",
    "TapMemTableN['diagnosis-year']=(2015-TapMemTableN['diagnosis-year'])\n",
    "#NAN REPLACED WITH ZERO AND OTHER INT REPLACED WITH ONE\n",
    "dfb = TapMemTableN['diagnosis-year'].notnull().astype(int)\n",
    "TapMemTableN['YearsPD']=dfb\n",
    "print(TapMemTableN)\n"
   ]
  },
  {
   "cell_type": "code",
   "execution_count": null,
   "metadata": {},
   "outputs": [],
   "source": [
    "X=TapMemTableN[['TapPerform', 'age','Male','TapPerform','MemoryGameResults.json.MemoryGameOverallScore']]\n",
    "y=TapMemTableN['YearsPD']"
   ]
  },
  {
   "cell_type": "markdown",
   "metadata": {},
   "source": [
    "## Building the model"
   ]
  },
  {
   "cell_type": "code",
   "execution_count": null,
   "metadata": {},
   "outputs": [],
   "source": [
    "from sklearn import datasets\n",
    "from sklearn.model_selection import train_test_split\n",
    "\n",
    "X_train, X_test, y_train, y_test = train_test_split(X,y, test_size=0.3, random_state=123)"
   ]
  },
  {
   "cell_type": "code",
   "execution_count": null,
   "metadata": {},
   "outputs": [],
   "source": [
    "from sklearn.linear_model import LogisticRegression\n",
    "from sklearn.naive_bayes import GaussianNB\n",
    "from sklearn.neighbors import KNeighborsClassifier\n",
    "from sklearn.tree import DecisionTreeClassifier\n",
    "from sklearn.ensemble import RandomForestClassifier\n",
    "from sklearn.metrics import roc_curve, roc_auc_score"
   ]
  },
  {
   "cell_type": "code",
   "execution_count": null,
   "metadata": {},
   "outputs": [],
   "source": [
    "classifiers = [LogisticRegression(random_state=13), \n",
    "               GaussianNB(), \n",
    "               KNeighborsClassifier(), \n",
    "               DecisionTreeClassifier(random_state=13),\n",
    "               RandomForestClassifier(random_state=13)]\n",
    "\n",
    "\n",
    "# Define a result table as a DataFrame\n",
    "result_table = pd.DataFrame(columns=['classifiers', 'fpr','tpr','auc'])\n",
    "\n",
    "# Train the models and record the results\n",
    "for cls in classifiers:\n",
    "    model = cls.fit(X_train, y_train)\n",
    "    yproba = model.predict_proba(X_test)[::,1]\n",
    "    \n",
    "    fpr, tpr, _ = roc_curve(y_test,  yproba)\n",
    "    auc = roc_auc_score(y_test, yproba)\n",
    "    \n",
    "    result_table = result_table.append({'classifiers':cls.__class__.__name__,\n",
    "                                        'fpr':fpr, \n",
    "                                        'tpr':tpr, \n",
    "                                        'auc':auc}, ignore_index=True)\n",
    "\n",
    "# Set name of the classifiers as index labels\n",
    "result_table.set_index('classifiers', inplace=True)"
   ]
  },
  {
   "cell_type": "code",
   "execution_count": null,
   "metadata": {},
   "outputs": [],
   "source": [
    "import matplotlib.pyplot as plt\n",
    "import numpy as np\n",
    "fig = plt.figure(figsize=(8,6))\n",
    "\n",
    "for i in result_table.index:\n",
    "    plt.plot(result_table.loc[i]['fpr'], \n",
    "             result_table.loc[i]['tpr'], \n",
    "             label=\"{}, AUC={:.3f}\".format(i, result_table.loc[i]['auc']))\n",
    "    \n",
    "plt.plot([0,1], [0,1], color='orange', linestyle='--')\n",
    "\n",
    "plt.xticks(np.arange(0.0, 1.1, step=0.1))\n",
    "plt.xlabel(\"False Positive Rate\", fontsize=15)\n",
    "\n",
    "plt.yticks(np.arange(0.0, 1.1, step=0.1))\n",
    "plt.ylabel(\"True Positive Rate\", fontsize=15)\n",
    "\n",
    "plt.title('ROC Curve Analysis', fontweight='bold', fontsize=15)\n",
    "plt.legend(prop={'size':13}, loc='lower right')\n",
    "\n",
    "plt.show()"
   ]
  },
  {
   "cell_type": "code",
   "execution_count": null,
   "metadata": {},
   "outputs": [],
   "source": [
    "#Notes on the Report:\n",
    "#Precision 0: TN/(TN+FN) of those predicted with out the disease, which how many really do not have it.\n",
    "#Precision 1: TP/(TP+FP) of those predicted with the disease, which how many really had it.\n",
    "#Recall 0: TN/(TN+FP) of those that dont have the disease how many were predicted with out the disease\n",
    "#Recall 1: TP/(TP+FN) of those that have the disease how many were predicted with the disease\n",
    "#Accuracy: TP+TN/(TP+TN+FP+FN), how many were classified correctly.\n",
    "#For early diagnosis we would like to focus on recall 1 to be high. People with early stages of the disease should diagnose\n",
    "#Few false negatives."
   ]
  },
  {
   "cell_type": "markdown",
   "metadata": {},
   "source": [
    "## Using only people before taking medication\n"
   ]
  },
  {
   "cell_type": "code",
   "execution_count": null,
   "metadata": {},
   "outputs": [],
   "source": [
    "#TapTableB = TapTableN[TapTableN['medTimepoint'] != \"Just after Parkinson medication (at your best)\"] \n",
    "#TapTableC = TapTableB[TapTableB['medTimepoint'] != \"Another time\"] \n",
    "\n",
    "#XX = TapTableC[['TapPerform','age','Male','Prefer not to answer']].to_numpy()\n",
    "#YY=TapTableC['PDOn'].to_numpy()\n",
    "#YY[YY!=0] = 1\n",
    "\n",
    "#XX_train, XX_test, yy_train, yy_test = train_test_split(XX,YY , test_size=0.3, random_state=1)\n",
    "\n",
    "##Training logistic regression\n",
    "#logregC = LogisticRegression()\n",
    "#logregC.fit(XX_train, yy_train)\n",
    "#yy_predC = logregC.predict(XX_test)\n",
    "#print('Accuracy of logistic regression classifier on test set: {:.2f}'.format(logregC.score(XX_test, yy_test)))\n",
    "#confusionMatrixC = confusion_matrix(yy_test, yy_predC)\n",
    "#print(confusionMatrixC)\n",
    "#print(classification_report(yy_test, yy_predC))\n",
    "#dispC = plot_confusion_matrix(logregC, XX_test, yy_test,cmap=plt.cm.Blues)\n",
    "\n"
   ]
  },
  {
   "cell_type": "code",
   "execution_count": null,
   "metadata": {},
   "outputs": [],
   "source": []
  },
  {
   "cell_type": "code",
   "execution_count": null,
   "metadata": {},
   "outputs": [],
   "source": [
    "##Plotting ROC Curve\n",
    "\n",
    "##Calculate probabilities. Notice that this is different than evaluating the predict y_pred\n",
    "#y_probC = logregC.predict_proba(XX_test)\n",
    "#y_prob1C = y_probC[:, 1]\n",
    "\n",
    "#fprC, tprC, thresholdC = metrics.roc_curve(yy_test, y_prob1C)\n",
    "#roc_aucC = metrics.auc(fprC, tprC)\n",
    "\n",
    "#plt.title('Receiver Operating Characteristic')\n",
    "#plt.plot(fprC, tprC, 'b', label = 'AUC = %0.2f' % roc_auc)\n",
    "#plt.legend(loc = 'lower right')\n",
    "#plt.plot([0, 1], [0, 1],'r--')\n",
    "#plt.xlim([0, 1])\n",
    "#plt.ylim([0, 1])\n",
    "#plt.ylabel('True Positive Rate')\n",
    "#plt.xlabel('False Positive Rate')\n",
    "#plt.show()\n",
    "##Saving this for using the new threshold\n",
    "##y_pred = (clf.predict_proba(X_test)[:,1] >= 0.3).astype(bool) # set threshold as 0.3\n",
    "##print(fprC)\n",
    "##print(fpr)"
   ]
  },
  {
   "cell_type": "markdown",
   "metadata": {},
   "source": [
    "## Graph to see time dependency"
   ]
  },
  {
   "cell_type": "code",
   "execution_count": null,
   "metadata": {},
   "outputs": [],
   "source": [
    "#Prob = logreg.predict_proba(X)\n",
    "#ProbOfPD=Prob[:, 1]\n",
    "#Ind=(TapTableN[\"diagnosis-year\"]!=0)\n",
    "#YearsPD=TapTableN[\"diagnosis-year\"]\n",
    "#nd=(YearsPD!=0)\n",
    "#YearsPD[Ind]=(2015-YearsPD[Ind])\n",
    "#plt.scatter(YearsPD, ProbOfPD, c=\"g\", alpha=0.5, marker=r'$\\clubsuit$',\n",
    "#            label=\"Luck\")\n",
    "#plt.xlim([-0.5, 20])\n",
    "#print(ProbOfPD[42])\n",
    "#print(YearsPD[42])\n",
    "##TapTableN[\"TimeDis\"][Ind]=(2015-TapTableN[\"diagnosis-year\"][Ind])\n",
    "##print(TapTableN[\"age\"][72])"
   ]
  },
  {
   "cell_type": "markdown",
   "metadata": {},
   "source": [
    "## Classifying using diagnostic year as starting point of the disease"
   ]
  },
  {
   "cell_type": "code",
   "execution_count": null,
   "metadata": {},
   "outputs": [],
   "source": [
    "#Let us look at a histogram of the diagnosis year and find quantiles\n",
    "\n",
    "\n",
    "#Bol=TapTableN[\"diagnosis-year\"]!=0 \n",
    "#Diagnosis=TapTableN[\"diagnosis-year\"][Bol]\n",
    "#Bol2=Diagnosis>1960\n",
    "#Diagnosis= 2015-Diagnosis[Bol2]\n",
    "#print(Diagnosis)\n",
    "##hist = Diagnosis.hist(bins=10)\n",
    "#YearsDiaQuant=Diagnosis.quantile([.25, .5, 0.75])\n",
    "\n",
    "##Drop values were diagnosis year does not make sense\n",
    "#Diagnosis = Diagnosis[Diagnosis > 15]\n",
    "#print(Diagnosis)\n",
    "\n",
    "\n"
   ]
  },
  {
   "cell_type": "markdown",
   "metadata": {},
   "source": [
    "## Classifier for first quantile"
   ]
  },
  {
   "cell_type": "code",
   "execution_count": null,
   "metadata": {},
   "outputs": [],
   "source": [
    "s1 = pd.Series([1, 1,2], index=['A', 'B','C'], name='s1')\n",
    "s2 = pd.Series([3, 4], index=['A', 'B'], name='s2')\n",
    "\n",
    "Temp=pd.concat([s1, s2], axis=1)"
   ]
  },
  {
   "cell_type": "code",
   "execution_count": null,
   "metadata": {},
   "outputs": [],
   "source": [
    "print(Temp)"
   ]
  },
  {
   "cell_type": "code",
   "execution_count": null,
   "metadata": {},
   "outputs": [],
   "source": [
    "Temp.std()"
   ]
  },
  {
   "cell_type": "code",
   "execution_count": null,
   "metadata": {},
   "outputs": [],
   "source": []
  },
  {
   "cell_type": "code",
   "execution_count": null,
   "metadata": {},
   "outputs": [],
   "source": []
  },
  {
   "cell_type": "code",
   "execution_count": null,
   "metadata": {},
   "outputs": [],
   "source": []
  }
 ],
 "metadata": {
  "kernelspec": {
   "display_name": "Python [conda env:insight] *",
   "language": "python",
   "name": "conda-env-insight-py"
  },
  "language_info": {
   "codemirror_mode": {
    "name": "ipython",
    "version": 3
   },
   "file_extension": ".py",
   "mimetype": "text/x-python",
   "name": "python",
   "nbconvert_exporter": "python",
   "pygments_lexer": "ipython3",
   "version": "3.8.5"
  }
 },
 "nbformat": 4,
 "nbformat_minor": 4
}
