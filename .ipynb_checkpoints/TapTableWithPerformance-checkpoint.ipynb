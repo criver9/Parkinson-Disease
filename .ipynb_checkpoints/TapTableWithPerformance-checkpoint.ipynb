{
 "cells": [
  {
   "cell_type": "markdown",
   "metadata": {},
   "source": [
    "## Creating the data set using tapping information for 70000 samples"
   ]
  },
  {
   "cell_type": "code",
   "execution_count": null,
   "metadata": {},
   "outputs": [],
   "source": [
    "import synapseclient\n",
    "import pandas as pd\n",
    "import json\n",
    "import csv"
   ]
  },
  {
   "cell_type": "code",
   "execution_count": null,
   "metadata": {},
   "outputs": [],
   "source": [
    "\n",
    "def TapPerformance(TapPD1):\n",
    "    TapPD1.loc[TapPD1.TappedButtonId == 'TappedButtonLeft', 'TappedButtonId'] = 0\n",
    "    TapPD1.loc[TapPD1.TappedButtonId == 'TappedButtonRight', 'TappedButtonId'] = 1\n",
    "    TapPD1.loc[TapPD1.TappedButtonId == 'TappedButtonNone', 'TappedButtonId'] = 2\n",
    "    #TapPD1.TappedButtonId[TapPD1.TappedButtonId == 'TappedButtonLeft'] = 0\n",
    "    #TapPD1.TappedButtonId[TapPD1.TappedButtonId == 'TappedButtonRight'] = 1\n",
    "    #TapPD1.TappedButtonId[TapPD1.TappedButtonId == 'TappedButtonNone'] = 2\n",
    "    TapPD1 = Artifactfixed1(TapPD1)\n",
    "    TapPerf= TapPD1.shape[0]\n",
    "    return (TapPerf)"
   ]
  },
  {
   "cell_type": "code",
   "execution_count": null,
   "metadata": {},
   "outputs": [],
   "source": [
    "#Index=list()\n",
    "def Artifactfixed(TapCont):\n",
    "    Ind =  [True] * TapCont.shape[0]\n",
    "    for item in range(0,TapCont.shape[0]-1):\n",
    "        if TapCont.TapCoordinate[item]==TapCont.TapCoordinate[item+1]:\n",
    "            if TapCont.TappedButtonId[item]==2:\n",
    "                Ind[item]=False\n",
    "            elif TapCont.TappedButtonId[item+1]==2:\n",
    "                Ind[item]=False\n",
    "    TapContArtFixed=TapCont[Ind]\n",
    "    return TapContArtFixed\n",
    "          "
   ]
  },
  {
   "cell_type": "code",
   "execution_count": null,
   "metadata": {},
   "outputs": [],
   "source": [
    "def Artifactfixed1(TapCont):\n",
    "    Ind =  [True] * TapCont.shape[0]\n",
    "    for item in range(0,TapCont.shape[0]-1):\n",
    "        if TapCont.TappedButtonId[item]==2:\n",
    "            Ind[item]=False\n",
    "    TapContArtFixed=TapCont[Ind]\n",
    "    return TapContArtFixed"
   ]
  },
  {
   "cell_type": "code",
   "execution_count": null,
   "metadata": {},
   "outputs": [],
   "source": [
    "Cred = open(\"Credentials.txt\",\"r\",encoding='utf8')\n",
    "lines=Cred.readlines()\n",
    "username1=lines[0][:-1]\n",
    "password1=lines[1][:-1]\n",
    "Cred.close()\n",
    "\n"
   ]
  },
  {
   "cell_type": "code",
   "execution_count": null,
   "metadata": {},
   "outputs": [],
   "source": [
    "syn = synapseclient.Synapse()\n",
    "syn.login(username1, password1)\n",
    "\n",
    "\n",
    "## QUERY THE mPower PROJECT (syn4993293) FOR ALL OF THE TABLES\n",
    "# See examples: https://python-docs.synapse.org/build/html/index.html \n",
    "# and https://www.synapse.org/#!Synapse:syn4993293/discussion/threadId=6785\n",
    "with open('TappingTable.csv') as csvfile:\n",
    "    TapTable=pd.read_csv(csvfile, delimiter=',')\n",
    "with open('DemoTable.csv') as csvfile:\n",
    "    DemoTable=pd.read_csv(csvfile, delimiter=',') \n",
    "#Using Patient column (healthCode) as index for the Data frames\n",
    "#TapTableB = TapTable.set_index(\"healthCode\", drop = False) \n",
    "#DemoTableB = DemoTable.set_index(\"healthCode\", drop = False)    \n",
    "\n",
    "      \n",
    "#TapPD = list()\n",
    "PathList = list()\n",
    "LabelList = list()\n",
    "#PatientType = list()\n",
    "#PatientList = list()\n",
    "#AgeList = list()\n",
    "Perform =list()\n",
    "for offset in range(0,70000,100):\n",
    "    results = syn.tableQuery('SELECT * FROM syn5511439 LIMIT 100 OFFSET '+str(offset))\n",
    "    file_map=syn.downloadTableColumns(results,['tapping_results.json.TappingSamples'])\n",
    "    for file_handle_id, path in file_map.items():\n",
    "        #TapPD.append(pd.read_json(path))\n",
    "        PathList.append(path)\n",
    "        LabelList.append(int(file_handle_id))\n",
    "        #PatientType.append(TapTableB['medTimepoint'][TapTable['tapping_results.json.TappingSamples'] == int(file_handle_id)])\n",
    "        Perform.append(TapPerformance(pd.read_json(path))) #Tap performance\n",
    "        #PatientList.append(TapTableB['healthCode'][TapTableB['tapping_results.json.TappingSamples'] == int(file_handle_id)])\n",
    "        #DemoTableB.loc[(TapTableB['healthCode'][TapTableB['tapping_results.json.TappingSamples'] == int(file_handle_id)]),\"age\"]\n",
    "        "
   ]
  },
  {
   "cell_type": "code",
   "execution_count": null,
   "metadata": {},
   "outputs": [],
   "source": [
    "TapTable.columns\n",
    "#Drop columns no needed\n",
    "#TapTable=TapTable.drop(['ROW_ID', 'ROW_VERSION','recordId','createdOn','appVersion','phoneInfo','accel_tapping.json.items','tapping_results.json.ButtonRectLeft','tapping_results.json.ButtonRectRight','tapping_results.json.endDate','tapping_results.json.startDate','tapping_results.json.TappingViewSize','medTimepoint'], axis=1)\n",
    "#Creating directory\n",
    "d = {'tapping_results.json.TappingSamples':LabelList,'TapPerform':Perform}\n",
    "PerfInfo = pd.DataFrame(d)\n",
    "#Merges TapTables with the PerfInfo and drops thos values in TapTable that are not defined in PerInfo\n",
    "#TapTable=TapTable.merge(PerfInfo,left_on='tapping_results.json.TappingSamples', right_on='tapping_results.json.TappingSamples')\n",
    "TapTable=TapTable.merge(PerfInfo)\n",
    "\n"
   ]
  },
  {
   "cell_type": "code",
   "execution_count": null,
   "metadata": {},
   "outputs": [],
   "source": [
    "#Save to a csv file\n",
    "TapTable.head()\n",
    "TapTable.to_csv(r'/Users/catalina/Dropbox/Insight/Parkinson Disease\\TappingTableWithPerform.csv')\n"
   ]
  }
 ],
 "metadata": {
  "kernelspec": {
   "display_name": "Python [conda env:insight] *",
   "language": "python",
   "name": "conda-env-insight-py"
  },
  "language_info": {
   "codemirror_mode": {
    "name": "ipython",
    "version": 3
   },
   "file_extension": ".py",
   "mimetype": "text/x-python",
   "name": "python",
   "nbconvert_exporter": "python",
   "pygments_lexer": "ipython3",
   "version": "3.8.5"
  }
 },
 "nbformat": 4,
 "nbformat_minor": 4
}
