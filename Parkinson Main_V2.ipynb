{
 "cells": [
  {
   "cell_type": "markdown",
   "metadata": {},
   "source": [
    "## Classification of Parkinson patients using an extra feature of Tapping: Std of the interval."
   ]
  },
  {
   "cell_type": "code",
   "execution_count": 1,
   "metadata": {},
   "outputs": [],
   "source": [
    "import synapseclient\n",
    "import pandas as pd\n",
    "import json\n",
    "import csv\n",
    "import matplotlib.pyplot as plt"
   ]
  },
  {
   "cell_type": "code",
   "execution_count": 2,
   "metadata": {},
   "outputs": [],
   "source": [
    "def TapPerformance(TapPD1):\n",
    "    TapPD1.loc[TapPD1.TappedButtonId == 'TappedButtonLeft', 'TappedButtonId'] = 0\n",
    "    TapPD1.loc[TapPD1.TappedButtonId == 'TappedButtonRight', 'TappedButtonId'] = 1\n",
    "    TapPD1.loc[TapPD1.TappedButtonId == 'TappedButtonNone', 'TappedButtonId'] = 2\n",
    "    #TapPD1.TappedButtonId[TapPD1.TappedButtonId == 'TappedButtonLeft'] = 0\n",
    "    #TapPD1.TappedButtonId[TapPD1.TappedButtonId == 'TappedButtonRight'] = 1\n",
    "    #TapPD1.TappedButtonId[TapPD1.TappedButtonId == 'TappedButtonNone'] = 2\n",
    "    TapPD1 = Artifactfixed(TapPD1)\n",
    "    TapPerf= TapPD1.shape[0]\n",
    "    Temp=TapPD1.TapTimeStamp.to_numpy()\n",
    "    Int=Temp[2:-1]-Temp[1:-2]\n",
    "    TapStd=Int.std()\n",
    "    return ([TapPerf,TapStd])"
   ]
  },
  {
   "cell_type": "code",
   "execution_count": 3,
   "metadata": {},
   "outputs": [],
   "source": [
    "#Index=list()\n",
    "def Artifactfixed(TapCont):\n",
    "    Ind =  [True] * TapCont.shape[0] #Make a column of Trues\n",
    "    for item in range(0,TapCont.shape[0]-1):\n",
    "        if TapCont.TapCoordinate[item]==TapCont.TapCoordinate[item+1]:\n",
    "            if TapCont.TappedButtonId[item]==2:\n",
    "                Ind[item]=False\n",
    "            elif TapCont.TappedButtonId[item+1]==2:\n",
    "                Ind[item]=False\n",
    "    TapContArtFixed=TapCont[Ind]\n",
    "    \n",
    "    return TapContArtFixed\n",
    "          "
   ]
  },
  {
   "cell_type": "code",
   "execution_count": 4,
   "metadata": {
    "scrolled": false
   },
   "outputs": [
    {
     "name": "stdout",
     "output_type": "stream",
     "text": [
      "Welcome, Catalina Rivera!\n",
      "\n",
      "Downloading 0 files, 100 cached locally\n",
      "Downloading 0 files, 100 cached locally\n",
      "Downloading 0 files, 100 cached locally\n",
      "Downloading 0 files, 100 cached locally\n",
      "Downloading 0 files, 100 cached locally\n",
      "Downloading 0 files, 100 cached locally\n",
      "Downloading 0 files, 100 cached locally\n",
      "Downloading 0 files, 100 cached locally\n",
      "Downloading 0 files, 100 cached locally\n",
      "Downloading 0 files, 100 cached locally\n",
      "Downloading 0 files, 100 cached locally\n",
      "Downloading 0 files, 100 cached locally\n",
      "Downloading 0 files, 100 cached locally\n",
      "Downloading 0 files, 100 cached locally\n",
      "Downloading 0 files, 100 cached locally\n",
      "Downloading 0 files, 100 cached locally\n",
      "Downloading 0 files, 100 cached locally\n",
      "Downloading 0 files, 100 cached locally\n",
      "Downloading 0 files, 100 cached locally\n",
      "Downloading 0 files, 100 cached locally\n",
      "Downloading 0 files, 100 cached locally\n",
      "Downloading 0 files, 100 cached locally\n",
      "Downloading 0 files, 100 cached locally\n",
      "Downloading 0 files, 100 cached locally\n",
      "Downloading 0 files, 100 cached locally\n",
      "Downloading 0 files, 100 cached locally\n",
      "Downloading 0 files, 100 cached locally\n",
      "Downloading 0 files, 100 cached locally\n",
      "Downloading 0 files, 100 cached locally\n",
      "Downloading 0 files, 100 cached locally\n",
      "Downloading 0 files, 100 cached locally\n",
      "Downloading 0 files, 100 cached locally\n",
      "Downloading 0 files, 100 cached locally\n",
      "Downloading 0 files, 100 cached locally\n",
      "Downloading 0 files, 100 cached locally\n",
      "Downloading 0 files, 100 cached locally\n",
      "Downloading 0 files, 100 cached locally\n",
      "Downloading 0 files, 100 cached locally\n",
      "Downloading 0 files, 100 cached locally\n",
      "Downloading 0 files, 100 cached locally\n",
      "Downloading 0 files, 100 cached locally\n",
      "Downloading 0 files, 100 cached locally\n",
      "Downloading 0 files, 100 cached locally\n",
      "Downloading 0 files, 100 cached locally\n",
      "Downloading 0 files, 100 cached locally\n",
      "Downloading 0 files, 100 cached locally\n",
      "Downloading 0 files, 100 cached locally\n",
      "Downloading 0 files, 100 cached locally\n",
      "Downloading 0 files, 100 cached locally\n",
      "Downloading 0 files, 100 cached locally\n",
      "Downloading 0 files, 100 cached locally\n",
      "Downloading 0 files, 100 cached locally\n",
      "Downloading 0 files, 100 cached locally\n",
      "Downloading 0 files, 100 cached locally\n",
      "Downloading 0 files, 100 cached locally\n",
      "Downloading 0 files, 100 cached locally\n",
      "Downloading 0 files, 100 cached locally\n",
      "Downloading 0 files, 100 cached locally\n",
      "Downloading 0 files, 100 cached locally\n",
      "Downloading 0 files, 100 cached locally\n",
      "Downloading 0 files, 100 cached locally\n",
      "Downloading 0 files, 100 cached locally\n",
      "Downloading 0 files, 100 cached locally\n",
      "Downloading 0 files, 100 cached locally\n",
      "Downloading 0 files, 100 cached locally\n",
      "Downloading 0 files, 100 cached locally\n",
      "Downloading 0 files, 100 cached locally\n",
      "Downloading 0 files, 100 cached locally\n",
      "Downloading 0 files, 100 cached locally\n",
      "Downloading 0 files, 100 cached locally\n",
      "Downloading 0 files, 100 cached locally\n",
      "Downloading 0 files, 100 cached locally\n",
      "Downloading 0 files, 100 cached locally\n",
      "Downloading 0 files, 100 cached locally\n",
      "Downloading 0 files, 100 cached locally\n",
      "Downloading 0 files, 100 cached locally\n",
      "Downloading 0 files, 100 cached locally\n",
      "Downloading 0 files, 100 cached locally\n",
      "Downloading 0 files, 100 cached locally\n",
      "Downloading 0 files, 100 cached locally\n",
      "Downloading 0 files, 100 cached locally\n",
      "Downloading 0 files, 100 cached locally\n",
      "Downloading 0 files, 100 cached locally\n",
      "Downloading 0 files, 100 cached locally\n",
      "Downloading 0 files, 100 cached locally\n",
      "Downloading 0 files, 100 cached locally\n",
      "Downloading 0 files, 100 cached locally\n",
      "Downloading 0 files, 100 cached locally\n",
      "Downloading 0 files, 100 cached locally\n",
      "Downloading 0 files, 100 cached locally\n",
      "Downloading 0 files, 100 cached locally\n",
      "Downloading 0 files, 100 cached locally\n",
      "Downloading 0 files, 100 cached locally\n",
      "Downloading 0 files, 100 cached locally\n",
      "Downloading 0 files, 100 cached locally\n",
      "Downloading 0 files, 100 cached locally\n",
      "Downloading 0 files, 100 cached locally\n",
      "Downloading 0 files, 100 cached locally\n",
      "Downloading 0 files, 100 cached locally\n",
      "Downloading 0 files, 100 cached locally\n"
     ]
    }
   ],
   "source": [
    "\n",
    "syn = synapseclient.Synapse()\n",
    "syn.login('catarivera8', 'Crm1061709701')\n",
    "\n",
    "\n",
    "## QUERY THE mPower PROJECT (syn4993293) FOR ALL OF THE TABLES\n",
    "# See examples: https://python-docs.synapse.org/build/html/index.html \n",
    "# and https://www.synapse.org/#!Synapse:syn4993293/discussion/threadId=6785\n",
    "with open('TappingTable.csv') as csvfile:\n",
    "    TapTable=pd.read_csv(csvfile, delimiter=',')\n",
    "with open('DemoTable.csv') as csvfile:\n",
    "    DemoTable=pd.read_csv(csvfile, delimiter=',') \n",
    "\n",
    "#Using Patient column (healthCode) as index for the Data frames\n",
    "#TapTableB = TapTable.set_index(\"healthCode\", drop = False) \n",
    "#DemoTableB = DemoTable.set_index(\"healthCode\", drop = False)    \n",
    "\n",
    "      \n",
    "#TapPD = list()\n",
    "PathList = list()\n",
    "LabelList = list()\n",
    "#PatientType = list()\n",
    "#PatientList = list()\n",
    "#AgeList = list()\n",
    "Perform =list()\n",
    "TapStd = list ()\n",
    "for offset in range(0,100,100):\n",
    "    results = syn.tableQuery('SELECT * FROM syn5511439 LIMIT 100 OFFSET '+str(offset))\n",
    "    file_map=syn.downloadTableColumns(results,['tapping_results.json.TappingSamples'])\n",
    "    for file_handle_id, path in file_map.items():\n",
    "        #TapPD.append(pd.read_json(path))\n",
    "        PathList.append(path)\n",
    "        LabelList.append(int(file_handle_id))\n",
    "        #PatientType.append(TapTableB['medTimepoint'][TapTable['tapping_results.json.TappingSamples'] == int(file_handle_id)])\n",
    "        Perform.append(TapPerformance(pd.read_json(path))[0]) #Tap performance\n",
    "        TapStd.append(TapPerformance(pd.read_json(path))[1]) #Tap performance\n",
    "        #PatientList.append(TapTableB['healthCode'][TapTableB['tapping_results.json.TappingSamples'] == int(file_handle_id)])\n",
    "        #DemoTableB.loc[(TapTableB['healthCode'][TapTableB['tapping_results.json.TappingSamples'] == int(file_handle_id)]),\"age\"]\n",
    "        "
   ]
  },
  {
   "cell_type": "code",
   "execution_count": 5,
   "metadata": {},
   "outputs": [
    {
     "data": {
      "text/plain": [
       "0.056573108573882286"
      ]
     },
     "execution_count": 5,
     "metadata": {},
     "output_type": "execute_result"
    }
   ],
   "source": [
    "\n",
    "TapPerformance(pd.read_json(path))[1]"
   ]
  },
  {
   "cell_type": "markdown",
   "metadata": {},
   "source": [
    "## Building data frame using tapping performance and demographic information"
   ]
  },
  {
   "cell_type": "code",
   "execution_count": 23,
   "metadata": {},
   "outputs": [
    {
     "ename": "KeyError",
     "evalue": "\"['ROW_ID' 'ROW_VERSION' 'recordId' 'createdOn' 'appVersion' 'phoneInfo'\\n 'accel_tapping.json.items' 'tapping_results.json.ButtonRectLeft'\\n 'tapping_results.json.ButtonRectRight' 'tapping_results.json.endDate'\\n 'tapping_results.json.startDate' 'tapping_results.json.TappingViewSize'\\n 'medTimepoint'] not found in axis\"",
     "output_type": "error",
     "traceback": [
      "\u001b[0;31m---------------------------------------------------------------------------\u001b[0m",
      "\u001b[0;31mKeyError\u001b[0m                                  Traceback (most recent call last)",
      "\u001b[0;32m<ipython-input-23-ecbfc6a1489a>\u001b[0m in \u001b[0;36m<module>\u001b[0;34m\u001b[0m\n\u001b[1;32m      1\u001b[0m \u001b[0mTapTable\u001b[0m\u001b[0;34m.\u001b[0m\u001b[0mcolumns\u001b[0m\u001b[0;34m\u001b[0m\u001b[0;34m\u001b[0m\u001b[0m\n\u001b[1;32m      2\u001b[0m \u001b[0;31m#Drop columns no needed\u001b[0m\u001b[0;34m\u001b[0m\u001b[0;34m\u001b[0m\u001b[0;34m\u001b[0m\u001b[0m\n\u001b[0;32m----> 3\u001b[0;31m \u001b[0mTapTable\u001b[0m\u001b[0;34m=\u001b[0m\u001b[0mTapTable\u001b[0m\u001b[0;34m.\u001b[0m\u001b[0mdrop\u001b[0m\u001b[0;34m(\u001b[0m\u001b[0;34m[\u001b[0m\u001b[0;34m'ROW_ID'\u001b[0m\u001b[0;34m,\u001b[0m \u001b[0;34m'ROW_VERSION'\u001b[0m\u001b[0;34m,\u001b[0m\u001b[0;34m'recordId'\u001b[0m\u001b[0;34m,\u001b[0m\u001b[0;34m'createdOn'\u001b[0m\u001b[0;34m,\u001b[0m\u001b[0;34m'appVersion'\u001b[0m\u001b[0;34m,\u001b[0m\u001b[0;34m'phoneInfo'\u001b[0m\u001b[0;34m,\u001b[0m\u001b[0;34m'accel_tapping.json.items'\u001b[0m\u001b[0;34m,\u001b[0m\u001b[0;34m'tapping_results.json.ButtonRectLeft'\u001b[0m\u001b[0;34m,\u001b[0m\u001b[0;34m'tapping_results.json.ButtonRectRight'\u001b[0m\u001b[0;34m,\u001b[0m\u001b[0;34m'tapping_results.json.endDate'\u001b[0m\u001b[0;34m,\u001b[0m\u001b[0;34m'tapping_results.json.startDate'\u001b[0m\u001b[0;34m,\u001b[0m\u001b[0;34m'tapping_results.json.TappingViewSize'\u001b[0m\u001b[0;34m,\u001b[0m\u001b[0;34m'medTimepoint'\u001b[0m\u001b[0;34m]\u001b[0m\u001b[0;34m,\u001b[0m \u001b[0maxis\u001b[0m\u001b[0;34m=\u001b[0m\u001b[0;36m1\u001b[0m\u001b[0;34m)\u001b[0m\u001b[0;34m\u001b[0m\u001b[0;34m\u001b[0m\u001b[0m\n\u001b[0m\u001b[1;32m      4\u001b[0m \u001b[0;31m#Creating directory\u001b[0m\u001b[0;34m\u001b[0m\u001b[0;34m\u001b[0m\u001b[0;34m\u001b[0m\u001b[0m\n\u001b[1;32m      5\u001b[0m \u001b[0md\u001b[0m \u001b[0;34m=\u001b[0m \u001b[0;34m{\u001b[0m\u001b[0;34m'tapping_results.json.TappingSamples'\u001b[0m\u001b[0;34m:\u001b[0m\u001b[0mLabelList\u001b[0m\u001b[0;34m,\u001b[0m\u001b[0;34m'TapPerform'\u001b[0m\u001b[0;34m:\u001b[0m\u001b[0mPerform\u001b[0m\u001b[0;34m,\u001b[0m\u001b[0;34m'TapStd'\u001b[0m\u001b[0;34m:\u001b[0m\u001b[0mTapStd\u001b[0m\u001b[0;34m}\u001b[0m\u001b[0;34m\u001b[0m\u001b[0;34m\u001b[0m\u001b[0m\n",
      "\u001b[0;32m~/anaconda/envs/insight/lib/python3.8/site-packages/pandas/core/frame.py\u001b[0m in \u001b[0;36mdrop\u001b[0;34m(self, labels, axis, index, columns, level, inplace, errors)\u001b[0m\n\u001b[1;32m   4158\u001b[0m                 \u001b[0mweight\u001b[0m  \u001b[0;36m1.0\u001b[0m     \u001b[0;36m0.8\u001b[0m\u001b[0;34m\u001b[0m\u001b[0;34m\u001b[0m\u001b[0m\n\u001b[1;32m   4159\u001b[0m         \"\"\"\n\u001b[0;32m-> 4160\u001b[0;31m         return super().drop(\n\u001b[0m\u001b[1;32m   4161\u001b[0m             \u001b[0mlabels\u001b[0m\u001b[0;34m=\u001b[0m\u001b[0mlabels\u001b[0m\u001b[0;34m,\u001b[0m\u001b[0;34m\u001b[0m\u001b[0;34m\u001b[0m\u001b[0m\n\u001b[1;32m   4162\u001b[0m             \u001b[0maxis\u001b[0m\u001b[0;34m=\u001b[0m\u001b[0maxis\u001b[0m\u001b[0;34m,\u001b[0m\u001b[0;34m\u001b[0m\u001b[0;34m\u001b[0m\u001b[0m\n",
      "\u001b[0;32m~/anaconda/envs/insight/lib/python3.8/site-packages/pandas/core/generic.py\u001b[0m in \u001b[0;36mdrop\u001b[0;34m(self, labels, axis, index, columns, level, inplace, errors)\u001b[0m\n\u001b[1;32m   3876\u001b[0m         \u001b[0;32mfor\u001b[0m \u001b[0maxis\u001b[0m\u001b[0;34m,\u001b[0m \u001b[0mlabels\u001b[0m \u001b[0;32min\u001b[0m \u001b[0maxes\u001b[0m\u001b[0;34m.\u001b[0m\u001b[0mitems\u001b[0m\u001b[0;34m(\u001b[0m\u001b[0;34m)\u001b[0m\u001b[0;34m:\u001b[0m\u001b[0;34m\u001b[0m\u001b[0;34m\u001b[0m\u001b[0m\n\u001b[1;32m   3877\u001b[0m             \u001b[0;32mif\u001b[0m \u001b[0mlabels\u001b[0m \u001b[0;32mis\u001b[0m \u001b[0;32mnot\u001b[0m \u001b[0;32mNone\u001b[0m\u001b[0;34m:\u001b[0m\u001b[0;34m\u001b[0m\u001b[0;34m\u001b[0m\u001b[0m\n\u001b[0;32m-> 3878\u001b[0;31m                 \u001b[0mobj\u001b[0m \u001b[0;34m=\u001b[0m \u001b[0mobj\u001b[0m\u001b[0;34m.\u001b[0m\u001b[0m_drop_axis\u001b[0m\u001b[0;34m(\u001b[0m\u001b[0mlabels\u001b[0m\u001b[0;34m,\u001b[0m \u001b[0maxis\u001b[0m\u001b[0;34m,\u001b[0m \u001b[0mlevel\u001b[0m\u001b[0;34m=\u001b[0m\u001b[0mlevel\u001b[0m\u001b[0;34m,\u001b[0m \u001b[0merrors\u001b[0m\u001b[0;34m=\u001b[0m\u001b[0merrors\u001b[0m\u001b[0;34m)\u001b[0m\u001b[0;34m\u001b[0m\u001b[0;34m\u001b[0m\u001b[0m\n\u001b[0m\u001b[1;32m   3879\u001b[0m \u001b[0;34m\u001b[0m\u001b[0m\n\u001b[1;32m   3880\u001b[0m         \u001b[0;32mif\u001b[0m \u001b[0minplace\u001b[0m\u001b[0;34m:\u001b[0m\u001b[0;34m\u001b[0m\u001b[0;34m\u001b[0m\u001b[0m\n",
      "\u001b[0;32m~/anaconda/envs/insight/lib/python3.8/site-packages/pandas/core/generic.py\u001b[0m in \u001b[0;36m_drop_axis\u001b[0;34m(self, labels, axis, level, errors)\u001b[0m\n\u001b[1;32m   3910\u001b[0m                 \u001b[0mnew_axis\u001b[0m \u001b[0;34m=\u001b[0m \u001b[0maxis\u001b[0m\u001b[0;34m.\u001b[0m\u001b[0mdrop\u001b[0m\u001b[0;34m(\u001b[0m\u001b[0mlabels\u001b[0m\u001b[0;34m,\u001b[0m \u001b[0mlevel\u001b[0m\u001b[0;34m=\u001b[0m\u001b[0mlevel\u001b[0m\u001b[0;34m,\u001b[0m \u001b[0merrors\u001b[0m\u001b[0;34m=\u001b[0m\u001b[0merrors\u001b[0m\u001b[0;34m)\u001b[0m\u001b[0;34m\u001b[0m\u001b[0;34m\u001b[0m\u001b[0m\n\u001b[1;32m   3911\u001b[0m             \u001b[0;32melse\u001b[0m\u001b[0;34m:\u001b[0m\u001b[0;34m\u001b[0m\u001b[0;34m\u001b[0m\u001b[0m\n\u001b[0;32m-> 3912\u001b[0;31m                 \u001b[0mnew_axis\u001b[0m \u001b[0;34m=\u001b[0m \u001b[0maxis\u001b[0m\u001b[0;34m.\u001b[0m\u001b[0mdrop\u001b[0m\u001b[0;34m(\u001b[0m\u001b[0mlabels\u001b[0m\u001b[0;34m,\u001b[0m \u001b[0merrors\u001b[0m\u001b[0;34m=\u001b[0m\u001b[0merrors\u001b[0m\u001b[0;34m)\u001b[0m\u001b[0;34m\u001b[0m\u001b[0;34m\u001b[0m\u001b[0m\n\u001b[0m\u001b[1;32m   3913\u001b[0m             \u001b[0mresult\u001b[0m \u001b[0;34m=\u001b[0m \u001b[0mself\u001b[0m\u001b[0;34m.\u001b[0m\u001b[0mreindex\u001b[0m\u001b[0;34m(\u001b[0m\u001b[0;34m**\u001b[0m\u001b[0;34m{\u001b[0m\u001b[0maxis_name\u001b[0m\u001b[0;34m:\u001b[0m \u001b[0mnew_axis\u001b[0m\u001b[0;34m}\u001b[0m\u001b[0;34m)\u001b[0m\u001b[0;34m\u001b[0m\u001b[0;34m\u001b[0m\u001b[0m\n\u001b[1;32m   3914\u001b[0m \u001b[0;34m\u001b[0m\u001b[0m\n",
      "\u001b[0;32m~/anaconda/envs/insight/lib/python3.8/site-packages/pandas/core/indexes/base.py\u001b[0m in \u001b[0;36mdrop\u001b[0;34m(self, labels, errors)\u001b[0m\n\u001b[1;32m   5274\u001b[0m         \u001b[0;32mif\u001b[0m \u001b[0mmask\u001b[0m\u001b[0;34m.\u001b[0m\u001b[0many\u001b[0m\u001b[0;34m(\u001b[0m\u001b[0;34m)\u001b[0m\u001b[0;34m:\u001b[0m\u001b[0;34m\u001b[0m\u001b[0;34m\u001b[0m\u001b[0m\n\u001b[1;32m   5275\u001b[0m             \u001b[0;32mif\u001b[0m \u001b[0merrors\u001b[0m \u001b[0;34m!=\u001b[0m \u001b[0;34m\"ignore\"\u001b[0m\u001b[0;34m:\u001b[0m\u001b[0;34m\u001b[0m\u001b[0;34m\u001b[0m\u001b[0m\n\u001b[0;32m-> 5276\u001b[0;31m                 \u001b[0;32mraise\u001b[0m \u001b[0mKeyError\u001b[0m\u001b[0;34m(\u001b[0m\u001b[0;34mf\"{labels[mask]} not found in axis\"\u001b[0m\u001b[0;34m)\u001b[0m\u001b[0;34m\u001b[0m\u001b[0;34m\u001b[0m\u001b[0m\n\u001b[0m\u001b[1;32m   5277\u001b[0m             \u001b[0mindexer\u001b[0m \u001b[0;34m=\u001b[0m \u001b[0mindexer\u001b[0m\u001b[0;34m[\u001b[0m\u001b[0;34m~\u001b[0m\u001b[0mmask\u001b[0m\u001b[0;34m]\u001b[0m\u001b[0;34m\u001b[0m\u001b[0;34m\u001b[0m\u001b[0m\n\u001b[1;32m   5278\u001b[0m         \u001b[0;32mreturn\u001b[0m \u001b[0mself\u001b[0m\u001b[0;34m.\u001b[0m\u001b[0mdelete\u001b[0m\u001b[0;34m(\u001b[0m\u001b[0mindexer\u001b[0m\u001b[0;34m)\u001b[0m\u001b[0;34m\u001b[0m\u001b[0;34m\u001b[0m\u001b[0m\n",
      "\u001b[0;31mKeyError\u001b[0m: \"['ROW_ID' 'ROW_VERSION' 'recordId' 'createdOn' 'appVersion' 'phoneInfo'\\n 'accel_tapping.json.items' 'tapping_results.json.ButtonRectLeft'\\n 'tapping_results.json.ButtonRectRight' 'tapping_results.json.endDate'\\n 'tapping_results.json.startDate' 'tapping_results.json.TappingViewSize'\\n 'medTimepoint'] not found in axis\""
     ]
    }
   ],
   "source": [
    "TapTable.columns\n",
    "#Drop columns no needed\n",
    "TapTable=TapTable.drop(['ROW_ID', 'ROW_VERSION','recordId','createdOn','appVersion','phoneInfo','accel_tapping.json.items','tapping_results.json.ButtonRectLeft','tapping_results.json.ButtonRectRight','tapping_results.json.endDate','tapping_results.json.startDate','tapping_results.json.TappingViewSize','medTimepoint'], axis=1)\n",
    "#Creating directory\n",
    "d = {'tapping_results.json.TappingSamples':LabelList,'TapPerform':Perform,'TapStd':TapStd}\n",
    "PerfInfo = pd.DataFrame(d)\n",
    "#Merges TapTables with the PerfInfo and drops thos values in TapTable that are not defined in PerInfo\n",
    "#TapTable=TapTable.merge(PerfInfo,left_on='tapping_results.json.TappingSamples', right_on='tapping_results.json.TappingSamples')\n",
    "TapTable=TapTable.merge(PerfInfo)\n"
   ]
  },
  {
   "cell_type": "code",
   "execution_count": 7,
   "metadata": {
    "scrolled": true
   },
   "outputs": [
    {
     "data": {
      "text/plain": [
       "(8759, 7)"
      ]
     },
     "execution_count": 7,
     "metadata": {},
     "output_type": "execute_result"
    }
   ],
   "source": [
    "\n",
    "#Sub-DataFrame of Demo Table with only features of interest: Age, diagnostic year, gender.\n",
    "#DemoTable.head()\n",
    "DemoTableN=DemoTable[[\"age\",\"healthCode\",\"diagnosis-year\",\"gender\"]]\n",
    "DemoTableN.shape\n",
    "#Merges TapTables with the PerfInfo and drops thos values in TapTable that are not defined in PerInfo\n",
    "TapTableN=TapTable.merge(DemoTableN)\n",
    "TapTableN.head()\n",
    "TapTableN.shape\n",
    "\n"
   ]
  },
  {
   "cell_type": "code",
   "execution_count": 8,
   "metadata": {},
   "outputs": [],
   "source": [
    "TapTableN=TapTableN.dropna(subset=['age','gender'])"
   ]
  },
  {
   "cell_type": "code",
   "execution_count": 9,
   "metadata": {},
   "outputs": [],
   "source": [
    "# change gender column to categorical 0:female, 1: male\n",
    "df_gender = pd.get_dummies(TapTableN['gender'],drop_first=True)\n",
    "#print(TapTableN.gender.value_counts())\n",
    "TapTableN = pd.concat([TapTableN, df_gender], axis=1)\n",
    "TapTableN=TapTableN.drop(['healthCode', 'tapping_results.json.TappingSamples','gender'], axis=1)\n",
    "\n"
   ]
  },
  {
   "cell_type": "code",
   "execution_count": 10,
   "metadata": {},
   "outputs": [
    {
     "data": {
      "text/html": [
       "<div>\n",
       "<style scoped>\n",
       "    .dataframe tbody tr th:only-of-type {\n",
       "        vertical-align: middle;\n",
       "    }\n",
       "\n",
       "    .dataframe tbody tr th {\n",
       "        vertical-align: top;\n",
       "    }\n",
       "\n",
       "    .dataframe thead th {\n",
       "        text-align: right;\n",
       "    }\n",
       "</style>\n",
       "<table border=\"1\" class=\"dataframe\">\n",
       "  <thead>\n",
       "    <tr style=\"text-align: right;\">\n",
       "      <th></th>\n",
       "      <th>TapPerform</th>\n",
       "      <th>TapStd</th>\n",
       "      <th>age</th>\n",
       "      <th>diagnosis-year</th>\n",
       "      <th>Male</th>\n",
       "      <th>Prefer not to answer</th>\n",
       "    </tr>\n",
       "  </thead>\n",
       "  <tbody>\n",
       "    <tr>\n",
       "      <th>0</th>\n",
       "      <td>294</td>\n",
       "      <td>0.055531</td>\n",
       "      <td>24.0</td>\n",
       "      <td>NaN</td>\n",
       "      <td>1</td>\n",
       "      <td>0</td>\n",
       "    </tr>\n",
       "    <tr>\n",
       "      <th>1</th>\n",
       "      <td>289</td>\n",
       "      <td>0.067300</td>\n",
       "      <td>38.0</td>\n",
       "      <td>NaN</td>\n",
       "      <td>0</td>\n",
       "      <td>0</td>\n",
       "    </tr>\n",
       "    <tr>\n",
       "      <th>2</th>\n",
       "      <td>374</td>\n",
       "      <td>0.051683</td>\n",
       "      <td>38.0</td>\n",
       "      <td>NaN</td>\n",
       "      <td>0</td>\n",
       "      <td>0</td>\n",
       "    </tr>\n",
       "    <tr>\n",
       "      <th>3</th>\n",
       "      <td>164</td>\n",
       "      <td>0.086007</td>\n",
       "      <td>32.0</td>\n",
       "      <td>NaN</td>\n",
       "      <td>1</td>\n",
       "      <td>0</td>\n",
       "    </tr>\n",
       "    <tr>\n",
       "      <th>4</th>\n",
       "      <td>229</td>\n",
       "      <td>0.072284</td>\n",
       "      <td>32.0</td>\n",
       "      <td>NaN</td>\n",
       "      <td>1</td>\n",
       "      <td>0</td>\n",
       "    </tr>\n",
       "  </tbody>\n",
       "</table>\n",
       "</div>"
      ],
      "text/plain": [
       "   TapPerform    TapStd   age  diagnosis-year  Male  Prefer not to answer\n",
       "0         294  0.055531  24.0             NaN     1                     0\n",
       "1         289  0.067300  38.0             NaN     0                     0\n",
       "2         374  0.051683  38.0             NaN     0                     0\n",
       "3         164  0.086007  32.0             NaN     1                     0\n",
       "4         229  0.072284  32.0             NaN     1                     0"
      ]
     },
     "execution_count": 10,
     "metadata": {},
     "output_type": "execute_result"
    }
   ],
   "source": [
    "TapTableN.head()\n"
   ]
  },
  {
   "cell_type": "code",
   "execution_count": 11,
   "metadata": {},
   "outputs": [
    {
     "name": "stdout",
     "output_type": "stream",
     "text": [
      "      TapPerform    TapStd   age  diagnosis-year  Male  Prefer not to answer  \\\n",
      "0            294  0.055531  24.0             NaN     1                     0   \n",
      "1            289  0.067300  38.0             NaN     0                     0   \n",
      "2            374  0.051683  38.0             NaN     0                     0   \n",
      "3            164  0.086007  32.0             NaN     1                     0   \n",
      "4            229  0.072284  32.0             NaN     1                     0   \n",
      "...          ...       ...   ...             ...   ...                   ...   \n",
      "8754          99  0.188803  70.0             4.0     1                     0   \n",
      "8755          62  0.205342  70.0             4.0     1                     0   \n",
      "8756         176  0.119105  61.0             1.0     1                     0   \n",
      "8757         477  0.039186  38.0             NaN     1                     0   \n",
      "8758         241  0.029536  25.0             NaN     1                     0   \n",
      "\n",
      "      YearsPD  \n",
      "0           0  \n",
      "1           0  \n",
      "2           0  \n",
      "3           0  \n",
      "4           0  \n",
      "...       ...  \n",
      "8754        1  \n",
      "8755        1  \n",
      "8756        1  \n",
      "8757        0  \n",
      "8758        0  \n",
      "\n",
      "[8694 rows x 7 columns]\n"
     ]
    }
   ],
   "source": [
    "# diagnosis-year becomes years with diagnosed disease\n",
    "TapTableN['diagnosis-year']=(2015-TapTableN['diagnosis-year'])\n",
    "#NAN REPLACED WITH ZERO AND OTHER INT REPLACED WITH ONE\n",
    "dfb = TapTableN['diagnosis-year'].notnull().astype(int)\n",
    "TapTableN['YearsPD']=dfb\n",
    "print(TapTableN)\n"
   ]
  },
  {
   "cell_type": "code",
   "execution_count": 12,
   "metadata": {},
   "outputs": [],
   "source": [
    "X=TapTableN[['TapPerform', 'age','Male']]\n",
    "y=TapTableN['YearsPD']"
   ]
  },
  {
   "cell_type": "markdown",
   "metadata": {},
   "source": [
    "## Building the model"
   ]
  },
  {
   "cell_type": "code",
   "execution_count": 13,
   "metadata": {},
   "outputs": [],
   "source": [
    "from sklearn import datasets\n",
    "from sklearn.model_selection import train_test_split\n",
    "\n",
    "X_train, X_test, y_train, y_test = train_test_split(X,y, test_size=0.3, random_state=123)"
   ]
  },
  {
   "cell_type": "code",
   "execution_count": 14,
   "metadata": {},
   "outputs": [],
   "source": [
    "from sklearn.linear_model import LogisticRegression\n",
    "from sklearn.naive_bayes import GaussianNB\n",
    "from sklearn.neighbors import KNeighborsClassifier\n",
    "from sklearn.tree import DecisionTreeClassifier\n",
    "from sklearn.ensemble import RandomForestClassifier\n",
    "from sklearn.metrics import roc_curve, roc_auc_score"
   ]
  },
  {
   "cell_type": "code",
   "execution_count": 24,
   "metadata": {},
   "outputs": [],
   "source": [
    "classifiers = [LogisticRegression(random_state=13), \n",
    "               GaussianNB(), \n",
    "               KNeighborsClassifier(), \n",
    "               DecisionTreeClassifier(random_state=13),\n",
    "               RandomForestClassifier(random_state=13)]\n",
    "\n",
    "\n",
    "# Define a result table as a DataFrame\n",
    "result_table = pd.DataFrame(columns=['classifiers', 'fpr','tpr','auc'])\n",
    "\n",
    "# Train the models and record the results\n",
    "for cls in classifiers:\n",
    "    model = cls.fit(X_train, y_train)\n",
    "    yproba = model.predict_proba(X_test)[::,1]\n",
    "    \n",
    "    fpr, tpr, _ = roc_curve(y_test,  yproba)\n",
    "    auc = roc_auc_score(y_test, yproba)\n",
    "    \n",
    "    result_table = result_table.append({'classifiers':cls.__class__.__name__,\n",
    "                                        'fpr':fpr, \n",
    "                                        'tpr':tpr, \n",
    "                                        'auc':auc}, ignore_index=True)\n",
    "\n",
    "# Set name of the classifiers as index labels\n",
    "result_table.set_index('classifiers', inplace=True)"
   ]
  },
  {
   "cell_type": "code",
   "execution_count": 25,
   "metadata": {},
   "outputs": [
    {
     "data": {
      "image/png": "[encoded data removed]",
      "text/plain": [
       "<Figure size 576x432 with 1 Axes>"
      ]
     },
     "metadata": {
      "needs_background": "light"
     },
     "output_type": "display_data"
    }
   ],
   "source": [
    "import matplotlib.pyplot as plt\n",
    "import numpy as np\n",
    "fig = plt.figure(figsize=(8,6))\n",
    "\n",
    "for i in result_table.index:\n",
    "    plt.plot(result_table.loc[i]['fpr'], \n",
    "             result_table.loc[i]['tpr'], \n",
    "             label=\"{}, AUC={:.3f}\".format(i, result_table.loc[i]['auc']))\n",
    "    \n",
    "plt.plot([0,1], [0,1], color='orange', linestyle='--')\n",
    "\n",
    "plt.xticks(np.arange(0.0, 1.1, step=0.1))\n",
    "plt.xlabel(\"False Positive Rate\", fontsize=15)\n",
    "\n",
    "plt.yticks(np.arange(0.0, 1.1, step=0.1))\n",
    "plt.ylabel(\"True Positive Rate\", fontsize=15)\n",
    "\n",
    "plt.title('ROC Curve Analysis', fontweight='bold', fontsize=15)\n",
    "plt.legend(prop={'size':13}, loc='lower right')\n",
    "\n",
    "plt.show()"
   ]
  },
  {
   "cell_type": "code",
   "execution_count": 17,
   "metadata": {},
   "outputs": [],
   "source": [
    "#Notes on the Report:\n",
    "#Precision 0: TN/(TN+FN) of those predicted with out the disease, which how many really do not have it.\n",
    "#Precision 1: TP/(TP+FP) of those predicted with the disease, which how many really had it.\n",
    "#Recall 0: TN/(TN+FP) of those that dont have the disease how many were predicted with out the disease\n",
    "#Recall 1: TP/(TP+FN) of those that have the disease how many were predicted with the disease\n",
    "#Accuracy: TP+TN/(TP+TN+FP+FN), how many were classified correctly.\n",
    "#For early diagnosis we would like to focus on recall 1 to be high. People with early stages of the disease should diagnose\n",
    "#Few false negatives."
   ]
  },
  {
   "cell_type": "markdown",
   "metadata": {},
   "source": [
    "## Using only people before taking medication\n"
   ]
  },
  {
   "cell_type": "code",
   "execution_count": 18,
   "metadata": {},
   "outputs": [],
   "source": [
    "#TapTableB = TapTableN[TapTableN['medTimepoint'] != \"Just after Parkinson medication (at your best)\"] \n",
    "#TapTableC = TapTableB[TapTableB['medTimepoint'] != \"Another time\"] \n",
    "\n",
    "#XX = TapTableC[['TapPerform','age','Male','Prefer not to answer']].to_numpy()\n",
    "#YY=TapTableC['PDOn'].to_numpy()\n",
    "#YY[YY!=0] = 1\n",
    "\n",
    "#XX_train, XX_test, yy_train, yy_test = train_test_split(XX,YY , test_size=0.3, random_state=1)\n",
    "\n",
    "##Training logistic regression\n",
    "#logregC = LogisticRegression()\n",
    "#logregC.fit(XX_train, yy_train)\n",
    "#yy_predC = logregC.predict(XX_test)\n",
    "#print('Accuracy of logistic regression classifier on test set: {:.2f}'.format(logregC.score(XX_test, yy_test)))\n",
    "#confusionMatrixC = confusion_matrix(yy_test, yy_predC)\n",
    "#print(confusionMatrixC)\n",
    "#print(classification_report(yy_test, yy_predC))\n",
    "#dispC = plot_confusion_matrix(logregC, XX_test, yy_test,cmap=plt.cm.Blues)\n",
    "\n"
   ]
  },
  {
   "cell_type": "code",
   "execution_count": null,
   "metadata": {},
   "outputs": [],
   "source": []
  },
  {
   "cell_type": "code",
   "execution_count": 19,
   "metadata": {},
   "outputs": [],
   "source": [
    "##Plotting ROC Curve\n",
    "\n",
    "##Calculate probabilities. Notice that this is different than evaluating the predict y_pred\n",
    "#y_probC = logregC.predict_proba(XX_test)\n",
    "#y_prob1C = y_probC[:, 1]\n",
    "\n",
    "#fprC, tprC, thresholdC = metrics.roc_curve(yy_test, y_prob1C)\n",
    "#roc_aucC = metrics.auc(fprC, tprC)\n",
    "\n",
    "#plt.title('Receiver Operating Characteristic')\n",
    "#plt.plot(fprC, tprC, 'b', label = 'AUC = %0.2f' % roc_auc)\n",
    "#plt.legend(loc = 'lower right')\n",
    "#plt.plot([0, 1], [0, 1],'r--')\n",
    "#plt.xlim([0, 1])\n",
    "#plt.ylim([0, 1])\n",
    "#plt.ylabel('True Positive Rate')\n",
    "#plt.xlabel('False Positive Rate')\n",
    "#plt.show()\n",
    "##Saving this for using the new threshold\n",
    "##y_pred = (clf.predict_proba(X_test)[:,1] >= 0.3).astype(bool) # set threshold as 0.3\n",
    "##print(fprC)\n",
    "##print(fpr)"
   ]
  },
  {
   "cell_type": "markdown",
   "metadata": {},
   "source": [
    "## Graph to see time dependency"
   ]
  },
  {
   "cell_type": "code",
   "execution_count": 20,
   "metadata": {},
   "outputs": [],
   "source": [
    "#Prob = logreg.predict_proba(X)\n",
    "#ProbOfPD=Prob[:, 1]\n",
    "#Ind=(TapTableN[\"diagnosis-year\"]!=0)\n",
    "#YearsPD=TapTableN[\"diagnosis-year\"]\n",
    "#nd=(YearsPD!=0)\n",
    "#YearsPD[Ind]=(2015-YearsPD[Ind])\n",
    "#plt.scatter(YearsPD, ProbOfPD, c=\"g\", alpha=0.5, marker=r'$\\clubsuit$',\n",
    "#            label=\"Luck\")\n",
    "#plt.xlim([-0.5, 20])\n",
    "#print(ProbOfPD[42])\n",
    "#print(YearsPD[42])\n",
    "##TapTableN[\"TimeDis\"][Ind]=(2015-TapTableN[\"diagnosis-year\"][Ind])\n",
    "##print(TapTableN[\"age\"][72])"
   ]
  },
  {
   "cell_type": "markdown",
   "metadata": {},
   "source": [
    "## Classifying using diagnostic year as starting point of the disease"
   ]
  },
  {
   "cell_type": "code",
   "execution_count": 21,
   "metadata": {},
   "outputs": [],
   "source": [
    "#Let us look at a histogram of the diagnosis year and find quantiles\n",
    "\n",
    "\n",
    "#Bol=TapTableN[\"diagnosis-year\"]!=0 \n",
    "#Diagnosis=TapTableN[\"diagnosis-year\"][Bol]\n",
    "#Bol2=Diagnosis>1960\n",
    "#Diagnosis= 2015-Diagnosis[Bol2]\n",
    "#print(Diagnosis)\n",
    "##hist = Diagnosis.hist(bins=10)\n",
    "#YearsDiaQuant=Diagnosis.quantile([.25, .5, 0.75])\n",
    "\n",
    "##Drop values were diagnosis year does not make sense\n",
    "#Diagnosis = Diagnosis[Diagnosis > 15]\n",
    "#print(Diagnosis)\n",
    "\n",
    "\n"
   ]
  },
  {
   "cell_type": "markdown",
   "metadata": {},
   "source": [
    "## Classifier for first quantile"
   ]
  },
  {
   "cell_type": "code",
   "execution_count": null,
   "metadata": {},
   "outputs": [],
   "source": []
  },
  {
   "cell_type": "code",
   "execution_count": null,
   "metadata": {},
   "outputs": [],
   "source": []
  },
  {
   "cell_type": "code",
   "execution_count": null,
   "metadata": {},
   "outputs": [],
   "source": []
  },
  {
   "cell_type": "code",
   "execution_count": null,
   "metadata": {},
   "outputs": [],
   "source": []
  },
  {
   "cell_type": "code",
   "execution_count": null,
   "metadata": {},
   "outputs": [],
   "source": []
  },
  {
   "cell_type": "code",
   "execution_count": null,
   "metadata": {},
   "outputs": [],
   "source": []
  }
 ],
 "metadata": {
  "kernelspec": {
   "display_name": "Python [conda env:insight] *",
   "language": "python",
   "name": "conda-env-insight-py"
  },
  "language_info": {
   "codemirror_mode": {
    "name": "ipython",
    "version": 3
   },
   "file_extension": ".py",
   "mimetype": "text/x-python",
   "name": "python",
   "nbconvert_exporter": "python",
   "pygments_lexer": "ipython3",
   "version": "3.8.5"
  }
 },
 "nbformat": 4,
 "nbformat_minor": 4
}
