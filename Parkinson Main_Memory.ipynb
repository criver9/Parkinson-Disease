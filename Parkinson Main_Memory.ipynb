{
 "cells": [
  {
   "cell_type": "markdown",
   "metadata": {},
   "source": [
    "## Classification of Parkinson patients using an extra feature of Tapping: Std of the interval."
   ]
  },
  {
   "cell_type": "code",
   "execution_count": 1,
   "metadata": {},
   "outputs": [],
   "source": [
    "import synapseclient\n",
    "import pandas as pd\n",
    "import json\n",
    "import csv\n",
    "import matplotlib.pyplot as plt"
   ]
  },
  {
   "cell_type": "markdown",
   "metadata": {},
   "source": [
    "## Building data frame using tapping performance and demographic information"
   ]
  },
  {
   "cell_type": "code",
   "execution_count": 2,
   "metadata": {},
   "outputs": [
    {
     "name": "stdout",
     "output_type": "stream",
     "text": [
      "                             healthCode  \\\n",
      "0  00081bd9-9abd-4003-b035-de6cc3e8c922   \n",
      "1  0085b356-0550-4cf1-85bd-2bcd89bf1201   \n",
      "2  010aed99-c9b3-4bdc-a23b-530d619b43a9   \n",
      "3  01185d64-7791-4282-8c3d-e657cd810bb0   \n",
      "4  0142010e-cb15-4391-90b5-29ac0dbe5bae   \n",
      "\n",
      "   MemoryGameResults.json.MemoryGameOverallScore  \n",
      "0                                          210.0  \n",
      "1                                          240.0  \n",
      "2                                          255.0  \n",
      "3                                          215.0  \n",
      "4                                          257.5  \n"
     ]
    }
   ],
   "source": [
    "with open('MemoryTable.csv') as csvfile:\n",
    "    MemTable=pd.read_csv(csvfile, delimiter=',')\n",
    "with open('DemoTable.csv') as csvfile:\n",
    "    DemoTable=pd.read_csv(csvfile, delimiter=',')    \n",
    "    \n",
    "MemTable.columns\n",
    "MemTable=MemTable.drop(['ROW_ID', 'ROW_VERSION','recordId','createdOn','appVersion','phoneInfo','MemoryGameResults.json.startDate','MemoryGameResults.json.endDate','MemoryGameResults.json.MemoryGameGameRecords','medTimepoint'], axis=1)\n",
    "MemTableN = MemTable.groupby(\"healthCode\")[\"MemoryGameResults.json.MemoryGameOverallScore\"].mean()\n",
    "MemTableN = pd.DataFrame(MemTableN)  \n",
    "MemTableN = MemTableN.reset_index()\n",
    "print(MemTableN.head())\n"
   ]
  },
  {
   "cell_type": "code",
   "execution_count": 3,
   "metadata": {},
   "outputs": [
    {
     "name": "stdout",
     "output_type": "stream",
     "text": [
      "(968, 2)\n"
     ]
    }
   ],
   "source": [
    "print(MemTableN.shape)"
   ]
  },
  {
   "cell_type": "code",
   "execution_count": 4,
   "metadata": {
    "scrolled": true
   },
   "outputs": [
    {
     "data": {
      "text/plain": [
       "(911, 5)"
      ]
     },
     "execution_count": 4,
     "metadata": {},
     "output_type": "execute_result"
    }
   ],
   "source": [
    "\n",
    "#Sub-DataFrame of Demo Table with only features of interest: Age, diagnostic year, gender.\n",
    "#DemoTable.head()\n",
    "DemoTableN=DemoTable[[\"age\",\"healthCode\",\"diagnosis-year\",\"gender\"]]\n",
    "DemoTableN.shape\n",
    "#Merges TapTables with the PerfInfo and drops thos values in TapTable that are not defined in PerInfo\n",
    "MemTableN=DemoTableN.merge(MemTableN)\n",
    "MemTableN.shape\n",
    "#TapMemTableN=pd.concat([TapTableN, MemTableN], axis=1)\n",
    "#TapMemTableN\n",
    "#TapMemTableN.head()\n",
    "#TapTable.head()\n",
    "#PatientTemp = TapTable.groupby(\"healthCode\")[\"healthCode\"].count()\n",
    "#print(PatientTemp)\n",
    "#TapMemTableN=TapMemTableN.merge(DemoTableN)\n",
    "#TapMemTableN.head()\n"
   ]
  },
  {
   "cell_type": "code",
   "execution_count": 5,
   "metadata": {},
   "outputs": [],
   "source": [
    "MemTableN=MemTableN.dropna(subset=['age','gender','MemoryGameResults.json.MemoryGameOverallScore'])"
   ]
  },
  {
   "cell_type": "code",
   "execution_count": 6,
   "metadata": {},
   "outputs": [],
   "source": [
    "# change gender column to categorical 0:female, 1: male\n",
    "df_gender = pd.get_dummies(MemTableN['gender'],drop_first=True)\n",
    "#print(TapTableN.gender.value_counts())\n",
    "MemTableN = pd.concat([MemTableN, df_gender], axis=1)\n",
    "MemTableN=MemTableN.drop(['healthCode','gender'], axis=1)\n",
    "\n"
   ]
  },
  {
   "cell_type": "code",
   "execution_count": 7,
   "metadata": {},
   "outputs": [
    {
     "data": {
      "text/html": [
       "<div>\n",
       "<style scoped>\n",
       "    .dataframe tbody tr th:only-of-type {\n",
       "        vertical-align: middle;\n",
       "    }\n",
       "\n",
       "    .dataframe tbody tr th {\n",
       "        vertical-align: top;\n",
       "    }\n",
       "\n",
       "    .dataframe thead th {\n",
       "        text-align: right;\n",
       "    }\n",
       "</style>\n",
       "<table border=\"1\" class=\"dataframe\">\n",
       "  <thead>\n",
       "    <tr style=\"text-align: right;\">\n",
       "      <th></th>\n",
       "      <th>age</th>\n",
       "      <th>diagnosis-year</th>\n",
       "      <th>MemoryGameResults.json.MemoryGameOverallScore</th>\n",
       "      <th>Male</th>\n",
       "    </tr>\n",
       "  </thead>\n",
       "  <tbody>\n",
       "    <tr>\n",
       "      <th>0</th>\n",
       "      <td>59.0</td>\n",
       "      <td>2014.0</td>\n",
       "      <td>304.000000</td>\n",
       "      <td>1</td>\n",
       "    </tr>\n",
       "    <tr>\n",
       "      <th>1</th>\n",
       "      <td>69.0</td>\n",
       "      <td>2010.0</td>\n",
       "      <td>217.272727</td>\n",
       "      <td>0</td>\n",
       "    </tr>\n",
       "    <tr>\n",
       "      <th>2</th>\n",
       "      <td>51.0</td>\n",
       "      <td>2014.0</td>\n",
       "      <td>280.000000</td>\n",
       "      <td>1</td>\n",
       "    </tr>\n",
       "    <tr>\n",
       "      <th>3</th>\n",
       "      <td>21.0</td>\n",
       "      <td>NaN</td>\n",
       "      <td>350.555556</td>\n",
       "      <td>1</td>\n",
       "    </tr>\n",
       "    <tr>\n",
       "      <th>4</th>\n",
       "      <td>23.0</td>\n",
       "      <td>NaN</td>\n",
       "      <td>285.000000</td>\n",
       "      <td>0</td>\n",
       "    </tr>\n",
       "  </tbody>\n",
       "</table>\n",
       "</div>"
      ],
      "text/plain": [
       "    age  diagnosis-year  MemoryGameResults.json.MemoryGameOverallScore  Male\n",
       "0  59.0          2014.0                                     304.000000     1\n",
       "1  69.0          2010.0                                     217.272727     0\n",
       "2  51.0          2014.0                                     280.000000     1\n",
       "3  21.0             NaN                                     350.555556     1\n",
       "4  23.0             NaN                                     285.000000     0"
      ]
     },
     "execution_count": 7,
     "metadata": {},
     "output_type": "execute_result"
    }
   ],
   "source": [
    "MemTableN.head()\n"
   ]
  },
  {
   "cell_type": "code",
   "execution_count": 8,
   "metadata": {},
   "outputs": [
    {
     "name": "stdout",
     "output_type": "stream",
     "text": [
      "      age  diagnosis-year  MemoryGameResults.json.MemoryGameOverallScore  \\\n",
      "0    59.0             1.0                                     304.000000   \n",
      "1    69.0             5.0                                     217.272727   \n",
      "2    51.0             1.0                                     280.000000   \n",
      "3    21.0             NaN                                     350.555556   \n",
      "4    23.0             NaN                                     285.000000   \n",
      "..    ...             ...                                            ...   \n",
      "906  61.0            12.0                                     247.500000   \n",
      "907  53.0             NaN                                     270.000000   \n",
      "908  22.0             NaN                                     325.000000   \n",
      "909  73.0             NaN                                     225.000000   \n",
      "910  20.0             NaN                                     325.000000   \n",
      "\n",
      "     Male  YearsPD  \n",
      "0       1        1  \n",
      "1       0        1  \n",
      "2       1        1  \n",
      "3       1        0  \n",
      "4       0        0  \n",
      "..    ...      ...  \n",
      "906     1        1  \n",
      "907     1        0  \n",
      "908     0        0  \n",
      "909     1        0  \n",
      "910     0        0  \n",
      "\n",
      "[906 rows x 5 columns]\n"
     ]
    }
   ],
   "source": [
    "# diagnosis-year becomes years with diagnosed disease\n",
    "MemTableN['diagnosis-year']=(2015-MemTableN['diagnosis-year'])\n",
    "#NAN REPLACED WITH ZERO AND OTHER INT REPLACED WITH ONE\n",
    "dfb = MemTableN['diagnosis-year'].notnull().astype(int)\n",
    "MemTableN['YearsPD']=dfb\n",
    "print(MemTableN)\n"
   ]
  },
  {
   "cell_type": "code",
   "execution_count": 9,
   "metadata": {},
   "outputs": [],
   "source": [
    "X=MemTableN[['age','Male','MemoryGameResults.json.MemoryGameOverallScore']]\n",
    "y=MemTableN['YearsPD']\n"
   ]
  },
  {
   "cell_type": "code",
   "execution_count": 10,
   "metadata": {},
   "outputs": [
    {
     "data": {
      "text/plain": [
       "True"
      ]
     },
     "execution_count": 10,
     "metadata": {},
     "output_type": "execute_result"
    }
   ],
   "source": [
    "MemTableN.isnull().values.any()"
   ]
  },
  {
   "cell_type": "markdown",
   "metadata": {},
   "source": [
    "## Building the model"
   ]
  },
  {
   "cell_type": "code",
   "execution_count": 11,
   "metadata": {},
   "outputs": [],
   "source": [
    "from sklearn import datasets\n",
    "from sklearn.model_selection import train_test_split\n",
    "\n",
    "X_train, X_test, y_train, y_test = train_test_split(X,y, test_size=0.3, random_state=123)"
   ]
  },
  {
   "cell_type": "code",
   "execution_count": 12,
   "metadata": {},
   "outputs": [],
   "source": [
    "from sklearn.linear_model import LogisticRegression\n",
    "from sklearn.naive_bayes import GaussianNB\n",
    "from sklearn.neighbors import KNeighborsClassifier\n",
    "from sklearn.tree import DecisionTreeClassifier\n",
    "from sklearn.ensemble import RandomForestClassifier\n",
    "from sklearn.metrics import roc_curve, roc_auc_score"
   ]
  },
  {
   "cell_type": "code",
   "execution_count": 13,
   "metadata": {},
   "outputs": [],
   "source": [
    "classifiers = [LogisticRegression(random_state=13), \n",
    "               GaussianNB(), \n",
    "               KNeighborsClassifier(), \n",
    "               DecisionTreeClassifier(random_state=13),\n",
    "               RandomForestClassifier(random_state=13)]\n",
    "\n",
    "\n",
    "# Define a result table as a DataFrame\n",
    "result_table = pd.DataFrame(columns=['classifiers', 'fpr','tpr','auc'])\n",
    "\n",
    "# Train the models and record the results\n",
    "for cls in classifiers:\n",
    "    model = cls.fit(X_train, y_train)\n",
    "    yproba = model.predict_proba(X_test)[::,1]\n",
    "    \n",
    "    fpr, tpr, _ = roc_curve(y_test,  yproba)\n",
    "    auc = roc_auc_score(y_test, yproba)\n",
    "    \n",
    "    result_table = result_table.append({'classifiers':cls.__class__.__name__,\n",
    "                                        'fpr':fpr, \n",
    "                                        'tpr':tpr, \n",
    "                                        'auc':auc}, ignore_index=True)\n",
    "\n",
    "# Set name of the classifiers as index labels\n",
    "result_table.set_index('classifiers', inplace=True)"
   ]
  },
  {
   "cell_type": "code",
   "execution_count": 14,
   "metadata": {},
   "outputs": [
    {
     "data": {
      "image/png": "[encoded data removed]",
      "text/plain": [
       "<Figure size 576x432 with 1 Axes>"
      ]
     },
     "metadata": {
      "needs_background": "light"
     },
     "output_type": "display_data"
    }
   ],
   "source": [
    "import matplotlib.pyplot as plt\n",
    "import numpy as np\n",
    "fig = plt.figure(figsize=(8,6))\n",
    "\n",
    "for i in result_table.index:\n",
    "    plt.plot(result_table.loc[i]['fpr'], \n",
    "             result_table.loc[i]['tpr'], \n",
    "             label=\"{}, AUC={:.3f}\".format(i, result_table.loc[i]['auc']))\n",
    "    \n",
    "plt.plot([0,1], [0,1], color='orange', linestyle='--')\n",
    "\n",
    "plt.xticks(np.arange(0.0, 1.1, step=0.1))\n",
    "plt.xlabel(\"False Positive Rate\", fontsize=15)\n",
    "\n",
    "plt.yticks(np.arange(0.0, 1.1, step=0.1))\n",
    "plt.ylabel(\"True Positive Rate\", fontsize=15)\n",
    "\n",
    "plt.title('ROC Curve Analysis', fontweight='bold', fontsize=15)\n",
    "plt.legend(prop={'size':13}, loc='lower right')\n",
    "\n",
    "plt.show()"
   ]
  },
  {
   "cell_type": "code",
   "execution_count": 15,
   "metadata": {},
   "outputs": [],
   "source": [
    "#Notes on the Report:\n",
    "#Precision 0: TN/(TN+FN) of those predicted with out the disease, which how many really do not have it.\n",
    "#Precision 1: TP/(TP+FP) of those predicted with the disease, which how many really had it.\n",
    "#Recall 0: TN/(TN+FP) of those that dont have the disease how many were predicted with out the disease\n",
    "#Recall 1: TP/(TP+FN) of those that have the disease how many were predicted with the disease\n",
    "#Accuracy: TP+TN/(TP+TN+FP+FN), how many were classified correctly.\n",
    "#For early diagnosis we would like to focus on recall 1 to be high. People with early stages of the disease should diagnose\n",
    "#Few false negatives."
   ]
  },
  {
   "cell_type": "markdown",
   "metadata": {},
   "source": [
    "## Using only people before taking medication\n"
   ]
  },
  {
   "cell_type": "code",
   "execution_count": 16,
   "metadata": {},
   "outputs": [],
   "source": [
    "#TapTableB = TapTableN[TapTableN['medTimepoint'] != \"Just after Parkinson medication (at your best)\"] \n",
    "#TapTableC = TapTableB[TapTableB['medTimepoint'] != \"Another time\"] \n",
    "\n",
    "#XX = TapTableC[['TapPerform','age','Male','Prefer not to answer']].to_numpy()\n",
    "#YY=TapTableC['PDOn'].to_numpy()\n",
    "#YY[YY!=0] = 1\n",
    "\n",
    "#XX_train, XX_test, yy_train, yy_test = train_test_split(XX,YY , test_size=0.3, random_state=1)\n",
    "\n",
    "##Training logistic regression\n",
    "#logregC = LogisticRegression()\n",
    "#logregC.fit(XX_train, yy_train)\n",
    "#yy_predC = logregC.predict(XX_test)\n",
    "#print('Accuracy of logistic regression classifier on test set: {:.2f}'.format(logregC.score(XX_test, yy_test)))\n",
    "#confusionMatrixC = confusion_matrix(yy_test, yy_predC)\n",
    "#print(confusionMatrixC)\n",
    "#print(classification_report(yy_test, yy_predC))\n",
    "#dispC = plot_confusion_matrix(logregC, XX_test, yy_test,cmap=plt.cm.Blues)\n",
    "\n"
   ]
  },
  {
   "cell_type": "code",
   "execution_count": null,
   "metadata": {},
   "outputs": [],
   "source": []
  },
  {
   "cell_type": "code",
   "execution_count": 17,
   "metadata": {},
   "outputs": [],
   "source": [
    "##Plotting ROC Curve\n",
    "\n",
    "##Calculate probabilities. Notice that this is different than evaluating the predict y_pred\n",
    "#y_probC = logregC.predict_proba(XX_test)\n",
    "#y_prob1C = y_probC[:, 1]\n",
    "\n",
    "#fprC, tprC, thresholdC = metrics.roc_curve(yy_test, y_prob1C)\n",
    "#roc_aucC = metrics.auc(fprC, tprC)\n",
    "\n",
    "#plt.title('Receiver Operating Characteristic')\n",
    "#plt.plot(fprC, tprC, 'b', label = 'AUC = %0.2f' % roc_auc)\n",
    "#plt.legend(loc = 'lower right')\n",
    "#plt.plot([0, 1], [0, 1],'r--')\n",
    "#plt.xlim([0, 1])\n",
    "#plt.ylim([0, 1])\n",
    "#plt.ylabel('True Positive Rate')\n",
    "#plt.xlabel('False Positive Rate')\n",
    "#plt.show()\n",
    "##Saving this for using the new threshold\n",
    "##y_pred = (clf.predict_proba(X_test)[:,1] >= 0.3).astype(bool) # set threshold as 0.3\n",
    "##print(fprC)\n",
    "##print(fpr)"
   ]
  },
  {
   "cell_type": "markdown",
   "metadata": {},
   "source": [
    "## Graph to see time dependency"
   ]
  },
  {
   "cell_type": "code",
   "execution_count": 18,
   "metadata": {},
   "outputs": [],
   "source": [
    "#Prob = logreg.predict_proba(X)\n",
    "#ProbOfPD=Prob[:, 1]\n",
    "#Ind=(TapTableN[\"diagnosis-year\"]!=0)\n",
    "#YearsPD=TapTableN[\"diagnosis-year\"]\n",
    "#nd=(YearsPD!=0)\n",
    "#YearsPD[Ind]=(2015-YearsPD[Ind])\n",
    "#plt.scatter(YearsPD, ProbOfPD, c=\"g\", alpha=0.5, marker=r'$\\clubsuit$',\n",
    "#            label=\"Luck\")\n",
    "#plt.xlim([-0.5, 20])\n",
    "#print(ProbOfPD[42])\n",
    "#print(YearsPD[42])\n",
    "##TapTableN[\"TimeDis\"][Ind]=(2015-TapTableN[\"diagnosis-year\"][Ind])\n",
    "##print(TapTableN[\"age\"][72])"
   ]
  },
  {
   "cell_type": "markdown",
   "metadata": {},
   "source": [
    "## Classifying using diagnostic year as starting point of the disease"
   ]
  },
  {
   "cell_type": "code",
   "execution_count": 19,
   "metadata": {},
   "outputs": [],
   "source": [
    "#Let us look at a histogram of the diagnosis year and find quantiles\n",
    "\n",
    "\n",
    "#Bol=TapTableN[\"diagnosis-year\"]!=0 \n",
    "#Diagnosis=TapTableN[\"diagnosis-year\"][Bol]\n",
    "#Bol2=Diagnosis>1960\n",
    "#Diagnosis= 2015-Diagnosis[Bol2]\n",
    "#print(Diagnosis)\n",
    "##hist = Diagnosis.hist(bins=10)\n",
    "#YearsDiaQuant=Diagnosis.quantile([.25, .5, 0.75])\n",
    "\n",
    "##Drop values were diagnosis year does not make sense\n",
    "#Diagnosis = Diagnosis[Diagnosis > 15]\n",
    "#print(Diagnosis)\n",
    "\n",
    "\n"
   ]
  },
  {
   "cell_type": "markdown",
   "metadata": {},
   "source": [
    "## Classifier for first quantile"
   ]
  },
  {
   "cell_type": "code",
   "execution_count": 20,
   "metadata": {},
   "outputs": [],
   "source": [
    "s1 = pd.Series([1, 1,2], index=['A', 'B','C'], name='s1')\n",
    "s2 = pd.Series([3, 4], index=['A', 'B'], name='s2')\n",
    "\n",
    "Temp=pd.concat([s1, s2], axis=1)"
   ]
  },
  {
   "cell_type": "code",
   "execution_count": 21,
   "metadata": {},
   "outputs": [
    {
     "name": "stdout",
     "output_type": "stream",
     "text": [
      "   s1   s2\n",
      "A   1  3.0\n",
      "B   1  4.0\n",
      "C   2  NaN\n"
     ]
    }
   ],
   "source": [
    "print(Temp)"
   ]
  },
  {
   "cell_type": "code",
   "execution_count": 22,
   "metadata": {},
   "outputs": [
    {
     "data": {
      "text/plain": [
       "s1    0.577350\n",
       "s2    0.707107\n",
       "dtype: float64"
      ]
     },
     "execution_count": 22,
     "metadata": {},
     "output_type": "execute_result"
    }
   ],
   "source": [
    "Temp.std()"
   ]
  },
  {
   "cell_type": "code",
   "execution_count": null,
   "metadata": {},
   "outputs": [],
   "source": []
  },
  {
   "cell_type": "code",
   "execution_count": null,
   "metadata": {},
   "outputs": [],
   "source": []
  },
  {
   "cell_type": "code",
   "execution_count": null,
   "metadata": {},
   "outputs": [],
   "source": []
  }
 ],
 "metadata": {
  "kernelspec": {
   "display_name": "Python [conda env:insight] *",
   "language": "python",
   "name": "conda-env-insight-py"
  },
  "language_info": {
   "codemirror_mode": {
    "name": "ipython",
    "version": 3
   },
   "file_extension": ".py",
   "mimetype": "text/x-python",
   "name": "python",
   "nbconvert_exporter": "python",
   "pygments_lexer": "ipython3",
   "version": "3.8.5"
  }
 },
 "nbformat": 4,
 "nbformat_minor": 4
}
