{
 "cells": [
  {
   "cell_type": "code",
   "execution_count": 1,
   "metadata": {},
   "outputs": [],
   "source": [
    "import synapseclient\n",
    "import pandas as pd\n",
    "import json\n",
    "import csv"
   ]
  },
  {
   "cell_type": "code",
   "execution_count": 2,
   "metadata": {},
   "outputs": [],
   "source": [
    "def TapPerformance(TapPD1):\n",
    "    TapPD1.loc[TapPD1.TappedButtonId == 'TappedButtonLeft', 'TappedButtonId'] = 0\n",
    "    TapPD1.loc[TapPD1.TappedButtonId == 'TappedButtonRight', 'TappedButtonId'] = 1\n",
    "    TapPD1.loc[TapPD1.TappedButtonId == 'TappedButtonNone', 'TappedButtonId'] = 2\n",
    "    #TapPD1.TappedButtonId[TapPD1.TappedButtonId == 'TappedButtonLeft'] = 0\n",
    "    #TapPD1.TappedButtonId[TapPD1.TappedButtonId == 'TappedButtonRight'] = 1\n",
    "    #TapPD1.TappedButtonId[TapPD1.TappedButtonId == 'TappedButtonNone'] = 2\n",
    "    TapPD1 = Artifactfixed(TapPD1)\n",
    "    TapPerf= TapPD1.shape[0]\n",
    "    return (TapPerf)"
   ]
  },
  {
   "cell_type": "code",
   "execution_count": 3,
   "metadata": {},
   "outputs": [],
   "source": [
    "#def ConvertTypePatient(MedTime):\n",
    "#    if (MedTime == \"I don't take Parkinson medications\"):\n",
    "#        ClassPD = 0\n",
    "#    elif (MedTime == \"Immediately before Parkinson medication\"):\n",
    "#        ClassPD = 1\n",
    "#    elif (MedTime == \"Just after Parkinson medication (at your best)\"):\n",
    "#        ClassPD =2\n",
    "#    else (MedTime == \"Another time\"):\n",
    "#        ClassPD =3"
   ]
  },
  {
   "cell_type": "code",
   "execution_count": 4,
   "metadata": {},
   "outputs": [],
   "source": [
    "#Index=list()\n",
    "def Artifactfixed(TapCont):\n",
    "    Ind =  [True] * TapCont.shape[0]\n",
    "    for item in range(0,TapCont.shape[0]-1):\n",
    "        if TapCont.TapCoordinate[item]==TapCont.TapCoordinate[item+1]:\n",
    "            if TapCont.TappedButtonId[item]==2:\n",
    "                Ind[item]=False\n",
    "            elif TapCont.TappedButtonId[item+1]==2:\n",
    "                Ind[item]=False\n",
    "    TapContArtFixed=TapCont[Ind]\n",
    "    return TapContArtFixed\n",
    "          "
   ]
  },
  {
   "cell_type": "code",
   "execution_count": 5,
   "metadata": {
    "scrolled": false
   },
   "outputs": [
    {
     "name": "stdout",
     "output_type": "stream",
     "text": [
      "Welcome, Catalina Rivera!\n",
      "\n",
      "Downloading 0 files, 100 cached locally\n",
      "Downloading 0 files, 100 cached locally\n",
      "Downloading 0 files, 100 cached locally\n",
      "Downloading 0 files, 100 cached locally\n",
      "Downloading 0 files, 100 cached locally\n",
      "Downloading 0 files, 100 cached locally\n",
      "Downloading 0 files, 100 cached locally\n",
      "Downloading 0 files, 100 cached locally\n",
      "Downloading 0 files, 100 cached locally\n",
      "Downloading 0 files, 100 cached locally\n",
      "Downloading 0 files, 100 cached locally\n",
      "Downloading 0 files, 100 cached locally\n",
      "Downloading 0 files, 100 cached locally\n",
      "Downloading 0 files, 100 cached locally\n",
      "Downloading 0 files, 100 cached locally\n",
      "Downloading 0 files, 100 cached locally\n",
      "Downloading 0 files, 100 cached locally\n",
      "Downloading 0 files, 100 cached locally\n",
      "Downloading 0 files, 100 cached locally\n",
      "Downloading 0 files, 100 cached locally\n",
      "Downloading 0 files, 100 cached locally\n",
      "Downloading 0 files, 100 cached locally\n",
      "Downloading 0 files, 100 cached locally\n",
      "Downloading 0 files, 100 cached locally\n",
      "Downloading 0 files, 100 cached locally\n",
      "Downloading 0 files, 100 cached locally\n",
      "Downloading 0 files, 100 cached locally\n",
      "Downloading 0 files, 100 cached locally\n",
      "Downloading 0 files, 100 cached locally\n",
      "Downloading 0 files, 100 cached locally\n",
      "Downloading 0 files, 100 cached locally\n",
      "Downloading 0 files, 100 cached locally\n",
      "Downloading 0 files, 100 cached locally\n",
      "Downloading 0 files, 100 cached locally\n",
      "Downloading 0 files, 100 cached locally\n",
      "Downloading 0 files, 100 cached locally\n",
      "Downloading 0 files, 100 cached locally\n",
      "Downloading 0 files, 100 cached locally\n",
      "Downloading 0 files, 100 cached locally\n",
      "Downloading 0 files, 100 cached locally\n",
      "Downloading 0 files, 100 cached locally\n",
      "Downloading 0 files, 100 cached locally\n",
      "Downloading 0 files, 100 cached locally\n",
      "Downloading 0 files, 100 cached locally\n",
      "Downloading 0 files, 100 cached locally\n",
      "Downloading 0 files, 100 cached locally\n",
      "Downloading 0 files, 100 cached locally\n",
      "Downloading 0 files, 100 cached locally\n",
      "Downloading 0 files, 100 cached locally\n",
      "Downloading 0 files, 100 cached locally\n",
      "Downloading 0 files, 100 cached locally\n",
      "Downloading 0 files, 100 cached locally\n",
      "Downloading 0 files, 100 cached locally\n",
      "Downloading 0 files, 100 cached locally\n",
      "Downloading 0 files, 100 cached locally\n",
      "Downloading 0 files, 100 cached locally\n",
      "Downloading 0 files, 100 cached locally\n",
      "Downloading 0 files, 100 cached locally\n",
      "Downloading 0 files, 100 cached locally\n",
      "Downloading 0 files, 100 cached locally\n",
      "Downloading 0 files, 100 cached locally\n",
      "Downloading 0 files, 100 cached locally\n",
      "Downloading 0 files, 100 cached locally\n",
      "Downloading 0 files, 100 cached locally\n",
      "Downloading 0 files, 100 cached locally\n",
      "Downloading 0 files, 100 cached locally\n",
      "Downloading 0 files, 100 cached locally\n",
      "Downloading 0 files, 100 cached locally\n",
      "Downloading 0 files, 100 cached locally\n",
      "Downloading 0 files, 100 cached locally\n",
      "Downloading 0 files, 100 cached locally\n",
      "Downloading 0 files, 100 cached locally\n",
      "Downloading 0 files, 100 cached locally\n",
      "Downloading 0 files, 100 cached locally\n",
      "Downloading 0 files, 100 cached locally\n",
      "Downloading 0 files, 100 cached locally\n",
      "Downloading 0 files, 100 cached locally\n",
      "Downloading 0 files, 100 cached locally\n",
      "Downloading 0 files, 100 cached locally\n",
      "Downloading 0 files, 100 cached locally\n",
      "Downloading 0 files, 100 cached locally\n",
      "Downloading 0 files, 100 cached locally\n",
      "Downloading 0 files, 100 cached locally\n",
      "Downloading 0 files, 100 cached locally\n",
      "Downloading 0 files, 100 cached locally\n",
      "Downloading 0 files, 100 cached locally\n",
      "Downloading 0 files, 100 cached locally\n",
      "Downloading 0 files, 100 cached locally\n",
      "Downloading 0 files, 100 cached locally\n",
      "Downloading 0 files, 100 cached locally\n",
      "Downloading 0 files, 100 cached locally\n",
      "Downloading 0 files, 100 cached locally\n",
      "Downloading 0 files, 100 cached locally\n",
      "Downloading 0 files, 100 cached locally\n",
      "Downloading 0 files, 100 cached locally\n",
      "Downloading 0 files, 100 cached locally\n",
      "Downloading 0 files, 100 cached locally\n",
      "Downloading 0 files, 100 cached locally\n",
      "Downloading 0 files, 100 cached locally\n",
      "Downloading 0 files, 100 cached locally\n"
     ]
    }
   ],
   "source": [
    "\n",
    "syn = synapseclient.Synapse()\n",
    "syn.login('catarivera8', 'Crm1061709701')\n",
    "\n",
    "\n",
    "## QUERY THE mPower PROJECT (syn4993293) FOR ALL OF THE TABLES\n",
    "# See examples: https://python-docs.synapse.org/build/html/index.html \n",
    "# and https://www.synapse.org/#!Synapse:syn4993293/discussion/threadId=6785\n",
    "with open('TappingTable.csv') as csvfile:\n",
    "    TapTable=pd.read_csv(csvfile, delimiter=',')\n",
    "with open('DemoTable.csv') as csvfile:\n",
    "    DemoTable=pd.read_csv(csvfile, delimiter=',') \n",
    "#Using Patient column (healthCode) as index for the Data frames\n",
    "#TapTableB = TapTable.set_index(\"healthCode\", drop = False) \n",
    "#DemoTableB = DemoTable.set_index(\"healthCode\", drop = False)    \n",
    "\n",
    "      \n",
    "#TapPD = list()\n",
    "PathList = list()\n",
    "LabelList = list()\n",
    "#PatientType = list()\n",
    "#PatientList = list()\n",
    "#AgeList = list()\n",
    "Perform =list()\n",
    "for offset in range(0,10000,100):\n",
    "    results = syn.tableQuery('SELECT * FROM syn5511439 LIMIT 100 OFFSET '+str(offset))\n",
    "    file_map=syn.downloadTableColumns(results,['tapping_results.json.TappingSamples'])\n",
    "    for file_handle_id, path in file_map.items():\n",
    "        #TapPD.append(pd.read_json(path))\n",
    "        PathList.append(path)\n",
    "        LabelList.append(int(file_handle_id))\n",
    "        #PatientType.append(TapTableB['medTimepoint'][TapTable['tapping_results.json.TappingSamples'] == int(file_handle_id)])\n",
    "        Perform.append(TapPerformance(pd.read_json(path))) #Tap performance\n",
    "        #PatientList.append(TapTableB['healthCode'][TapTableB['tapping_results.json.TappingSamples'] == int(file_handle_id)])\n",
    "        #DemoTableB.loc[(TapTableB['healthCode'][TapTableB['tapping_results.json.TappingSamples'] == int(file_handle_id)]),\"age\"]\n",
    "        "
   ]
  },
  {
   "cell_type": "markdown",
   "metadata": {},
   "source": [
    "## Building data frame using tapping performance and demographic information"
   ]
  },
  {
   "cell_type": "code",
   "execution_count": 6,
   "metadata": {
    "scrolled": true
   },
   "outputs": [],
   "source": [
    "#Creating directory\n",
    "d = {'tapping_results.json.TappingSamples':LabelList,'TapPerform':Perform}\n",
    "PerfInfo = pd.DataFrame(d)\n",
    "#Merges TapTables with the PerfInfo and drops thos values in TapTable that are not defined in PerInfo\n",
    "#TapTable=TapTable.merge(PerfInfo,left_on='tapping_results.json.TappingSamples', right_on='tapping_results.json.TappingSamples')\n",
    "TapTable=TapTable.merge(PerfInfo)\n",
    "#Sub-DataFrame of Demo Table with only features of interest: Age, diagnostic year, gender.\n",
    "#DemoTable.head()\n",
    "DemoTableN=DemoTable[[\"age\",\"healthCode\",\"diagnosis-year\",\"gender\"]]\n",
    "DemoTableN.shape\n",
    "#Merges TapTables with the PerfInfo and drops thos values in TapTable that are not defined in PerInfo\n",
    "TapTableN=TapTable.merge(DemoTableN)\n",
    "#Check for NAN and replacing them\n",
    "TapTableN['diagnosis-year'] = TapTableN['diagnosis-year'].fillna(0)\n",
    "#Check for NAN in age column and drop it.\n",
    "TapTableN.dropna(subset = [\"age\"], inplace=True)\n"
   ]
  },
  {
   "cell_type": "code",
   "execution_count": 7,
   "metadata": {},
   "outputs": [
    {
     "data": {
      "text/html": [
       "<div>\n",
       "<style scoped>\n",
       "    .dataframe tbody tr th:only-of-type {\n",
       "        vertical-align: middle;\n",
       "    }\n",
       "\n",
       "    .dataframe tbody tr th {\n",
       "        vertical-align: top;\n",
       "    }\n",
       "\n",
       "    .dataframe thead th {\n",
       "        text-align: right;\n",
       "    }\n",
       "</style>\n",
       "<table border=\"1\" class=\"dataframe\">\n",
       "  <thead>\n",
       "    <tr style=\"text-align: right;\">\n",
       "      <th></th>\n",
       "      <th>ROW_ID</th>\n",
       "      <th>ROW_VERSION</th>\n",
       "      <th>recordId</th>\n",
       "      <th>healthCode</th>\n",
       "      <th>createdOn</th>\n",
       "      <th>appVersion</th>\n",
       "      <th>phoneInfo</th>\n",
       "      <th>accel_tapping.json.items</th>\n",
       "      <th>tapping_results.json.ButtonRectLeft</th>\n",
       "      <th>tapping_results.json.ButtonRectRight</th>\n",
       "      <th>...</th>\n",
       "      <th>tapping_results.json.startDate</th>\n",
       "      <th>tapping_results.json.TappingSamples</th>\n",
       "      <th>tapping_results.json.TappingViewSize</th>\n",
       "      <th>medTimepoint</th>\n",
       "      <th>TapPerform</th>\n",
       "      <th>age</th>\n",
       "      <th>diagnosis-year</th>\n",
       "      <th>gender</th>\n",
       "      <th>Male</th>\n",
       "      <th>Prefer not to answer</th>\n",
       "    </tr>\n",
       "  </thead>\n",
       "  <tbody>\n",
       "    <tr>\n",
       "      <th>0</th>\n",
       "      <td>82315</td>\n",
       "      <td>18</td>\n",
       "      <td>caf7a74b-0d2e-4c43-9233-ed5dc6e7b176</td>\n",
       "      <td>639e8a78-3631-4231-bda1-c911c1b169e5</td>\n",
       "      <td>1.425900e+12</td>\n",
       "      <td>version 1.0, build 7</td>\n",
       "      <td>iPhone 6</td>\n",
       "      <td>5395782.0</td>\n",
       "      <td>{{0, 191.5}, {104, 104}}</td>\n",
       "      <td>{{128, 191.5}, {104, 104}}</td>\n",
       "      <td>...</td>\n",
       "      <td>1.425900e+12</td>\n",
       "      <td>5395798.0</td>\n",
       "      <td>{375, 603}</td>\n",
       "      <td>I don't take Parkinson medications</td>\n",
       "      <td>294</td>\n",
       "      <td>24.0</td>\n",
       "      <td>0.0</td>\n",
       "      <td>Male</td>\n",
       "      <td>1</td>\n",
       "      <td>0</td>\n",
       "    </tr>\n",
       "    <tr>\n",
       "      <th>1</th>\n",
       "      <td>82316</td>\n",
       "      <td>18</td>\n",
       "      <td>94c95572-b405-49ca-9eb0-7426254990d5</td>\n",
       "      <td>52fe366a-2a9f-4260-9fb1-0fbc637a6cf4</td>\n",
       "      <td>1.425930e+12</td>\n",
       "      <td>version 1.0, build 7</td>\n",
       "      <td>iPhone 5s (GSM)</td>\n",
       "      <td>5403976.0</td>\n",
       "      <td>{{0, 156.5}, {104, 104}}</td>\n",
       "      <td>{{128, 156.5}, {104, 104}}</td>\n",
       "      <td>...</td>\n",
       "      <td>1.425930e+12</td>\n",
       "      <td>5403991.0</td>\n",
       "      <td>{320, 504}</td>\n",
       "      <td>I don't take Parkinson medications</td>\n",
       "      <td>289</td>\n",
       "      <td>38.0</td>\n",
       "      <td>0.0</td>\n",
       "      <td>Female</td>\n",
       "      <td>0</td>\n",
       "      <td>0</td>\n",
       "    </tr>\n",
       "    <tr>\n",
       "      <th>2</th>\n",
       "      <td>88685</td>\n",
       "      <td>19</td>\n",
       "      <td>6e5f5d0f-745c-4f0d-b210-829f1490a37f</td>\n",
       "      <td>52fe366a-2a9f-4260-9fb1-0fbc637a6cf4</td>\n",
       "      <td>1.426020e+12</td>\n",
       "      <td>version 1.0, build 7</td>\n",
       "      <td>iPhone 5s (GSM)</td>\n",
       "      <td>5471683.0</td>\n",
       "      <td>{{0, 156.5}, {104, 104}}</td>\n",
       "      <td>{{128, 156.5}, {104, 104}}</td>\n",
       "      <td>...</td>\n",
       "      <td>1.426020e+12</td>\n",
       "      <td>5471839.0</td>\n",
       "      <td>{320, 504}</td>\n",
       "      <td>I don't take Parkinson medications</td>\n",
       "      <td>374</td>\n",
       "      <td>38.0</td>\n",
       "      <td>0.0</td>\n",
       "      <td>Female</td>\n",
       "      <td>0</td>\n",
       "      <td>0</td>\n",
       "    </tr>\n",
       "    <tr>\n",
       "      <th>3</th>\n",
       "      <td>82317</td>\n",
       "      <td>18</td>\n",
       "      <td>ebd99144-5b84-486e-818c-5f8daf8beebf</td>\n",
       "      <td>67bdd316-26fc-4fc7-8431-bf9f41a649dd</td>\n",
       "      <td>1.425930e+12</td>\n",
       "      <td>version 1.0, build 7</td>\n",
       "      <td>iPhone 6 Plus</td>\n",
       "      <td>5397281.0</td>\n",
       "      <td>{{0, 191.33333333333331}, {104, 104}}</td>\n",
       "      <td>{{128, 191.33333333333331}, {104, 104}}</td>\n",
       "      <td>...</td>\n",
       "      <td>1.425930e+12</td>\n",
       "      <td>5397298.0</td>\n",
       "      <td>{414, 672}</td>\n",
       "      <td>I don't take Parkinson medications</td>\n",
       "      <td>164</td>\n",
       "      <td>32.0</td>\n",
       "      <td>0.0</td>\n",
       "      <td>Male</td>\n",
       "      <td>1</td>\n",
       "      <td>0</td>\n",
       "    </tr>\n",
       "    <tr>\n",
       "      <th>4</th>\n",
       "      <td>82318</td>\n",
       "      <td>18</td>\n",
       "      <td>8e32cff2-c8f9-4047-af57-411a98fc9116</td>\n",
       "      <td>67bdd316-26fc-4fc7-8431-bf9f41a649dd</td>\n",
       "      <td>1.425930e+12</td>\n",
       "      <td>version 1.0, build 7</td>\n",
       "      <td>iPhone 6 Plus</td>\n",
       "      <td>5395191.0</td>\n",
       "      <td>{{0, 191.33333333333331}, {104, 104}}</td>\n",
       "      <td>{{128, 191.33333333333331}, {104, 104}}</td>\n",
       "      <td>...</td>\n",
       "      <td>1.425930e+12</td>\n",
       "      <td>5395211.0</td>\n",
       "      <td>{414, 672}</td>\n",
       "      <td>I don't take Parkinson medications</td>\n",
       "      <td>229</td>\n",
       "      <td>32.0</td>\n",
       "      <td>0.0</td>\n",
       "      <td>Male</td>\n",
       "      <td>1</td>\n",
       "      <td>0</td>\n",
       "    </tr>\n",
       "  </tbody>\n",
       "</table>\n",
       "<p>5 rows × 21 columns</p>\n",
       "</div>"
      ],
      "text/plain": [
       "   ROW_ID  ROW_VERSION                              recordId  \\\n",
       "0   82315           18  caf7a74b-0d2e-4c43-9233-ed5dc6e7b176   \n",
       "1   82316           18  94c95572-b405-49ca-9eb0-7426254990d5   \n",
       "2   88685           19  6e5f5d0f-745c-4f0d-b210-829f1490a37f   \n",
       "3   82317           18  ebd99144-5b84-486e-818c-5f8daf8beebf   \n",
       "4   82318           18  8e32cff2-c8f9-4047-af57-411a98fc9116   \n",
       "\n",
       "                             healthCode     createdOn            appVersion  \\\n",
       "0  639e8a78-3631-4231-bda1-c911c1b169e5  1.425900e+12  version 1.0, build 7   \n",
       "1  52fe366a-2a9f-4260-9fb1-0fbc637a6cf4  1.425930e+12  version 1.0, build 7   \n",
       "2  52fe366a-2a9f-4260-9fb1-0fbc637a6cf4  1.426020e+12  version 1.0, build 7   \n",
       "3  67bdd316-26fc-4fc7-8431-bf9f41a649dd  1.425930e+12  version 1.0, build 7   \n",
       "4  67bdd316-26fc-4fc7-8431-bf9f41a649dd  1.425930e+12  version 1.0, build 7   \n",
       "\n",
       "         phoneInfo  accel_tapping.json.items  \\\n",
       "0         iPhone 6                 5395782.0   \n",
       "1  iPhone 5s (GSM)                 5403976.0   \n",
       "2  iPhone 5s (GSM)                 5471683.0   \n",
       "3    iPhone 6 Plus                 5397281.0   \n",
       "4    iPhone 6 Plus                 5395191.0   \n",
       "\n",
       "     tapping_results.json.ButtonRectLeft  \\\n",
       "0               {{0, 191.5}, {104, 104}}   \n",
       "1               {{0, 156.5}, {104, 104}}   \n",
       "2               {{0, 156.5}, {104, 104}}   \n",
       "3  {{0, 191.33333333333331}, {104, 104}}   \n",
       "4  {{0, 191.33333333333331}, {104, 104}}   \n",
       "\n",
       "      tapping_results.json.ButtonRectRight  ...  \\\n",
       "0               {{128, 191.5}, {104, 104}}  ...   \n",
       "1               {{128, 156.5}, {104, 104}}  ...   \n",
       "2               {{128, 156.5}, {104, 104}}  ...   \n",
       "3  {{128, 191.33333333333331}, {104, 104}}  ...   \n",
       "4  {{128, 191.33333333333331}, {104, 104}}  ...   \n",
       "\n",
       "   tapping_results.json.startDate  tapping_results.json.TappingSamples  \\\n",
       "0                    1.425900e+12                            5395798.0   \n",
       "1                    1.425930e+12                            5403991.0   \n",
       "2                    1.426020e+12                            5471839.0   \n",
       "3                    1.425930e+12                            5397298.0   \n",
       "4                    1.425930e+12                            5395211.0   \n",
       "\n",
       "   tapping_results.json.TappingViewSize                        medTimepoint  \\\n",
       "0                            {375, 603}  I don't take Parkinson medications   \n",
       "1                            {320, 504}  I don't take Parkinson medications   \n",
       "2                            {320, 504}  I don't take Parkinson medications   \n",
       "3                            {414, 672}  I don't take Parkinson medications   \n",
       "4                            {414, 672}  I don't take Parkinson medications   \n",
       "\n",
       "  TapPerform   age  diagnosis-year  gender Male  Prefer not to answer  \n",
       "0        294  24.0             0.0    Male    1                     0  \n",
       "1        289  38.0             0.0  Female    0                     0  \n",
       "2        374  38.0             0.0  Female    0                     0  \n",
       "3        164  32.0             0.0    Male    1                     0  \n",
       "4        229  32.0             0.0    Male    1                     0  \n",
       "\n",
       "[5 rows x 21 columns]"
      ]
     },
     "execution_count": 7,
     "metadata": {},
     "output_type": "execute_result"
    }
   ],
   "source": [
    "# change gender column to categorical 0:female, 1: male\n",
    "df_gender = pd.get_dummies(TapTableN['gender'],drop_first=True)\n",
    "#print(TapTableN.gender.value_counts())\n",
    "TapTableN = pd.concat([TapTableN, df_gender], axis=1)\n",
    "TapTableN.head()\n",
    "#df.Embarked.value_counts()\n",
    "#df = pd.get_dummies(df, columns=['Sex', 'Embarked'])\n",
    "#pd.get_dummies(df.Sex, drop_first=True)\n"
   ]
  },
  {
   "cell_type": "markdown",
   "metadata": {},
   "source": [
    "## Building the model"
   ]
  },
  {
   "cell_type": "code",
   "execution_count": 19,
   "metadata": {},
   "outputs": [
    {
     "name": "stdout",
     "output_type": "stream",
     "text": [
      "Number of persons with the disease is: 1286.00\n",
      "Number of persons total: 8697.00\n",
      "Accuracy of logistic regression classifier on test set: 0.91\n",
      "[[2153   84]\n",
      " [ 155  218]]\n",
      "              precision    recall  f1-score   support\n",
      "\n",
      "         0.0       0.93      0.96      0.95      2237\n",
      "         1.0       0.72      0.58      0.65       373\n",
      "\n",
      "    accuracy                           0.91      2610\n",
      "   macro avg       0.83      0.77      0.80      2610\n",
      "weighted avg       0.90      0.91      0.90      2610\n",
      "\n"
     ]
    },
    {
     "data": {
      "image/png": "[encoded data removed]",
      "text/plain": [
       "<Figure size 432x288 with 2 Axes>"
      ]
     },
     "metadata": {
      "needs_background": "light"
     },
     "output_type": "display_data"
    }
   ],
   "source": [
    "# Classification for each quantile\n",
    "import numpy as np\n",
    "from sklearn.linear_model import LogisticRegression\n",
    "from sklearn import metrics\n",
    "from sklearn.model_selection import train_test_split\n",
    "from sklearn.metrics import classification_report\n",
    "from sklearn.metrics import classification_report\n",
    "from sklearn.metrics import confusion_matrix\n",
    "from sklearn.metrics import classification_report\n",
    "from sklearn.metrics import plot_confusion_matrix\n",
    "import matplotlib.pyplot as plt\n",
    "\n",
    "\n",
    "\n",
    "X = TapTableN[['TapPerform','age','Male','Prefer not to answer']].to_numpy()\n",
    "#XTapPerf = np.reshape(XTapPerf, (-1,1))\n",
    "TapTableN['PDOn']= TapTableN['diagnosis-year']\n",
    "Y=TapTableN['PDOn'].to_numpy()\n",
    "Y[Y!=0] = 1\n",
    "print('Number of persons with the disease is: {:.2f}'.format(np.sum(Y)))\n",
    "print('Number of persons total: {:.2f}'.format(len(Y)))\n",
    "#array_sum = np.sum(X)\n",
    "#array_has_nan = np.isnan(array_sum)\n",
    "#print(array_has_nan)\n",
    "\n",
    "X_train, X_test, y_train, y_test = train_test_split(X,Y , test_size=0.3, random_state=0)\n",
    "\n",
    "#print(X)\n",
    "#print(Y)\n",
    "#print(y_train.shape)\n",
    "\n",
    "\n",
    "#Training logistic regression\n",
    "logreg = LogisticRegression()\n",
    "logreg.fit(X_train, y_train)\n",
    "y_pred = logreg.predict(X_test)\n",
    "print('Accuracy of logistic regression classifier on test set: {:.2f}'.format(logreg.score(X_test, y_test)))\n",
    "\n",
    "confusionMatrix = confusion_matrix(y_test, y_pred)\n",
    "print(confusionMatrix)\n",
    "print(classification_report(y_test, y_pred))\n",
    "disp = plot_confusion_matrix(logreg, X_test, y_test,cmap=plt.cm.Blues)\n",
    "\n",
    "\n",
    "#Notes on the Report:\n",
    "#Precision 0: TN/(TN+FN) of those predicted with out the disease, which how many really do not have it.\n",
    "#Precision 1: TP/(TP+FP) of those predicted with the disease, which how many really had it.\n",
    "#Recall 0: TN/(TN+FP) of those that dont have the disease how many were predicted with out the disease\n",
    "#Recall 1: TP/(TP+FN) of those that have the disease how many were predicted with the disease\n",
    "#Accuracy: TP+TN/(TP+TN+FP+FN), how many were classified correctly.\n",
    "#For early diagnosis we would like to focus on recall 1 to be high. People with early stages of the disease should diagnose\n",
    "#Few false negatives."
   ]
  },
  {
   "cell_type": "code",
   "execution_count": 27,
   "metadata": {},
   "outputs": [
    {
     "data": {
      "image/png": "[encoded data removed]",
      "text/plain": [
       "<Figure size 432x288 with 1 Axes>"
      ]
     },
     "metadata": {
      "needs_background": "light"
     },
     "output_type": "display_data"
    },
    {
     "name": "stdout",
     "output_type": "stream",
     "text": [
      "0.16627051778186974\n",
      "0.8579088471849866\n",
      "0.11175681716584712\n"
     ]
    }
   ],
   "source": [
    "#Plotting ROC Curve\n",
    "\n",
    "#Calculate probabilities. Notice that this is different than evaluating the predict y_pred\n",
    "y_prob = logreg.predict_proba(X_test)\n",
    "y_prob1 = y_prob[:, 1]\n",
    "\n",
    "fpr, tpr, threshold = metrics.roc_curve(y_test, y_prob1)\n",
    "roc_auc = metrics.auc(fpr, tpr)\n",
    "\n",
    "plt.title('Receiver Operating Characteristic')\n",
    "plt.plot(fpr, tpr, 'b', label = 'AUC = %0.2f' % roc_auc)\n",
    "plt.legend(loc = 'lower right')\n",
    "plt.plot([0, 1], [0, 1],'r--')\n",
    "plt.xlim([0, 1])\n",
    "plt.ylim([0, 1])\n",
    "plt.ylabel('True Positive Rate')\n",
    "plt.xlabel('False Positive Rate')\n",
    "plt.show()\n",
    "\n",
    "#Finding the best threshold\n",
    "print(threshold[np.argmax(tpr - fpr)])\n",
    "print(tpr[np.argmax(tpr - fpr)])\n",
    "print(fpr[np.argmax(tpr - fpr)])"
   ]
  },
  {
   "cell_type": "markdown",
   "metadata": {},
   "source": [
    "## Using only people before taking medication\n"
   ]
  },
  {
   "cell_type": "code",
   "execution_count": 16,
   "metadata": {},
   "outputs": [
    {
     "name": "stdout",
     "output_type": "stream",
     "text": [
      "Accuracy of logistic regression classifier on test set: 0.94\n",
      "[[2191   38]\n",
      " [  96   44]]\n",
      "              precision    recall  f1-score   support\n",
      "\n",
      "         0.0       0.96      0.98      0.97      2229\n",
      "         1.0       0.54      0.31      0.40       140\n",
      "\n",
      "    accuracy                           0.94      2369\n",
      "   macro avg       0.75      0.65      0.68      2369\n",
      "weighted avg       0.93      0.94      0.94      2369\n",
      "\n"
     ]
    },
    {
     "data": {
      "image/png": "[encoded data removed]",
      "text/plain": [
       "<Figure size 432x288 with 2 Axes>"
      ]
     },
     "metadata": {
      "needs_background": "light"
     },
     "output_type": "display_data"
    }
   ],
   "source": [
    "TapTableB = TapTableN[TapTableN['medTimepoint'] != \"Just after Parkinson medication (at your best)\"] \n",
    "TapTableC = TapTableB[TapTableB['medTimepoint'] != \"Another time\"] \n",
    "\n",
    "XX = TapTableC[['TapPerform','age','Male','Prefer not to answer']].to_numpy()\n",
    "YY=TapTableC['PDOn'].to_numpy()\n",
    "YY[YY!=0] = 1\n",
    "\n",
    "XX_train, XX_test, yy_train, yy_test = train_test_split(XX,YY , test_size=0.3, random_state=1)\n",
    "\n",
    "#Training logistic regression\n",
    "logregC = LogisticRegression()\n",
    "logregC.fit(XX_train, yy_train)\n",
    "yy_predC = logregC.predict(XX_test)\n",
    "print('Accuracy of logistic regression classifier on test set: {:.2f}'.format(logregC.score(XX_test, yy_test)))\n",
    "confusionMatrixC = confusion_matrix(yy_test, yy_predC)\n",
    "print(confusionMatrixC)\n",
    "print(classification_report(yy_test, yy_predC))\n",
    "dispC = plot_confusion_matrix(logregC, XX_test, yy_test,cmap=plt.cm.Blues)\n",
    "\n"
   ]
  },
  {
   "cell_type": "code",
   "execution_count": 17,
   "metadata": {},
   "outputs": [
    {
     "data": {
      "image/png": "[encoded data removed]",
      "text/plain": [
       "<Figure size 432x288 with 1 Axes>"
      ]
     },
     "metadata": {
      "needs_background": "light"
     },
     "output_type": "display_data"
    }
   ],
   "source": [
    "#Plotting ROC Curve\n",
    "\n",
    "#Calculate probabilities. Notice that this is different than evaluating the predict y_pred\n",
    "y_probC = logregC.predict_proba(XX_test)\n",
    "y_prob1C = y_probC[:, 1]\n",
    "\n",
    "fprC, tprC, thresholdC = metrics.roc_curve(yy_test, y_prob1C)\n",
    "roc_aucC = metrics.auc(fprC, tprC)\n",
    "\n",
    "plt.title('Receiver Operating Characteristic')\n",
    "plt.plot(fprC, tprC, 'b', label = 'AUC = %0.2f' % roc_auc)\n",
    "plt.legend(loc = 'lower right')\n",
    "plt.plot([0, 1], [0, 1],'r--')\n",
    "plt.xlim([0, 1])\n",
    "plt.ylim([0, 1])\n",
    "plt.ylabel('True Positive Rate')\n",
    "plt.xlabel('False Positive Rate')\n",
    "plt.show()\n",
    "#Saving this for using the new threshold\n",
    "#y_pred = (clf.predict_proba(X_test)[:,1] >= 0.3).astype(bool) # set threshold as 0.3\n",
    "#print(fprC)\n",
    "#print(fpr)"
   ]
  },
  {
   "cell_type": "markdown",
   "metadata": {},
   "source": [
    "## Graph to see time dependency"
   ]
  },
  {
   "cell_type": "code",
   "execution_count": 35,
   "metadata": {},
   "outputs": [
    {
     "name": "stderr",
     "output_type": "stream",
     "text": [
      "[WARNING] <ipython-input-35-542d9e297eb3>:6: SettingWithCopyWarning: \n",
      "A value is trying to be set on a copy of a slice from a DataFrame\n",
      "\n",
      "See the caveats in the documentation: https://pandas.pydata.org/pandas-docs/stable/user_guide/indexing.html#returning-a-view-versus-a-copy\n",
      "  YearsPD[Ind]=(2015-YearsPD[Ind])\n",
      "\n"
     ]
    },
    {
     "name": "stdout",
     "output_type": "stream",
     "text": [
      "0.016125089195343046\n",
      "0.0\n"
     ]
    },
    {
     "data": {
      "image/png": "[encoded data removed]",
      "text/plain": [
       "<Figure size 432x288 with 1 Axes>"
      ]
     },
     "metadata": {
      "needs_background": "light"
     },
     "output_type": "display_data"
    }
   ],
   "source": [
    "Prob = logreg.predict_proba(X)\n",
    "ProbOfPD=Prob[:, 1]\n",
    "Ind=(TapTableN[\"diagnosis-year\"]!=0)\n",
    "YearsPD=TapTableN[\"diagnosis-year\"]\n",
    "nd=(YearsPD!=0)\n",
    "YearsPD[Ind]=(2015-YearsPD[Ind])\n",
    "plt.scatter(YearsPD, ProbOfPD, c=\"g\", alpha=0.5, marker=r'$\\clubsuit$',\n",
    "            label=\"Luck\")\n",
    "plt.xlim([0, 20])\n",
    "print(ProbOfPD[42])\n",
    "print(YearsPD[42])\n",
    "#TapTableN[\"TimeDis\"][Ind]=(2015-TapTableN[\"diagnosis-year\"][Ind])\n",
    "#print(TapTableN[\"age\"][72])"
   ]
  },
  {
   "cell_type": "markdown",
   "metadata": {},
   "source": [
    "## Classifying using diagnostic year as starting point of the disease"
   ]
  },
  {
   "cell_type": "code",
   "execution_count": 13,
   "metadata": {},
   "outputs": [
    {
     "name": "stdout",
     "output_type": "stream",
     "text": [
      "0.25    2.0\n",
      "0.50    4.0\n",
      "0.75    7.0\n",
      "Name: diagnosis-year, dtype: float64\n"
     ]
    },
    {
     "data": {
      "image/png": "[encoded data removed]",
      "text/plain": [
       "<Figure size 432x288 with 1 Axes>"
      ]
     },
     "metadata": {
      "needs_background": "light"
     },
     "output_type": "display_data"
    }
   ],
   "source": [
    "#Let us look at a histogram of the diagnosis year and find quantiles\n",
    "\n",
    "\n",
    "Bol=TapTableN[\"diagnosis-year\"]!=0 \n",
    "Diagnosis=TapTableN[\"diagnosis-year\"][Bol]\n",
    "Bol2=Diagnosis>1960\n",
    "Diagnosis= 2015-Diagnosis[Bol2]\n",
    "#print(Diagnosis)\n",
    "hist = Diagnosis.hist(bins=10)\n",
    "YearsDiaQuant=Diagnosis.quantile([.25, .5, 0.75])\n",
    "\n",
    "##Drop values were diagnosis year does not make sense\n",
    "#Diagnosis = Diagnosis[Diagnosis > 15]\n",
    "print(YearsDiaQuant)\n",
    "\n",
    "\n"
   ]
  },
  {
   "cell_type": "markdown",
   "metadata": {},
   "source": [
    "## Classifier for first quantile"
   ]
  },
  {
   "cell_type": "code",
   "execution_count": 14,
   "metadata": {},
   "outputs": [],
   "source": [
    "#Ind=(TapTableN[\"diagnosis-year\"]!=0)\n",
    "#TapTableN[\"TimeDis\"]=TapTableN[\"diagnosis-year\"]\n",
    "##C=(2015-TapTableN[\"diagnosis-year\"][Ind])\n",
    "#TapTableN[\"TimeDis\"][Ind]=(2015-TapTableN[\"diagnosis-year\"][Ind])\n",
    "\n",
    "#print(TapTableN[\"TimeDis\"])\n",
    "##TapTableN['TimeWithPD']= TapTableN['diagnosis-year']\n"
   ]
  },
  {
   "cell_type": "code",
   "execution_count": 15,
   "metadata": {},
   "outputs": [],
   "source": [
    "#YearsDiaQuant=Diagnosis.quantile([.25, .5, 0.75])\n",
    "#print(YearsDiaQuant)\n",
    "#ListQ=YearsDiaQuant.to_list\n",
    "#ListQ[[1]]\n",
    "\n",
    "\n",
    "\n"
   ]
  },
  {
   "cell_type": "code",
   "execution_count": null,
   "metadata": {},
   "outputs": [],
   "source": []
  },
  {
   "cell_type": "code",
   "execution_count": null,
   "metadata": {},
   "outputs": [],
   "source": []
  }
 ],
 "metadata": {
  "kernelspec": {
   "display_name": "Python [conda env:insight] *",
   "language": "python",
   "name": "conda-env-insight-py"
  },
  "language_info": {
   "codemirror_mode": {
    "name": "ipython",
    "version": 3
   },
   "file_extension": ".py",
   "mimetype": "text/x-python",
   "name": "python",
   "nbconvert_exporter": "python",
   "pygments_lexer": "ipython3",
   "version": "3.8.5"
  }
 },
 "nbformat": 4,
 "nbformat_minor": 4
}
