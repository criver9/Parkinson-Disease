{
 "cells": [
  {
   "cell_type": "code",
   "execution_count": 1,
   "metadata": {},
   "outputs": [],
   "source": [
    "import synapseclient\n",
    "import pandas as pd\n",
    "import json\n",
    "import csv"
   ]
  },
  {
   "cell_type": "code",
   "execution_count": 2,
   "metadata": {},
   "outputs": [],
   "source": [
    "def TapPerformance(TapPD1):\n",
    "    TapPD1.loc[TapPD1.TappedButtonId == 'TappedButtonLeft', 'TappedButtonId'] = 0\n",
    "    TapPD1.loc[TapPD1.TappedButtonId == 'TappedButtonRight', 'TappedButtonId'] = 1\n",
    "    TapPD1.loc[TapPD1.TappedButtonId == 'TappedButtonNone', 'TappedButtonId'] = 2\n",
    "    #TapPD1.TappedButtonId[TapPD1.TappedButtonId == 'TappedButtonLeft'] = 0\n",
    "    #TapPD1.TappedButtonId[TapPD1.TappedButtonId == 'TappedButtonRight'] = 1\n",
    "    #TapPD1.TappedButtonId[TapPD1.TappedButtonId == 'TappedButtonNone'] = 2\n",
    "    TapPD1 = Artifactfixed(TapPD1)\n",
    "    TapPerf= TapPD1.shape[0]\n",
    "    return (TapPerf)"
   ]
  },
  {
   "cell_type": "code",
   "execution_count": 3,
   "metadata": {},
   "outputs": [],
   "source": [
    "#Index=list()\n",
    "def Artifactfixed(TapCont):\n",
    "    Ind =  [True] * TapCont.shape[0]\n",
    "    for item in range(0,TapCont.shape[0]-1):\n",
    "        if TapCont.TapCoordinate[item]==TapCont.TapCoordinate[item+1]:\n",
    "            if TapCont.TappedButtonId[item]==2:\n",
    "                Ind[item]=False\n",
    "            elif TapCont.TappedButtonId[item+1]==2:\n",
    "                Ind[item]=False\n",
    "    TapContArtFixed=TapCont[Ind]\n",
    "    return TapContArtFixed\n",
    "          "
   ]
  },
  {
   "cell_type": "code",
   "execution_count": 7,
   "metadata": {},
   "outputs": [
    {
     "name": "stdout",
     "output_type": "stream",
     "text": [
      "catarivera8\n",
      "Crm1061709701\n",
      "catarivera8\n",
      "Crm1061709701\n"
     ]
    }
   ],
   "source": [
    "Cred = open(\"Credentials.txt\",\"r\",encoding='utf8')\n",
    "lines=Cred.readlines()\n",
    "username1=lines[0][:-1]\n",
    "password1=lines[1][:-1]\n",
    "Cred.close()\n",
    "print(username1)\n",
    "print(password1)\n"
   ]
  },
  {
   "cell_type": "code",
   "execution_count": 8,
   "metadata": {
    "scrolled": false
   },
   "outputs": [
    {
     "name": "stdout",
     "output_type": "stream",
     "text": [
      "Welcome, Catalina Rivera!\n",
      "\n",
      "Downloading 0 files, 100 cached locally\n",
      "Downloading 0 files, 100 cached locally\n",
      "Downloading 0 files, 100 cached locally\n",
      "Downloading 0 files, 100 cached locally\n",
      "Downloading 0 files, 100 cached locally\n",
      "Downloading 0 files, 100 cached locally\n",
      "Downloading 0 files, 100 cached locally\n"
     ]
    }
   ],
   "source": [
    "syn = synapseclient.Synapse()\n",
    "syn.login(username1, password1)\n",
    "\n",
    "\n",
    "## QUERY THE mPower PROJECT (syn4993293) FOR ALL OF THE TABLES\n",
    "# See examples: https://python-docs.synapse.org/build/html/index.html \n",
    "# and https://www.synapse.org/#!Synapse:syn4993293/discussion/threadId=6785\n",
    "with open('TappingTable.csv') as csvfile:\n",
    "    TapTable=pd.read_csv(csvfile, delimiter=',')\n",
    "with open('DemoTable.csv') as csvfile:\n",
    "    DemoTable=pd.read_csv(csvfile, delimiter=',') \n",
    "#Using Patient column (healthCode) as index for the Data frames\n",
    "#TapTableB = TapTable.set_index(\"healthCode\", drop = False) \n",
    "#DemoTableB = DemoTable.set_index(\"healthCode\", drop = False)    \n",
    "\n",
    "      \n",
    "#TapPD = list()\n",
    "PathList = list()\n",
    "LabelList = list()\n",
    "#PatientType = list()\n",
    "#PatientList = list()\n",
    "#AgeList = list()\n",
    "Perform =list()\n",
    "for offset in range(0,700,100):\n",
    "    results = syn.tableQuery('SELECT * FROM syn5511439 LIMIT 100 OFFSET '+str(offset))\n",
    "    file_map=syn.downloadTableColumns(results,['tapping_results.json.TappingSamples'])\n",
    "    for file_handle_id, path in file_map.items():\n",
    "        #TapPD.append(pd.read_json(path))\n",
    "        PathList.append(path)\n",
    "        LabelList.append(int(file_handle_id))\n",
    "        #PatientType.append(TapTableB['medTimepoint'][TapTable['tapping_results.json.TappingSamples'] == int(file_handle_id)])\n",
    "        Perform.append(TapPerformance(pd.read_json(path))) #Tap performance\n",
    "        #PatientList.append(TapTableB['healthCode'][TapTableB['tapping_results.json.TappingSamples'] == int(file_handle_id)])\n",
    "        #DemoTableB.loc[(TapTableB['healthCode'][TapTableB['tapping_results.json.TappingSamples'] == int(file_handle_id)]),\"age\"]\n",
    "        "
   ]
  },
  {
   "cell_type": "code",
   "execution_count": 7,
   "metadata": {},
   "outputs": [
    {
     "name": "stdout",
     "output_type": "stream",
     "text": [
      "<class 'str'>\n"
     ]
    }
   ],
   "source": [
    "print(type(username1))"
   ]
  },
  {
   "cell_type": "markdown",
   "metadata": {},
   "source": [
    "## Building data frame using tapping performance and demographic information"
   ]
  },
  {
   "cell_type": "code",
   "execution_count": null,
   "metadata": {},
   "outputs": [],
   "source": [
    "TapTable.columns\n",
    "#Drop columns no needed\n",
    "TapTable=TapTable.drop(['ROW_ID', 'ROW_VERSION','recordId','createdOn','appVersion','phoneInfo','accel_tapping.json.items','tapping_results.json.ButtonRectLeft','tapping_results.json.ButtonRectRight','tapping_results.json.endDate','tapping_results.json.startDate','tapping_results.json.TappingViewSize','medTimepoint'], axis=1)\n",
    "#Creating directory\n",
    "d = {'tapping_results.json.TappingSamples':LabelList,'TapPerform':Perform}\n",
    "PerfInfo = pd.DataFrame(d)\n",
    "#Merges TapTables with the PerfInfo and drops thos values in TapTable that are not defined in PerInfo\n",
    "#TapTable=TapTable.merge(PerfInfo,left_on='tapping_results.json.TappingSamples', right_on='tapping_results.json.TappingSamples')\n",
    "TapTable=TapTable.merge(PerfInfo)\n",
    "\n"
   ]
  },
  {
   "cell_type": "code",
   "execution_count": 8,
   "metadata": {},
   "outputs": [
    {
     "name": "stdout",
     "output_type": "stream",
     "text": [
      "                             healthCode  TapPerform\n",
      "0  000240d1-1110-4dd2-a2d0-e344c37efd68  325.000000\n",
      "1  00290381-e82e-46b2-b4e6-df115823d71b  216.000000\n",
      "2  00372eda-3796-481b-96f7-f37e8e600904  173.666667\n",
      "3  005908f8-2bf2-4855-ab2d-ac3c0190b8fb  282.000000\n",
      "4  006a97bb-c263-4d80-84b2-39454e8d4ffb  269.000000\n"
     ]
    }
   ],
   "source": [
    "# Averaging results over patients\n",
    "TapTableN = TapTable.groupby(\"healthCode\")[\"TapPerform\"].mean()\n",
    "TapTableN = pd.DataFrame(TapTableN)  \n",
    "TapTableN = TapTableN.reset_index()\n",
    "print(TapTableN.head())\n",
    "\n"
   ]
  },
  {
   "cell_type": "code",
   "execution_count": 9,
   "metadata": {},
   "outputs": [
    {
     "data": {
      "text/plain": [
       "(2944, 2)"
      ]
     },
     "execution_count": 9,
     "metadata": {},
     "output_type": "execute_result"
    }
   ],
   "source": [
    "TapTableN.shape"
   ]
  },
  {
   "cell_type": "code",
   "execution_count": 10,
   "metadata": {
    "scrolled": true
   },
   "outputs": [
    {
     "data": {
      "text/html": [
       "<div>\n",
       "<style scoped>\n",
       "    .dataframe tbody tr th:only-of-type {\n",
       "        vertical-align: middle;\n",
       "    }\n",
       "\n",
       "    .dataframe tbody tr th {\n",
       "        vertical-align: top;\n",
       "    }\n",
       "\n",
       "    .dataframe thead th {\n",
       "        text-align: right;\n",
       "    }\n",
       "</style>\n",
       "<table border=\"1\" class=\"dataframe\">\n",
       "  <thead>\n",
       "    <tr style=\"text-align: right;\">\n",
       "      <th></th>\n",
       "      <th>age</th>\n",
       "      <th>healthCode</th>\n",
       "      <th>diagnosis-year</th>\n",
       "      <th>gender</th>\n",
       "      <th>TapPerform</th>\n",
       "    </tr>\n",
       "  </thead>\n",
       "  <tbody>\n",
       "    <tr>\n",
       "      <th>0</th>\n",
       "      <td>24.0</td>\n",
       "      <td>639e8a78-3631-4231-bda1-c911c1b169e5</td>\n",
       "      <td>NaN</td>\n",
       "      <td>Male</td>\n",
       "      <td>294.000000</td>\n",
       "    </tr>\n",
       "    <tr>\n",
       "      <th>1</th>\n",
       "      <td>38.0</td>\n",
       "      <td>52fe366a-2a9f-4260-9fb1-0fbc637a6cf4</td>\n",
       "      <td>NaN</td>\n",
       "      <td>Female</td>\n",
       "      <td>331.500000</td>\n",
       "    </tr>\n",
       "    <tr>\n",
       "      <th>2</th>\n",
       "      <td>32.0</td>\n",
       "      <td>67bdd316-26fc-4fc7-8431-bf9f41a649dd</td>\n",
       "      <td>NaN</td>\n",
       "      <td>Male</td>\n",
       "      <td>189.666667</td>\n",
       "    </tr>\n",
       "    <tr>\n",
       "      <th>3</th>\n",
       "      <td>48.0</td>\n",
       "      <td>45b4e2ca-8d15-4736-828c-829e3d4177f4</td>\n",
       "      <td>NaN</td>\n",
       "      <td>Male</td>\n",
       "      <td>305.000000</td>\n",
       "    </tr>\n",
       "    <tr>\n",
       "      <th>4</th>\n",
       "      <td>24.0</td>\n",
       "      <td>114fe75a-dc53-4b40-a987-0cddc76aff92</td>\n",
       "      <td>NaN</td>\n",
       "      <td>Male</td>\n",
       "      <td>326.000000</td>\n",
       "    </tr>\n",
       "  </tbody>\n",
       "</table>\n",
       "</div>"
      ],
      "text/plain": [
       "    age                            healthCode  diagnosis-year  gender  \\\n",
       "0  24.0  639e8a78-3631-4231-bda1-c911c1b169e5             NaN    Male   \n",
       "1  38.0  52fe366a-2a9f-4260-9fb1-0fbc637a6cf4             NaN  Female   \n",
       "2  32.0  67bdd316-26fc-4fc7-8431-bf9f41a649dd             NaN    Male   \n",
       "3  48.0  45b4e2ca-8d15-4736-828c-829e3d4177f4             NaN    Male   \n",
       "4  24.0  114fe75a-dc53-4b40-a987-0cddc76aff92             NaN    Male   \n",
       "\n",
       "   TapPerform  \n",
       "0  294.000000  \n",
       "1  331.500000  \n",
       "2  189.666667  \n",
       "3  305.000000  \n",
       "4  326.000000  "
      ]
     },
     "execution_count": 10,
     "metadata": {},
     "output_type": "execute_result"
    }
   ],
   "source": [
    "\n",
    "#Sub-DataFrame of Demo Table with only features of interest: Age, diagnostic year, gender.\n",
    "#DemoTable.head()\n",
    "DemoTableN=DemoTable[[\"age\",\"healthCode\",\"diagnosis-year\",\"gender\"]]\n",
    "DemoTableN.shape\n",
    "DemoTableN= DemoTableN[DemoTableN['gender'] != 'Prefer not to answer']\n",
    "#Merges TapTables with the PerfInfo and drops thos values in TapTable that are not defined in PerInfo\n",
    "TapTableN=DemoTableN.merge(TapTableN)\n",
    "TapTableN.head()\n",
    " \n",
    "\n"
   ]
  },
  {
   "cell_type": "code",
   "execution_count": 11,
   "metadata": {},
   "outputs": [],
   "source": [
    "TapTableN=TapTableN.dropna(subset=['age','gender'])"
   ]
  },
  {
   "cell_type": "code",
   "execution_count": 12,
   "metadata": {},
   "outputs": [
    {
     "data": {
      "text/html": [
       "<div>\n",
       "<style scoped>\n",
       "    .dataframe tbody tr th:only-of-type {\n",
       "        vertical-align: middle;\n",
       "    }\n",
       "\n",
       "    .dataframe tbody tr th {\n",
       "        vertical-align: top;\n",
       "    }\n",
       "\n",
       "    .dataframe thead th {\n",
       "        text-align: right;\n",
       "    }\n",
       "</style>\n",
       "<table border=\"1\" class=\"dataframe\">\n",
       "  <thead>\n",
       "    <tr style=\"text-align: right;\">\n",
       "      <th></th>\n",
       "      <th>age</th>\n",
       "      <th>healthCode</th>\n",
       "      <th>diagnosis-year</th>\n",
       "      <th>gender</th>\n",
       "    </tr>\n",
       "  </thead>\n",
       "  <tbody>\n",
       "    <tr>\n",
       "      <th>0</th>\n",
       "      <td>24.0</td>\n",
       "      <td>639e8a78-3631-4231-bda1-c911c1b169e5</td>\n",
       "      <td>NaN</td>\n",
       "      <td>Male</td>\n",
       "    </tr>\n",
       "    <tr>\n",
       "      <th>1</th>\n",
       "      <td>40.0</td>\n",
       "      <td>9295f618-177c-4676-b6aa-dc8419fd37ec</td>\n",
       "      <td>NaN</td>\n",
       "      <td>Male</td>\n",
       "    </tr>\n",
       "    <tr>\n",
       "      <th>2</th>\n",
       "      <td>38.0</td>\n",
       "      <td>52fe366a-2a9f-4260-9fb1-0fbc637a6cf4</td>\n",
       "      <td>NaN</td>\n",
       "      <td>Female</td>\n",
       "    </tr>\n",
       "    <tr>\n",
       "      <th>3</th>\n",
       "      <td>32.0</td>\n",
       "      <td>67bdd316-26fc-4fc7-8431-bf9f41a649dd</td>\n",
       "      <td>NaN</td>\n",
       "      <td>Male</td>\n",
       "    </tr>\n",
       "    <tr>\n",
       "      <th>4</th>\n",
       "      <td>48.0</td>\n",
       "      <td>45b4e2ca-8d15-4736-828c-829e3d4177f4</td>\n",
       "      <td>NaN</td>\n",
       "      <td>Male</td>\n",
       "    </tr>\n",
       "  </tbody>\n",
       "</table>\n",
       "</div>"
      ],
      "text/plain": [
       "    age                            healthCode  diagnosis-year  gender\n",
       "0  24.0  639e8a78-3631-4231-bda1-c911c1b169e5             NaN    Male\n",
       "1  40.0  9295f618-177c-4676-b6aa-dc8419fd37ec             NaN    Male\n",
       "2  38.0  52fe366a-2a9f-4260-9fb1-0fbc637a6cf4             NaN  Female\n",
       "3  32.0  67bdd316-26fc-4fc7-8431-bf9f41a649dd             NaN    Male\n",
       "4  48.0  45b4e2ca-8d15-4736-828c-829e3d4177f4             NaN    Male"
      ]
     },
     "execution_count": 12,
     "metadata": {},
     "output_type": "execute_result"
    }
   ],
   "source": [
    "DemoTableN.head()"
   ]
  },
  {
   "cell_type": "code",
   "execution_count": 13,
   "metadata": {},
   "outputs": [],
   "source": [
    "# change gender column to categorical 0:female, 1: male\n",
    "df_gender = pd.get_dummies(TapTableN['gender'],drop_first=True)\n",
    "#print(TapTableN.gender.value_counts())\n",
    "TapTableN = pd.concat([TapTableN, df_gender], axis=1)\n",
    "TapTableN=TapTableN.drop(['healthCode','gender'], axis=1)\n",
    "\n"
   ]
  },
  {
   "cell_type": "code",
   "execution_count": 14,
   "metadata": {},
   "outputs": [
    {
     "data": {
      "text/html": [
       "<div>\n",
       "<style scoped>\n",
       "    .dataframe tbody tr th:only-of-type {\n",
       "        vertical-align: middle;\n",
       "    }\n",
       "\n",
       "    .dataframe tbody tr th {\n",
       "        vertical-align: top;\n",
       "    }\n",
       "\n",
       "    .dataframe thead th {\n",
       "        text-align: right;\n",
       "    }\n",
       "</style>\n",
       "<table border=\"1\" class=\"dataframe\">\n",
       "  <thead>\n",
       "    <tr style=\"text-align: right;\">\n",
       "      <th></th>\n",
       "      <th>age</th>\n",
       "      <th>diagnosis-year</th>\n",
       "      <th>TapPerform</th>\n",
       "      <th>Male</th>\n",
       "    </tr>\n",
       "  </thead>\n",
       "  <tbody>\n",
       "    <tr>\n",
       "      <th>0</th>\n",
       "      <td>24.0</td>\n",
       "      <td>NaN</td>\n",
       "      <td>294.000000</td>\n",
       "      <td>1</td>\n",
       "    </tr>\n",
       "    <tr>\n",
       "      <th>1</th>\n",
       "      <td>38.0</td>\n",
       "      <td>NaN</td>\n",
       "      <td>331.500000</td>\n",
       "      <td>0</td>\n",
       "    </tr>\n",
       "    <tr>\n",
       "      <th>2</th>\n",
       "      <td>32.0</td>\n",
       "      <td>NaN</td>\n",
       "      <td>189.666667</td>\n",
       "      <td>1</td>\n",
       "    </tr>\n",
       "    <tr>\n",
       "      <th>3</th>\n",
       "      <td>48.0</td>\n",
       "      <td>NaN</td>\n",
       "      <td>305.000000</td>\n",
       "      <td>1</td>\n",
       "    </tr>\n",
       "    <tr>\n",
       "      <th>4</th>\n",
       "      <td>24.0</td>\n",
       "      <td>NaN</td>\n",
       "      <td>326.000000</td>\n",
       "      <td>1</td>\n",
       "    </tr>\n",
       "  </tbody>\n",
       "</table>\n",
       "</div>"
      ],
      "text/plain": [
       "    age  diagnosis-year  TapPerform  Male\n",
       "0  24.0             NaN  294.000000     1\n",
       "1  38.0             NaN  331.500000     0\n",
       "2  32.0             NaN  189.666667     1\n",
       "3  48.0             NaN  305.000000     1\n",
       "4  24.0             NaN  326.000000     1"
      ]
     },
     "execution_count": 14,
     "metadata": {},
     "output_type": "execute_result"
    }
   ],
   "source": [
    "TapTableN.head()\n"
   ]
  },
  {
   "cell_type": "code",
   "execution_count": 15,
   "metadata": {},
   "outputs": [
    {
     "name": "stdout",
     "output_type": "stream",
     "text": [
      "       age  diagnosis-year  TapPerform  Male  YearsPD\n",
      "0     24.0             NaN  294.000000     1        0\n",
      "1     38.0             NaN  331.500000     0        0\n",
      "2     32.0             NaN  189.666667     1        0\n",
      "3     48.0             NaN  305.000000     1        0\n",
      "4     24.0             NaN  326.000000     1        0\n",
      "...    ...             ...         ...   ...      ...\n",
      "2327  54.0             NaN  189.000000     1        0\n",
      "2328  69.0             5.0  107.000000     0        1\n",
      "2329  43.0             NaN  220.000000     1        0\n",
      "2330  21.0             1.0  353.000000     1        1\n",
      "2331  19.0             NaN  329.666667     1        0\n",
      "\n",
      "[2313 rows x 5 columns]\n"
     ]
    }
   ],
   "source": [
    "# diagnosis-year becomes years with diagnosed disease\n",
    "TapTableN['diagnosis-year']=(2015-TapTableN['diagnosis-year'])\n",
    "#NAN REPLACED WITH ZERO AND OTHER INT REPLACED WITH ONE\n",
    "dfb = TapTableN['diagnosis-year'].notnull().astype(int)\n",
    "TapTableN['YearsPD']=dfb\n",
    "print(TapTableN)\n"
   ]
  },
  {
   "cell_type": "code",
   "execution_count": 16,
   "metadata": {},
   "outputs": [],
   "source": [
    "X=TapTableN[['TapPerform', 'age','Male']]\n",
    "y=TapTableN['YearsPD']"
   ]
  },
  {
   "cell_type": "code",
   "execution_count": 17,
   "metadata": {},
   "outputs": [
    {
     "data": {
      "text/plain": [
       "272"
      ]
     },
     "execution_count": 17,
     "metadata": {},
     "output_type": "execute_result"
    }
   ],
   "source": [
    "sum(y)"
   ]
  },
  {
   "cell_type": "markdown",
   "metadata": {},
   "source": [
    "## Building the model"
   ]
  },
  {
   "cell_type": "code",
   "execution_count": 18,
   "metadata": {},
   "outputs": [],
   "source": [
    "from sklearn import datasets\n",
    "from sklearn.model_selection import train_test_split\n",
    "\n",
    "X_train, X_test, y_train, y_test = train_test_split(X,y, test_size=0.3, random_state=123)"
   ]
  },
  {
   "cell_type": "code",
   "execution_count": 19,
   "metadata": {},
   "outputs": [],
   "source": [
    "from sklearn.linear_model import LogisticRegression\n",
    "from sklearn.naive_bayes import GaussianNB\n",
    "from sklearn.neighbors import KNeighborsClassifier\n",
    "from sklearn.tree import DecisionTreeClassifier\n",
    "from sklearn.ensemble import RandomForestClassifier\n",
    "from sklearn.metrics import roc_curve, roc_auc_score"
   ]
  },
  {
   "cell_type": "code",
   "execution_count": 20,
   "metadata": {},
   "outputs": [],
   "source": [
    "classifiers = [LogisticRegression(random_state=123), \n",
    "               GaussianNB(), \n",
    "               RandomForestClassifier(random_state=123)]\n",
    "\n",
    "\n",
    "# Define a result table as a DataFrame\n",
    "result_table = pd.DataFrame(columns=['classifiers', 'fpr','tpr','auc'])\n",
    "\n",
    "# Train the models and record the results\n",
    "for cls in classifiers:\n",
    "    model = cls.fit(X_train, y_train)\n",
    "    yproba = model.predict_proba(X_test)[::,1]\n",
    "    \n",
    "    fpr, tpr, _ = roc_curve(y_test,  yproba)\n",
    "    auc = roc_auc_score(y_test, yproba)\n",
    "    \n",
    "    result_table = result_table.append({'classifiers':cls.__class__.__name__,\n",
    "                                        'fpr':fpr, \n",
    "                                        'tpr':tpr, \n",
    "                                        'auc':auc}, ignore_index=True)\n",
    "\n",
    "# Set name of the classifiers as index labels\n",
    "result_table.set_index('classifiers', inplace=True)"
   ]
  },
  {
   "cell_type": "code",
   "execution_count": 21,
   "metadata": {},
   "outputs": [
    {
     "data": {
      "image/png": "[encoded data removed]",
      "text/plain": [
       "<Figure size 576x432 with 1 Axes>"
      ]
     },
     "metadata": {
      "needs_background": "light"
     },
     "output_type": "display_data"
    }
   ],
   "source": [
    "import matplotlib.pyplot as plt\n",
    "import numpy as np\n",
    "fig = plt.figure(figsize=(8,6))\n",
    "\n",
    "for i in result_table.index:\n",
    "    plt.plot(result_table.loc[i]['fpr'], \n",
    "             result_table.loc[i]['tpr'], \n",
    "             label=\"{}, AUC={:.3f}\".format(i, result_table.loc[i]['auc']))\n",
    "    \n",
    "plt.plot([0,1], [0,1], color='orange', linestyle='--')\n",
    "\n",
    "plt.xticks(np.arange(0.0, 1.1, step=0.1))\n",
    "plt.xlabel(\"False Positive Rate\", fontsize=15)\n",
    "\n",
    "plt.yticks(np.arange(0.0, 1.1, step=0.1))\n",
    "plt.ylabel(\"True Positive Rate\", fontsize=15)\n",
    "\n",
    "plt.title('ROC Curve ', fontweight='bold', fontsize=15)\n",
    "plt.legend(prop={'size':13}, loc='lower right')\n",
    "\n",
    "plt.show()"
   ]
  },
  {
   "cell_type": "code",
   "execution_count": 22,
   "metadata": {},
   "outputs": [
    {
     "data": {
      "text/plain": [
       "LogisticRegression()"
      ]
     },
     "execution_count": 22,
     "metadata": {},
     "output_type": "execute_result"
    }
   ],
   "source": [
    "classifierTap = LogisticRegression()\n",
    "classifierTap.fit(X_train, y_train) "
   ]
  },
  {
   "cell_type": "code",
   "execution_count": 23,
   "metadata": {},
   "outputs": [
    {
     "name": "stdout",
     "output_type": "stream",
     "text": [
      "Accuracy of logistic regression classifier on test set: 0.93\n",
      "              precision    recall  f1-score   support\n",
      "\n",
      "           0       0.95      0.96      0.96       603\n",
      "           1       0.74      0.68      0.71        91\n",
      "\n",
      "    accuracy                           0.93       694\n",
      "   macro avg       0.85      0.82      0.83       694\n",
      "weighted avg       0.92      0.93      0.93       694\n",
      "\n"
     ]
    },
    {
     "data": {
      "image/png": "[encoded data removed]",
      "text/plain": [
       "<Figure size 432x288 with 2 Axes>"
      ]
     },
     "metadata": {
      "needs_background": "light"
     },
     "output_type": "display_data"
    }
   ],
   "source": [
    "from sklearn.metrics import classification_report\n",
    "from sklearn.metrics import confusion_matrix\n",
    "import matplotlib.pyplot as plt\n",
    "from sklearn.metrics import plot_confusion_matrix\n",
    "\n",
    "y_pred = classifierTap.predict(X_test)\n",
    "print('Accuracy of logistic regression classifier on test set: {:.2f}'.format(classifierTap.score(X_test, y_test)))\n",
    "confusionMatrix = confusion_matrix(y_test, y_pred, normalize='true')\n",
    "print(classification_report(y_test, y_pred))\n",
    "disp = plot_confusion_matrix(classifierTap, X_test, y_test,cmap=plt.cm.Blues,normalize='true')\n"
   ]
  },
  {
   "cell_type": "code",
   "execution_count": 24,
   "metadata": {},
   "outputs": [],
   "source": [
    "import pickle\n",
    "pickle_out = open(\"classifierTap.pkl\",\"wb\")\n",
    "pickle.dump(classifierTap, pickle_out)\n",
    "pickle_out.close()"
   ]
  },
  {
   "cell_type": "code",
   "execution_count": 25,
   "metadata": {},
   "outputs": [],
   "source": [
    "#Notes on the Report:\n",
    "#Precision 0: TN/(TN+FN) of those predicted with out the disease, which how many really do not have it.\n",
    "#Precision 1: TP/(TP+FP) of those predicted with the disease, which how many really had it.\n",
    "#Recall 0: TN/(TN+FP) of those that dont have the disease how many were predicted with out the disease\n",
    "#Recall 1: TP/(TP+FN) of those that have the disease how many were predicted with the disease\n",
    "#Accuracy: TP+TN/(TP+TN+FP+FN), how many were classified correctly.\n",
    "#For early diagnosis we would like to focus on recall 1 to be high. People with early stages of the disease should diagnose\n",
    "#Few false negatives."
   ]
  },
  {
   "cell_type": "code",
   "execution_count": null,
   "metadata": {},
   "outputs": [],
   "source": []
  },
  {
   "cell_type": "code",
   "execution_count": 26,
   "metadata": {},
   "outputs": [],
   "source": [
    "# Classification for each quantile\n",
    "#import numpy as np\n",
    "#from sklearn.linear_model import LogisticRegression\n",
    "#from sklearn import metrics\n",
    "#from sklearn.model_selection import train_test_split\n",
    "#from sklearn.metrics import classification_report\n",
    "#from sklearn.metrics import classification_report\n",
    "#from sklearn.metrics import confusion_matrix\n",
    "#from sklearn.metrics import classification_report\n",
    "#from sklearn.metrics import plot_confusion_matrix\n",
    "#import matplotlib.pyplot as plt\n",
    "\n",
    "\n",
    "\n",
    "#X = TapTableN[['TapPerform','age','Male','Prefer not to answer']].to_numpy()\n",
    "##XTapPerf = np.reshape(XTapPerf, (-1,1))\n",
    "#TapTableN['PDOn']= TapTableN['diagnosis-year']\n",
    "#Y=TapTableN['PDOn'].to_numpy()\n",
    "#Y[Y!=0] = 1\n",
    "#print('Number of samples with the disease is: {:.2f}'.format(np.sum(Y)))\n",
    "#print('Number of total samples: {:.2f}'.format(len(Y)))\n",
    "##array_sum = np.sum(X)\n",
    "##array_has_nan = np.isnan(array_sum)\n",
    "##print(array_has_nan)\n",
    "#X = X.astype(np.float64)\n",
    "#Y = Y.astype(np.float64)\n",
    "#X_train, X_test, y_train, y_test = train_test_split(X,Y , test_size=0.3, random_state=0)\n",
    "\n",
    "#print(X)\n",
    "#print(Y)\n",
    "#print(y_train.shape)\n",
    "\n",
    "#X_train = X_train.astype(np.float64)\n",
    "#y_train = y_train.astype(np.float64)\n",
    "#X_test = X_test.astype(np.float64)\n",
    "#y_test = y_test.astype(np.float64)\n",
    "\n",
    "#Training logistic regression\n",
    "#logreg = LogisticRegression()\n",
    "#logreg.fit(X_train, y_train)\n",
    "#y_pred = logreg.predict(X_test)\n",
    "#print('Accuracy of logistic regression classifier on test set: {:.2f}'.format(logreg.score(X_test, y_test)))\n",
    "\n",
    "#confusionMatrix = confusion_matrix(y_test, y_pred, normalize='true')\n",
    "#print(confusionMatrix)\n",
    "#print(classification_report(y_test, y_pred))\n",
    "#disp = plot_confusion_matrix(logreg, X_test, y_test,cmap=plt.cm.Blues,normalize='true')\n",
    "\n",
    "\n",
    "#Notes on the Report:\n",
    "#Precision 0: TN/(TN+FN) of those predicted with out the disease, which how many really do not have it.\n",
    "#Precision 1: TP/(TP+FP) of those predicted with the disease, which how many really had it.\n",
    "#Recall 0: TN/(TN+FP) of those that dont have the disease how many were predicted with out the disease\n",
    "#Recall 1: TP/(TP+FN) of those that have the disease how many were predicted with the disease\n",
    "#Accuracy: TP+TN/(TP+TN+FP+FN), how many were classified correctly.\n",
    "#For early diagnosis we would like to focus on recall 1 to be high. People with early stages of the disease should diagnose\n",
    "#Few false negatives."
   ]
  },
  {
   "cell_type": "code",
   "execution_count": 27,
   "metadata": {},
   "outputs": [],
   "source": [
    "##Plotting ROC Curve\n",
    "\n",
    "##Calculate probabilities. Notice that this is different than evaluating the predict y_pred\n",
    "#y_prob = logreg.predict_proba(X_test)\n",
    "#y_prob1 = y_prob[:, 1]\n",
    "\n",
    "#fpr, tpr, threshold = metrics.roc_curve(y_test, y_prob1)\n",
    "#roc_auc = metrics.auc(fpr, tpr)\n",
    "\n",
    "#plt.title('Receiver Operating Characteristic')\n",
    "#plt.plot(fpr, tpr, 'b', label = 'AUC = %0.2f' % roc_auc)\n",
    "#plt.legend(loc = 'lower right')\n",
    "#plt.plot([0, 1], [0, 1],'r--')\n",
    "#plt.xlim([0, 1])\n",
    "#plt.ylim([0, 1])\n",
    "#plt.ylabel('True Positive Rate')\n",
    "#plt.xlabel('False Positive Rate')\n",
    "#plt.show()\n",
    "\n",
    "##Finding the best threshold\n",
    "#print(threshold[np.argmax(tpr - fpr)])\n",
    "#print(tpr[np.argmax(tpr - fpr)])\n",
    "#print(fpr[np.argmax(tpr - fpr)])\n",
    "#NewThrh=threshold[np.argmax(tpr - fpr)]\n",
    "#y_probNew = (logreg.predict_proba(X_test)[:,1] >= NewThrh).astype(bool)\n",
    "#from sklearn.metrics import accuracy_score\n",
    "#accuracy_score(y_test, y_probNew)"
   ]
  },
  {
   "cell_type": "markdown",
   "metadata": {},
   "source": [
    "## Using only people before taking medication\n"
   ]
  },
  {
   "cell_type": "code",
   "execution_count": 28,
   "metadata": {},
   "outputs": [],
   "source": [
    "#TapTableB = TapTableN[TapTableN['medTimepoint'] != \"Just after Parkinson medication (at your best)\"] \n",
    "#TapTableC = TapTableB[TapTableB['medTimepoint'] != \"Another time\"] \n",
    "\n",
    "#XX = TapTableC[['TapPerform','age','Male','Prefer not to answer']].to_numpy()\n",
    "#YY=TapTableC['PDOn'].to_numpy()\n",
    "#YY[YY!=0] = 1\n",
    "\n",
    "#XX_train, XX_test, yy_train, yy_test = train_test_split(XX,YY , test_size=0.3, random_state=1)\n",
    "\n",
    "##Training logistic regression\n",
    "#logregC = LogisticRegression()\n",
    "#logregC.fit(XX_train, yy_train)\n",
    "#yy_predC = logregC.predict(XX_test)\n",
    "#print('Accuracy of logistic regression classifier on test set: {:.2f}'.format(logregC.score(XX_test, yy_test)))\n",
    "#confusionMatrixC = confusion_matrix(yy_test, yy_predC)\n",
    "#print(confusionMatrixC)\n",
    "#print(classification_report(yy_test, yy_predC))\n",
    "#dispC = plot_confusion_matrix(logregC, XX_test, yy_test,cmap=plt.cm.Blues)\n",
    "\n"
   ]
  },
  {
   "cell_type": "code",
   "execution_count": 29,
   "metadata": {},
   "outputs": [
    {
     "data": {
      "text/plain": [
       "array([0])"
      ]
     },
     "execution_count": 29,
     "metadata": {},
     "output_type": "execute_result"
    }
   ],
   "source": [
    "#'TapPerform', 'age','Male'\n",
    "a=classifierTap.predict([[100,40,0]])\n",
    "a"
   ]
  },
  {
   "cell_type": "code",
   "execution_count": 30,
   "metadata": {},
   "outputs": [
    {
     "data": {
      "text/plain": [
       "<AxesSubplot:xlabel='YearsPD', ylabel='TapPerform'>"
      ]
     },
     "execution_count": 30,
     "metadata": {},
     "output_type": "execute_result"
    },
    {
     "data": {
      "image/png": "[encoded data removed]",
      "text/plain": [
       "<Figure size 432x288 with 1 Axes>"
      ]
     },
     "metadata": {
      "needs_background": "light"
     },
     "output_type": "display_data"
    }
   ],
   "source": [
    "import seaborn as sns\n",
    "sns.swarmplot(data=TapTableN, x=\"YearsPD\", y=\"TapPerform\")"
   ]
  },
  {
   "cell_type": "code",
   "execution_count": 31,
   "metadata": {},
   "outputs": [
    {
     "data": {
      "text/plain": [
       "<AxesSubplot:xlabel='YearsPD', ylabel='age'>"
      ]
     },
     "execution_count": 31,
     "metadata": {},
     "output_type": "execute_result"
    },
    {
     "data": {
      "image/png": "[encoded data removed]",
      "text/plain": [
       "<Figure size 432x288 with 1 Axes>"
      ]
     },
     "metadata": {
      "needs_background": "light"
     },
     "output_type": "display_data"
    }
   ],
   "source": [
    "sns.swarmplot(data=TapTableN, x=\"YearsPD\", y=\"age\")"
   ]
  },
  {
   "cell_type": "code",
   "execution_count": 6,
   "metadata": {},
   "outputs": [
    {
     "ename": "NameError",
     "evalue": "name 'sns' is not defined",
     "output_type": "error",
     "traceback": [
      "\u001b[0;31m---------------------------------------------------------------------------\u001b[0m",
      "\u001b[0;31mNameError\u001b[0m                                 Traceback (most recent call last)",
      "\u001b[0;32m<ipython-input-6-ace4b971691b>\u001b[0m in \u001b[0;36m<module>\u001b[0;34m\u001b[0m\n\u001b[0;32m----> 1\u001b[0;31m \u001b[0msns\u001b[0m\u001b[0;34m.\u001b[0m\u001b[0mswarmplot\u001b[0m\u001b[0;34m(\u001b[0m\u001b[0mdata\u001b[0m\u001b[0;34m=\u001b[0m\u001b[0mTapTableN\u001b[0m\u001b[0;34m,\u001b[0m \u001b[0mx\u001b[0m\u001b[0;34m=\u001b[0m\u001b[0;34m\"YearsPD\"\u001b[0m\u001b[0;34m,\u001b[0m \u001b[0my\u001b[0m\u001b[0;34m=\u001b[0m\u001b[0;34m\"Male\"\u001b[0m\u001b[0;34m)\u001b[0m\u001b[0;34m\u001b[0m\u001b[0;34m\u001b[0m\u001b[0m\n\u001b[0m",
      "\u001b[0;31mNameError\u001b[0m: name 'sns' is not defined"
     ]
    }
   ],
   "source": [
    "sns.swarmplot(data=TapTableN, x=\"YearsPD\", y=\"Male\")"
   ]
  },
  {
   "cell_type": "code",
   "execution_count": null,
   "metadata": {},
   "outputs": [],
   "source": [
    "##Plotting ROC Curve\n",
    "\n",
    "##Calculate probabilities. Notice that this is different than evaluating the predict y_pred\n",
    "#y_probC = logregC.predict_proba(XX_test)\n",
    "#y_prob1C = y_probC[:, 1]\n",
    "\n",
    "#fprC, tprC, thresholdC = metrics.roc_curve(yy_test, y_prob1C)\n",
    "#roc_aucC = metrics.auc(fprC, tprC)\n",
    "\n",
    "#plt.title('Receiver Operating Characteristic')\n",
    "#plt.plot(fprC, tprC, 'b', label = 'AUC = %0.2f' % roc_auc)\n",
    "#plt.legend(loc = 'lower right')\n",
    "#plt.plot([0, 1], [0, 1],'r--')\n",
    "#plt.xlim([0, 1])\n",
    "#plt.ylim([0, 1])\n",
    "#plt.ylabel('True Positive Rate')\n",
    "#plt.xlabel('False Positive Rate')\n",
    "#plt.show()\n",
    "##Saving this for using the new threshold\n",
    "##y_pred = (clf.predict_proba(X_test)[:,1] >= 0.3).astype(bool) # set threshold as 0.3\n",
    "##print(fprC)\n",
    "##print(fpr)"
   ]
  },
  {
   "cell_type": "markdown",
   "metadata": {},
   "source": [
    "## Graph to see time dependency"
   ]
  },
  {
   "cell_type": "code",
   "execution_count": null,
   "metadata": {},
   "outputs": [],
   "source": [
    "#Prob = logreg.predict_proba(X)\n",
    "#ProbOfPD=Prob[:, 1]\n",
    "#Ind=(TapTableN[\"diagnosis-year\"]!=0)\n",
    "#YearsPD=TapTableN[\"diagnosis-year\"]\n",
    "#nd=(YearsPD!=0)\n",
    "#YearsPD[Ind]=(2015-YearsPD[Ind])\n",
    "#plt.scatter(YearsPD, ProbOfPD, c=\"g\", alpha=0.5, marker=r'$\\clubsuit$',\n",
    "#            label=\"Luck\")\n",
    "#plt.xlim([-0.5, 20])\n",
    "#print(ProbOfPD[42])\n",
    "#print(YearsPD[42])\n",
    "##TapTableN[\"TimeDis\"][Ind]=(2015-TapTableN[\"diagnosis-year\"][Ind])\n",
    "##print(TapTableN[\"age\"][72])"
   ]
  },
  {
   "cell_type": "markdown",
   "metadata": {},
   "source": [
    "## Classifying using diagnostic year as starting point of the disease"
   ]
  },
  {
   "cell_type": "code",
   "execution_count": null,
   "metadata": {},
   "outputs": [],
   "source": [
    "#Let us look at a histogram of the diagnosis year and find quantiles\n",
    "\n",
    "\n",
    "#Bol=TapTableN[\"diagnosis-year\"]!=0 \n",
    "#Diagnosis=TapTableN[\"diagnosis-year\"][Bol]\n",
    "#Bol2=Diagnosis>1960\n",
    "#Diagnosis= 2015-Diagnosis[Bol2]\n",
    "#print(Diagnosis)\n",
    "##hist = Diagnosis.hist(bins=10)\n",
    "#YearsDiaQuant=Diagnosis.quantile([.25, .5, 0.75])\n",
    "\n",
    "##Drop values were diagnosis year does not make sense\n",
    "#Diagnosis = Diagnosis[Diagnosis > 15]\n",
    "#print(Diagnosis)\n",
    "\n",
    "\n"
   ]
  },
  {
   "cell_type": "code",
   "execution_count": null,
   "metadata": {},
   "outputs": [],
   "source": [
    "#'TapPerform', 'age','Male'\n",
    "a=classifierTap.predict([[400,56,1]])\n",
    "a\n"
   ]
  },
  {
   "cell_type": "code",
   "execution_count": null,
   "metadata": {},
   "outputs": [],
   "source": []
  },
  {
   "cell_type": "code",
   "execution_count": null,
   "metadata": {},
   "outputs": [],
   "source": []
  },
  {
   "cell_type": "code",
   "execution_count": null,
   "metadata": {},
   "outputs": [],
   "source": []
  },
  {
   "cell_type": "code",
   "execution_count": null,
   "metadata": {},
   "outputs": [],
   "source": []
  },
  {
   "cell_type": "code",
   "execution_count": null,
   "metadata": {},
   "outputs": [],
   "source": []
  }
 ],
 "metadata": {
  "kernelspec": {
   "display_name": "Python [conda env:insight] *",
   "language": "python",
   "name": "conda-env-insight-py"
  },
  "language_info": {
   "codemirror_mode": {
    "name": "ipython",
    "version": 3
   },
   "file_extension": ".py",
   "mimetype": "text/x-python",
   "name": "python",
   "nbconvert_exporter": "python",
   "pygments_lexer": "ipython3",
   "version": "3.8.5"
  }
 },
 "nbformat": 4,
 "nbformat_minor": 4
}
