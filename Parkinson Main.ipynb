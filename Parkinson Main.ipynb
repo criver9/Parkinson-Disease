{
 "cells": [
  {
   "cell_type": "markdown",
   "metadata": {},
   "source": [
    "## Classifier for Parkison based on Tapping performance.\n"
   ]
  },
  {
   "cell_type": "code",
   "execution_count": 1,
   "metadata": {},
   "outputs": [],
   "source": [
    "import pandas as pd\n",
    "import json\n",
    "import csv"
   ]
  },
  {
   "cell_type": "code",
   "execution_count": 2,
   "metadata": {},
   "outputs": [],
   "source": [
    "#Save to a csv file\n",
    "\n",
    "with open('TappingTableWithPerform&EntropyTap.csv') as csvfile:\n",
    "    TapTable=pd.read_csv(csvfile, delimiter=',') \n",
    "with open('DemoTable.csv') as csvfile:\n",
    "    DemoTable=pd.read_csv(csvfile, delimiter=',') "
   ]
  },
  {
   "cell_type": "code",
   "execution_count": 3,
   "metadata": {},
   "outputs": [
    {
     "data": {
      "text/plain": [
       "11"
      ]
     },
     "execution_count": 3,
     "metadata": {},
     "output_type": "execute_result"
    }
   ],
   "source": [
    "TapTable['TapPerform'].min()"
   ]
  },
  {
   "cell_type": "code",
   "execution_count": 4,
   "metadata": {},
   "outputs": [
    {
     "name": "stdout",
     "output_type": "stream",
     "text": [
      "(69979, 18)\n",
      "(44413, 18)\n"
     ]
    }
   ],
   "source": [
    "# eliminate the tasks where parkinson patients were feeling at their best\n",
    "print(TapTable.shape)\n",
    "TapTable=TapTable[TapTable['medTimepoint']!= 'Just after Parkinson medication (at your best)']\n",
    "TapTable=TapTable[TapTable['medTimepoint']!= 'Another time']\n",
    "\n",
    "#TapTable=TapTable.drop(['ROW_ID', 'ROW_VERSION','recordId','createdOn','appVersion','phoneInfo','accel_tapping.json.items','tapping_results.json.ButtonRectLeft','tapping_results.json.ButtonRectRight','tapping_results.json.endDate','tapping_results.json.startDate','tapping_results.json.TappingViewSize','medTimepoint'], axis=1)\n",
    "print(TapTable.shape)"
   ]
  },
  {
   "cell_type": "code",
   "execution_count": 5,
   "metadata": {},
   "outputs": [
    {
     "data": {
      "text/plain": [
       "7355"
      ]
     },
     "execution_count": 5,
     "metadata": {},
     "output_type": "execute_result"
    }
   ],
   "source": [
    "TapTable['healthCode'].nunique() \n",
    "#why is this number higher than the number of rows in DemoTable, which corresponds to the patients?"
   ]
  },
  {
   "cell_type": "code",
   "execution_count": 6,
   "metadata": {
    "scrolled": true
   },
   "outputs": [
    {
     "name": "stdout",
     "output_type": "stream",
     "text": [
      "                             healthCode  TapPerform  EntropyTap\n",
      "0  000240d1-1110-4dd2-a2d0-e344c37efd68       210.0    3.443919\n",
      "1  0002d5ff-53da-44bb-ab0d-f2426a8c78e2       104.0    2.753290\n",
      "2  0005a31d-e52c-447c-9971-ccc7bef667fb       180.0    2.898457\n",
      "3  00081bd9-9abd-4003-b035-de6cc3e8c922        38.5    4.092585\n",
      "4  00290381-e82e-46b2-b4e6-df115823d71b       193.0    3.422479\n"
     ]
    },
    {
     "name": "stderr",
     "output_type": "stream",
     "text": [
      "<ipython-input-6-b4dc841db553>:2: FutureWarning: Indexing with multiple keys (implicitly converted to a tuple of keys) will be deprecated, use a list instead.\n",
      "  TapTableN = TapTable.groupby(\"healthCode\")[\"TapPerform\",\"EntropyTap\"].mean()\n"
     ]
    }
   ],
   "source": [
    "# Averaging results over patients\n",
    "TapTableN = TapTable.groupby(\"healthCode\")[\"TapPerform\",\"EntropyTap\"].mean()\n",
    "TapTableN = pd.DataFrame(TapTableN)  \n",
    "TapTableN = TapTableN.reset_index()\n",
    "print(TapTableN.head())\n",
    "\n"
   ]
  },
  {
   "cell_type": "code",
   "execution_count": 7,
   "metadata": {},
   "outputs": [
    {
     "data": {
      "text/plain": [
       "(7355, 3)"
      ]
     },
     "execution_count": 7,
     "metadata": {},
     "output_type": "execute_result"
    }
   ],
   "source": [
    "TapTableN.shape"
   ]
  },
  {
   "cell_type": "code",
   "execution_count": 8,
   "metadata": {
    "scrolled": true
   },
   "outputs": [
    {
     "data": {
      "text/plain": [
       "(6007, 6)"
      ]
     },
     "execution_count": 8,
     "metadata": {},
     "output_type": "execute_result"
    }
   ],
   "source": [
    "\n",
    "#Sub-DataFrame of Demo Table with only features of interest: Age, diagnostic year, gender.\n",
    "#DemoTable.head()\n",
    "DemoTableN=DemoTable[[\"age\",\"healthCode\",\"diagnosis-year\",\"gender\"]]\n",
    "DemoTableN.shape\n",
    "DemoTableN= DemoTableN[DemoTableN['gender'] != 'Prefer not to answer']\n",
    "#Merges TapTables with the PerfInfo and drops thos values in TapTable that are not defined in PerInfo\n",
    "TapTableN=DemoTableN.merge(TapTableN)\n",
    "TapTableN.shape\n",
    " \n",
    "\n"
   ]
  },
  {
   "cell_type": "code",
   "execution_count": 9,
   "metadata": {},
   "outputs": [],
   "source": [
    "TapTableN=TapTableN.dropna(subset=['age','gender'])"
   ]
  },
  {
   "cell_type": "code",
   "execution_count": 10,
   "metadata": {},
   "outputs": [
    {
     "data": {
      "text/html": [
       "<div>\n",
       "<style scoped>\n",
       "    .dataframe tbody tr th:only-of-type {\n",
       "        vertical-align: middle;\n",
       "    }\n",
       "\n",
       "    .dataframe tbody tr th {\n",
       "        vertical-align: top;\n",
       "    }\n",
       "\n",
       "    .dataframe thead th {\n",
       "        text-align: right;\n",
       "    }\n",
       "</style>\n",
       "<table border=\"1\" class=\"dataframe\">\n",
       "  <thead>\n",
       "    <tr style=\"text-align: right;\">\n",
       "      <th></th>\n",
       "      <th>age</th>\n",
       "      <th>healthCode</th>\n",
       "      <th>diagnosis-year</th>\n",
       "      <th>gender</th>\n",
       "    </tr>\n",
       "  </thead>\n",
       "  <tbody>\n",
       "    <tr>\n",
       "      <th>0</th>\n",
       "      <td>24.0</td>\n",
       "      <td>639e8a78-3631-4231-bda1-c911c1b169e5</td>\n",
       "      <td>NaN</td>\n",
       "      <td>Male</td>\n",
       "    </tr>\n",
       "    <tr>\n",
       "      <th>1</th>\n",
       "      <td>40.0</td>\n",
       "      <td>9295f618-177c-4676-b6aa-dc8419fd37ec</td>\n",
       "      <td>NaN</td>\n",
       "      <td>Male</td>\n",
       "    </tr>\n",
       "    <tr>\n",
       "      <th>2</th>\n",
       "      <td>38.0</td>\n",
       "      <td>52fe366a-2a9f-4260-9fb1-0fbc637a6cf4</td>\n",
       "      <td>NaN</td>\n",
       "      <td>Female</td>\n",
       "    </tr>\n",
       "    <tr>\n",
       "      <th>3</th>\n",
       "      <td>32.0</td>\n",
       "      <td>67bdd316-26fc-4fc7-8431-bf9f41a649dd</td>\n",
       "      <td>NaN</td>\n",
       "      <td>Male</td>\n",
       "    </tr>\n",
       "    <tr>\n",
       "      <th>4</th>\n",
       "      <td>48.0</td>\n",
       "      <td>45b4e2ca-8d15-4736-828c-829e3d4177f4</td>\n",
       "      <td>NaN</td>\n",
       "      <td>Male</td>\n",
       "    </tr>\n",
       "  </tbody>\n",
       "</table>\n",
       "</div>"
      ],
      "text/plain": [
       "    age                            healthCode  diagnosis-year  gender\n",
       "0  24.0  639e8a78-3631-4231-bda1-c911c1b169e5             NaN    Male\n",
       "1  40.0  9295f618-177c-4676-b6aa-dc8419fd37ec             NaN    Male\n",
       "2  38.0  52fe366a-2a9f-4260-9fb1-0fbc637a6cf4             NaN  Female\n",
       "3  32.0  67bdd316-26fc-4fc7-8431-bf9f41a649dd             NaN    Male\n",
       "4  48.0  45b4e2ca-8d15-4736-828c-829e3d4177f4             NaN    Male"
      ]
     },
     "execution_count": 10,
     "metadata": {},
     "output_type": "execute_result"
    }
   ],
   "source": [
    "DemoTableN.head()"
   ]
  },
  {
   "cell_type": "code",
   "execution_count": 11,
   "metadata": {},
   "outputs": [],
   "source": [
    "# change gender column to categorical 0:female, 1: male\n",
    "df_gender = pd.get_dummies(TapTableN['gender'],drop_first=True)\n",
    "#print(TapTableN.gender.value_counts())\n",
    "TapTableN = pd.concat([TapTableN, df_gender], axis=1)\n",
    "TapTableN=TapTableN.drop(['healthCode','gender'], axis=1)\n",
    "\n"
   ]
  },
  {
   "cell_type": "code",
   "execution_count": 12,
   "metadata": {},
   "outputs": [
    {
     "data": {
      "text/html": [
       "<div>\n",
       "<style scoped>\n",
       "    .dataframe tbody tr th:only-of-type {\n",
       "        vertical-align: middle;\n",
       "    }\n",
       "\n",
       "    .dataframe tbody tr th {\n",
       "        vertical-align: top;\n",
       "    }\n",
       "\n",
       "    .dataframe thead th {\n",
       "        text-align: right;\n",
       "    }\n",
       "</style>\n",
       "<table border=\"1\" class=\"dataframe\">\n",
       "  <thead>\n",
       "    <tr style=\"text-align: right;\">\n",
       "      <th></th>\n",
       "      <th>age</th>\n",
       "      <th>diagnosis-year</th>\n",
       "      <th>TapPerform</th>\n",
       "      <th>EntropyTap</th>\n",
       "      <th>Male</th>\n",
       "    </tr>\n",
       "  </thead>\n",
       "  <tbody>\n",
       "    <tr>\n",
       "      <th>0</th>\n",
       "      <td>24.0</td>\n",
       "      <td>NaN</td>\n",
       "      <td>198.000000</td>\n",
       "      <td>3.410725</td>\n",
       "      <td>1</td>\n",
       "    </tr>\n",
       "    <tr>\n",
       "      <th>1</th>\n",
       "      <td>40.0</td>\n",
       "      <td>NaN</td>\n",
       "      <td>147.000000</td>\n",
       "      <td>3.202294</td>\n",
       "      <td>1</td>\n",
       "    </tr>\n",
       "    <tr>\n",
       "      <th>2</th>\n",
       "      <td>38.0</td>\n",
       "      <td>NaN</td>\n",
       "      <td>185.777778</td>\n",
       "      <td>3.015089</td>\n",
       "      <td>0</td>\n",
       "    </tr>\n",
       "    <tr>\n",
       "      <th>3</th>\n",
       "      <td>32.0</td>\n",
       "      <td>NaN</td>\n",
       "      <td>147.000000</td>\n",
       "      <td>3.415680</td>\n",
       "      <td>1</td>\n",
       "    </tr>\n",
       "    <tr>\n",
       "      <th>4</th>\n",
       "      <td>48.0</td>\n",
       "      <td>NaN</td>\n",
       "      <td>212.833333</td>\n",
       "      <td>2.805849</td>\n",
       "      <td>1</td>\n",
       "    </tr>\n",
       "  </tbody>\n",
       "</table>\n",
       "</div>"
      ],
      "text/plain": [
       "    age  diagnosis-year  TapPerform  EntropyTap  Male\n",
       "0  24.0             NaN  198.000000    3.410725     1\n",
       "1  40.0             NaN  147.000000    3.202294     1\n",
       "2  38.0             NaN  185.777778    3.015089     0\n",
       "3  32.0             NaN  147.000000    3.415680     1\n",
       "4  48.0             NaN  212.833333    2.805849     1"
      ]
     },
     "execution_count": 12,
     "metadata": {},
     "output_type": "execute_result"
    }
   ],
   "source": [
    "TapTableN.head()\n"
   ]
  },
  {
   "cell_type": "code",
   "execution_count": 13,
   "metadata": {},
   "outputs": [
    {
     "name": "stdout",
     "output_type": "stream",
     "text": [
      "       age  diagnosis-year  TapPerform  EntropyTap  Male  YearsPD\n",
      "0     24.0             NaN  198.000000    3.410725     1        0\n",
      "1     40.0             NaN  147.000000    3.202294     1        0\n",
      "2     38.0             NaN  185.777778    3.015089     0        0\n",
      "3     32.0             NaN  147.000000    3.415680     1        0\n",
      "4     48.0             NaN  212.833333    2.805849     1        0\n",
      "...    ...             ...         ...         ...   ...      ...\n",
      "6002  64.0             1.0  263.000000    2.095113     1        1\n",
      "6003  38.0             NaN  169.000000    3.881969     1        0\n",
      "6004  61.0             2.0  213.196429    2.628523     1        1\n",
      "6005  59.0             6.0   99.571429    4.203847     0        1\n",
      "6006  56.0             1.0  128.000000    3.154038     0        1\n",
      "\n",
      "[5957 rows x 6 columns]\n"
     ]
    }
   ],
   "source": [
    "# diagnosis-year becomes years with diagnosed disease\n",
    "TapTableN['diagnosis-year']=(2015-TapTableN['diagnosis-year'])\n",
    "#NAN REPLACED WITH ZERO AND OTHER INT REPLACED WITH ONE\n",
    "dfb = TapTableN['diagnosis-year'].notnull().astype(int)\n",
    "TapTableN['YearsPD']=dfb\n",
    "print(TapTableN)\n"
   ]
  },
  {
   "cell_type": "code",
   "execution_count": 14,
   "metadata": {},
   "outputs": [
    {
     "data": {
      "text/plain": [
       "0    0\n",
       "1    0\n",
       "2    0\n",
       "3    0\n",
       "4    0\n",
       "Name: YearsPD, dtype: int64"
      ]
     },
     "execution_count": 14,
     "metadata": {},
     "output_type": "execute_result"
    }
   ],
   "source": [
    "X=TapTableN[['TapPerform', 'age','Male']]\n",
    "y=TapTableN['YearsPD']\n",
    "#Rename y \n",
    "y.head()"
   ]
  },
  {
   "cell_type": "code",
   "execution_count": 15,
   "metadata": {},
   "outputs": [
    {
     "data": {
      "text/plain": [
       "(array([   0., 1000., 2000., 3000., 4000., 5000., 6000.]),\n",
       " [Text(0, 0, ''),\n",
       "  Text(0, 0, ''),\n",
       "  Text(0, 0, ''),\n",
       "  Text(0, 0, ''),\n",
       "  Text(0, 0, ''),\n",
       "  Text(0, 0, ''),\n",
       "  Text(0, 0, '')])"
      ]
     },
     "execution_count": 15,
     "metadata": {},
     "output_type": "execute_result"
    },
    {
     "data": {
      "image/png": "[encoded data removed]",
      "text/plain": [
       "<Figure size 432x288 with 1 Axes>"
      ]
     },
     "metadata": {
      "needs_background": "light"
     },
     "output_type": "display_data"
    }
   ],
   "source": [
    "#y.loc[y.YearsPD == 0, 'YearsPD'] = 'Not Parkinsons'\n",
    "#y.loc[y.YearsPD == 1, 'YearsPD'] = 'Parkinsons'\n",
    "import matplotlib.pyplot as plt\n",
    "PDPlot=y.value_counts().plot.bar()\n",
    "PDPlot.set_ylabel('No individuals',fontsize=18)\n",
    "#PDPlot.set_title('Audit Results')\n",
    "PDPlot.set_xticklabels( ('0', '1'),fontsize=14 )\n",
    "plt.xticks(fontsize=14)\n",
    "plt.yticks(fontsize=14)"
   ]
  },
  {
   "cell_type": "code",
   "execution_count": 16,
   "metadata": {},
   "outputs": [
    {
     "data": {
      "image/png": "[encoded data removed]",
      "text/plain": [
       "<Figure size 432x288 with 1 Axes>"
      ]
     },
     "metadata": {
      "needs_background": "light"
     },
     "output_type": "display_data"
    }
   ],
   "source": [
    "hist = X.hist(column='TapPerform')"
   ]
  },
  {
   "cell_type": "code",
   "execution_count": 17,
   "metadata": {},
   "outputs": [
    {
     "data": {
      "image/png": "[encoded data removed]",
      "text/plain": [
       "<Figure size 432x288 with 1 Axes>"
      ]
     },
     "metadata": {
      "needs_background": "light"
     },
     "output_type": "display_data"
    }
   ],
   "source": [
    "hist2=y.hist()"
   ]
  },
  {
   "cell_type": "code",
   "execution_count": 18,
   "metadata": {},
   "outputs": [
    {
     "data": {
      "text/plain": [
       "0    5220\n",
       "1     737\n",
       "Name: YearsPD, dtype: int64"
      ]
     },
     "execution_count": 18,
     "metadata": {},
     "output_type": "execute_result"
    }
   ],
   "source": [
    "TapTableN['YearsPD'].isnull().values.any()\n",
    "TapTableN['YearsPD'].value_counts()"
   ]
  },
  {
   "cell_type": "code",
   "execution_count": 19,
   "metadata": {},
   "outputs": [
    {
     "data": {
      "text/html": [
       "<div>\n",
       "<style scoped>\n",
       "    .dataframe tbody tr th:only-of-type {\n",
       "        vertical-align: middle;\n",
       "    }\n",
       "\n",
       "    .dataframe tbody tr th {\n",
       "        vertical-align: top;\n",
       "    }\n",
       "\n",
       "    .dataframe thead th {\n",
       "        text-align: right;\n",
       "    }\n",
       "</style>\n",
       "<table border=\"1\" class=\"dataframe\">\n",
       "  <thead>\n",
       "    <tr style=\"text-align: right;\">\n",
       "      <th></th>\n",
       "      <th>age</th>\n",
       "      <th>diagnosis-year</th>\n",
       "      <th>TapPerform</th>\n",
       "      <th>EntropyTap</th>\n",
       "      <th>Male</th>\n",
       "      <th>YearsPD</th>\n",
       "    </tr>\n",
       "  </thead>\n",
       "  <tbody>\n",
       "    <tr>\n",
       "      <th>0</th>\n",
       "      <td>24.0</td>\n",
       "      <td>NaN</td>\n",
       "      <td>198.000000</td>\n",
       "      <td>3.410725</td>\n",
       "      <td>1</td>\n",
       "      <td>0</td>\n",
       "    </tr>\n",
       "    <tr>\n",
       "      <th>1</th>\n",
       "      <td>40.0</td>\n",
       "      <td>NaN</td>\n",
       "      <td>147.000000</td>\n",
       "      <td>3.202294</td>\n",
       "      <td>1</td>\n",
       "      <td>0</td>\n",
       "    </tr>\n",
       "    <tr>\n",
       "      <th>2</th>\n",
       "      <td>38.0</td>\n",
       "      <td>NaN</td>\n",
       "      <td>185.777778</td>\n",
       "      <td>3.015089</td>\n",
       "      <td>0</td>\n",
       "      <td>0</td>\n",
       "    </tr>\n",
       "    <tr>\n",
       "      <th>3</th>\n",
       "      <td>32.0</td>\n",
       "      <td>NaN</td>\n",
       "      <td>147.000000</td>\n",
       "      <td>3.415680</td>\n",
       "      <td>1</td>\n",
       "      <td>0</td>\n",
       "    </tr>\n",
       "    <tr>\n",
       "      <th>4</th>\n",
       "      <td>48.0</td>\n",
       "      <td>NaN</td>\n",
       "      <td>212.833333</td>\n",
       "      <td>2.805849</td>\n",
       "      <td>1</td>\n",
       "      <td>0</td>\n",
       "    </tr>\n",
       "    <tr>\n",
       "      <th>...</th>\n",
       "      <td>...</td>\n",
       "      <td>...</td>\n",
       "      <td>...</td>\n",
       "      <td>...</td>\n",
       "      <td>...</td>\n",
       "      <td>...</td>\n",
       "    </tr>\n",
       "    <tr>\n",
       "      <th>6002</th>\n",
       "      <td>64.0</td>\n",
       "      <td>1.0</td>\n",
       "      <td>263.000000</td>\n",
       "      <td>2.095113</td>\n",
       "      <td>1</td>\n",
       "      <td>1</td>\n",
       "    </tr>\n",
       "    <tr>\n",
       "      <th>6003</th>\n",
       "      <td>38.0</td>\n",
       "      <td>NaN</td>\n",
       "      <td>169.000000</td>\n",
       "      <td>3.881969</td>\n",
       "      <td>1</td>\n",
       "      <td>0</td>\n",
       "    </tr>\n",
       "    <tr>\n",
       "      <th>6004</th>\n",
       "      <td>61.0</td>\n",
       "      <td>2.0</td>\n",
       "      <td>213.196429</td>\n",
       "      <td>2.628523</td>\n",
       "      <td>1</td>\n",
       "      <td>1</td>\n",
       "    </tr>\n",
       "    <tr>\n",
       "      <th>6005</th>\n",
       "      <td>59.0</td>\n",
       "      <td>6.0</td>\n",
       "      <td>99.571429</td>\n",
       "      <td>4.203847</td>\n",
       "      <td>0</td>\n",
       "      <td>1</td>\n",
       "    </tr>\n",
       "    <tr>\n",
       "      <th>6006</th>\n",
       "      <td>56.0</td>\n",
       "      <td>1.0</td>\n",
       "      <td>128.000000</td>\n",
       "      <td>3.154038</td>\n",
       "      <td>0</td>\n",
       "      <td>1</td>\n",
       "    </tr>\n",
       "  </tbody>\n",
       "</table>\n",
       "<p>5957 rows × 6 columns</p>\n",
       "</div>"
      ],
      "text/plain": [
       "       age  diagnosis-year  TapPerform  EntropyTap  Male  YearsPD\n",
       "0     24.0             NaN  198.000000    3.410725     1        0\n",
       "1     40.0             NaN  147.000000    3.202294     1        0\n",
       "2     38.0             NaN  185.777778    3.015089     0        0\n",
       "3     32.0             NaN  147.000000    3.415680     1        0\n",
       "4     48.0             NaN  212.833333    2.805849     1        0\n",
       "...    ...             ...         ...         ...   ...      ...\n",
       "6002  64.0             1.0  263.000000    2.095113     1        1\n",
       "6003  38.0             NaN  169.000000    3.881969     1        0\n",
       "6004  61.0             2.0  213.196429    2.628523     1        1\n",
       "6005  59.0             6.0   99.571429    4.203847     0        1\n",
       "6006  56.0             1.0  128.000000    3.154038     0        1\n",
       "\n",
       "[5957 rows x 6 columns]"
      ]
     },
     "execution_count": 19,
     "metadata": {},
     "output_type": "execute_result"
    }
   ],
   "source": [
    "TapTableN"
   ]
  },
  {
   "cell_type": "code",
   "execution_count": 20,
   "metadata": {},
   "outputs": [
    {
     "data": {
      "text/plain": [
       "<AxesSubplot:xlabel='TapPerform', ylabel='age'>"
      ]
     },
     "execution_count": 20,
     "metadata": {},
     "output_type": "execute_result"
    },
    {
     "data": {
      "image/png": "[encoded data removed]",
      "text/plain": [
       "<Figure size 720x360 with 1 Axes>"
      ]
     },
     "metadata": {
      "needs_background": "light"
     },
     "output_type": "display_data"
    }
   ],
   "source": [
    "# scatter plot\n",
    "import matplotlib.pyplot as plt\n",
    "import seaborn as sns\n",
    "plt.figure(figsize=(10,5))\n",
    "sns.scatterplot(data = TapTableN, \n",
    "                x = 'TapPerform', \n",
    "                y = 'age', \n",
    "                hue = TapTableN['YearsPD'].tolist())\n"
   ]
  },
  {
   "cell_type": "markdown",
   "metadata": {},
   "source": [
    "# Building logistic regression model using weighted classifier"
   ]
  },
  {
   "cell_type": "markdown",
   "metadata": {},
   "source": [
    "#### IMPORTANT NOTE: Here we use grid search that looks for the best weights for the classes. It is done trying each possible couple and doing cross validation. Using the metric as the AUC (for each weight tuple it creates an ROC curve ) The weighted class chosen (I think ) is the one that for a threshold of 0.5 gets the best point in the roc curve and has highest AUC."
   ]
  },
  {
   "cell_type": "markdown",
   "metadata": {},
   "source": [
    "##  Grid search to select best weight tuple"
   ]
  },
  {
   "cell_type": "code",
   "execution_count": 21,
   "metadata": {},
   "outputs": [],
   "source": [
    "# define weight hyperparameter\n",
    "w = [{0:1,1:1},{0:1,1:2},{0:1,1:3}, {0:1,1:4}, \n",
    "     {0:1,1:5}, {0:1,1:6}, {0:1,1:7}, {0:1,1:8}, \n",
    "     {0:1,1:9}, {0:1,1:10}, {0:1,1:12}, {0:1,1:14}, \n",
    "     {0:1,1:16}, {0:1,1:18}, {0:1,1:20}, \n",
    "     {0:1,1:25}, {0:1,1:30}, {0:1.0,1:40}, \n",
    "     {0:1.0,1:50}, {0:1,1:100}]\n",
    "hyperparam_grid = {\"class_weight\": w }"
   ]
  },
  {
   "cell_type": "code",
   "execution_count": 22,
   "metadata": {},
   "outputs": [],
   "source": [
    "from sklearn import datasets\n",
    "from sklearn.model_selection import train_test_split\n",
    "\n",
    "X_train, X_test, y_train, y_test = train_test_split(X,y, test_size=0.3, random_state=13)"
   ]
  },
  {
   "cell_type": "code",
   "execution_count": 23,
   "metadata": {},
   "outputs": [
    {
     "data": {
      "text/plain": [
       "GridSearchCV(estimator=LogisticRegression(random_state=13), n_jobs=-1,\n",
       "             param_grid={'class_weight': [{0: 1, 1: 1}, {0: 1, 1: 2},\n",
       "                                          {0: 1, 1: 3}, {0: 1, 1: 4},\n",
       "                                          {0: 1, 1: 5}, {0: 1, 1: 6},\n",
       "                                          {0: 1, 1: 7}, {0: 1, 1: 8},\n",
       "                                          {0: 1, 1: 9}, {0: 1, 1: 10},\n",
       "                                          {0: 1, 1: 12}, {0: 1, 1: 14},\n",
       "                                          {0: 1, 1: 16}, {0: 1, 1: 18},\n",
       "                                          {0: 1, 1: 20}, {0: 1, 1: 25},\n",
       "                                          {0: 1, 1: 30}, {0: 1.0, 1: 40},\n",
       "                                          {0: 1.0, 1: 50}, {0: 1, 1: 100}]},\n",
       "             scoring='roc_auc')"
      ]
     },
     "execution_count": 23,
     "metadata": {},
     "output_type": "execute_result"
    }
   ],
   "source": [
    "from sklearn.linear_model import LogisticRegression\n",
    "from sklearn.model_selection import train_test_split, GridSearchCV, cross_val_score, RepeatedStratifiedKFold, StratifiedKFold\n",
    "from sklearn.metrics import accuracy_score, confusion_matrix,roc_curve, roc_auc_score, precision_score, recall_score, precision_recall_curve\n",
    "from sklearn.metrics import f1_score\n",
    "\n",
    "# define model\n",
    "lg3 = LogisticRegression(random_state=13)\n",
    "# define evaluation procedure\n",
    "grid = GridSearchCV(lg3,hyperparam_grid,scoring=\"roc_auc\", cv=None, n_jobs=-1, refit=True)\n",
    "grid.fit(X_train,y_train)\n"
   ]
  },
  {
   "cell_type": "code",
   "execution_count": 24,
   "metadata": {},
   "outputs": [
    {
     "name": "stdout",
     "output_type": "stream",
     "text": [
      "Best score: 0.9008032087171083 with param: {'class_weight': {0: 1, 1: 1}}\n"
     ]
    }
   ],
   "source": [
    "print(f'Best score: {grid.best_score_} with param: {grid.best_params_}')"
   ]
  },
  {
   "cell_type": "code",
   "execution_count": 25,
   "metadata": {},
   "outputs": [
    {
     "name": "stdout",
     "output_type": "stream",
     "text": [
      "[0.90080321 0.90079443 0.90072407 0.90071318 0.90072643 0.9007264\n",
      " 0.90069628 0.90063913 0.90055504 0.90054134 0.9004758  0.9004402\n",
      " 0.90037772 0.90032078 0.90027182 0.90019561 0.90017102 0.90005726\n",
      " 0.89982947 0.89927785]\n"
     ]
    }
   ],
   "source": [
    "print(grid.cv_results_['mean_test_score'])"
   ]
  },
  {
   "cell_type": "code",
   "execution_count": 26,
   "metadata": {},
   "outputs": [],
   "source": [
    "from sklearn.linear_model import LogisticRegression\n",
    "from sklearn.naive_bayes import GaussianNB\n",
    "from sklearn.neighbors import KNeighborsClassifier\n",
    "from sklearn.tree import DecisionTreeClassifier\n",
    "from sklearn.ensemble import RandomForestClassifier\n",
    "from sklearn.metrics import roc_curve, roc_auc_score"
   ]
  },
  {
   "cell_type": "markdown",
   "metadata": {},
   "source": [
    "### Best weighted class defined above"
   ]
  },
  {
   "cell_type": "code",
   "execution_count": 29,
   "metadata": {},
   "outputs": [
    {
     "data": {
      "text/plain": [
       "LogisticRegression(class_weight={0: 1.0, 1: 1})"
      ]
     },
     "execution_count": 29,
     "metadata": {},
     "output_type": "execute_result"
    }
   ],
   "source": [
    "w = {0: 1.0, 1:1} #obtein from last \n",
    "\n",
    "classifierTap = LogisticRegression(class_weight=w)\n",
    "classifierTap.fit(X_train, y_train) "
   ]
  },
  {
   "cell_type": "code",
   "execution_count": 30,
   "metadata": {},
   "outputs": [
    {
     "name": "stdout",
     "output_type": "stream",
     "text": [
      "Accuracy of logistic regression classifier on test set: 0.91\n",
      "              precision    recall  f1-score   support\n",
      "\n",
      "           0       0.93      0.98      0.95      1554\n",
      "           1       0.76      0.50      0.60       234\n",
      "\n",
      "    accuracy                           0.91      1788\n",
      "   macro avg       0.84      0.74      0.78      1788\n",
      "weighted avg       0.91      0.91      0.91      1788\n",
      "\n"
     ]
    },
    {
     "data": {
      "image/png": "[encoded data removed]",
      "text/plain": [
       "<Figure size 432x288 with 2 Axes>"
      ]
     },
     "metadata": {
      "needs_background": "light"
     },
     "output_type": "display_data"
    }
   ],
   "source": [
    "from sklearn.metrics import classification_report\n",
    "from sklearn.metrics import confusion_matrix\n",
    "import matplotlib.pyplot as plt\n",
    "from sklearn.metrics import plot_confusion_matrix\n",
    "from sklearn.metrics import accuracy_score\n",
    "from sklearn.metrics import recall_score\n",
    "\n",
    "y_pred = classifierTap.predict(X_test)\n",
    "print('Accuracy of logistic regression classifier on test set: {:.2f}'.format(classifierTap.score(X_test, y_test)))\n",
    "confusionMatrix = confusion_matrix(y_test, y_pred, normalize='true')\n",
    "print(classification_report(y_test, y_pred))\n",
    "classes = [\"unoccupied\", \"occupied\"]\n",
    "disp = plot_confusion_matrix(classifierTap, X_test, y_test,cmap=plt.cm.Blues,normalize='true')\n"
   ]
  },
  {
   "cell_type": "code",
   "execution_count": 31,
   "metadata": {},
   "outputs": [
    {
     "data": {
      "text/plain": [
       "Text(0.5, 1.0, 'ROC Curve ')"
      ]
     },
     "execution_count": 31,
     "metadata": {},
     "output_type": "execute_result"
    },
    {
     "data": {
      "image/png": "[encoded data removed]",
      "text/plain": [
       "<Figure size 432x288 with 1 Axes>"
      ]
     },
     "metadata": {
      "needs_background": "light"
     },
     "output_type": "display_data"
    }
   ],
   "source": [
    "import matplotlib.pyplot as plt\n",
    "import numpy as np\n",
    "yproba = classifierTap.predict_proba(X_test)[::,1]\n",
    "    \n",
    "fpr, tpr, _ = roc_curve(y_test,  yproba)\n",
    "auc = roc_auc_score(y_test, yproba)\n",
    "plt.plot(fpr, tpr)\n",
    "    \n",
    "plt.plot([0,1], [0,1], color='orange', linestyle='--')\n",
    "\n",
    "plt.xticks(np.arange(0.0, 1.1, step=0.1))\n",
    "plt.xlabel(\"False Positive Rate\", fontsize=15)\n",
    "\n",
    "plt.yticks(np.arange(0.0, 1.1, step=0.1))\n",
    "plt.ylabel(\"True Positive Rate\", fontsize=15)\n",
    "\n",
    "plt.title('ROC Curve ', fontweight='bold', fontsize=15)\n",
    "\n"
   ]
  },
  {
   "cell_type": "code",
   "execution_count": 32,
   "metadata": {},
   "outputs": [
    {
     "name": "stdout",
     "output_type": "stream",
     "text": [
      "Accuracy Score: 0.9133109619686801\n",
      "Confusion Matrix: \n",
      "[[1517   37]\n",
      " [ 118  116]]\n",
      "Area Under Curve: 0.735958485958486\n",
      "Recall score: 0.49572649572649574\n"
     ]
    }
   ],
   "source": [
    "# test\n",
    "y_pred = classifierTap.predict(X_test)\n",
    "# performance\n",
    "print(f'Accuracy Score: {accuracy_score(y_test,y_pred)}')\n",
    "print(f'Confusion Matrix: \\n{confusion_matrix(y_test, y_pred)}')\n",
    "print(f'Area Under Curve: {roc_auc_score(y_test, y_pred)}')\n",
    "print(f'Recall score: {recall_score(y_test,y_pred)}')"
   ]
  },
  {
   "cell_type": "markdown",
   "metadata": {},
   "source": [
    "# "
   ]
  },
  {
   "cell_type": "code",
   "execution_count": 116,
   "metadata": {},
   "outputs": [
    {
     "data": {
      "text/plain": [
       "array([0])"
      ]
     },
     "execution_count": 116,
     "metadata": {},
     "output_type": "execute_result"
    }
   ],
   "source": [
    "a=classifierTap.predict([[400,35,36,1]])\n",
    "a\n"
   ]
  },
  {
   "cell_type": "code",
   "execution_count": 117,
   "metadata": {},
   "outputs": [
    {
     "name": "stdout",
     "output_type": "stream",
     "text": [
      "[[-0.0090856   0.09447323 -0.51146332  0.54504272]] [-6.28366674]\n"
     ]
    }
   ],
   "source": [
    "#'TapPerform', 'age','Male','EntropyTap'\n",
    "print(classifierTap.coef_, classifierTap.intercept_)"
   ]
  },
  {
   "cell_type": "code",
   "execution_count": null,
   "metadata": {},
   "outputs": [],
   "source": []
  },
  {
   "cell_type": "markdown",
   "metadata": {},
   "source": [
    "# SVM classifier"
   ]
  },
  {
   "cell_type": "code",
   "execution_count": 119,
   "metadata": {},
   "outputs": [],
   "source": [
    "from sklearn import metrics\n",
    "from sklearn import svm\n",
    "#Create a svm Classifier\n",
    "clfSVM = svm.SVC(kernel='poly',probability=True) # \n",
    "\n",
    "#Train the model using the training sets\n",
    "clfSVM.fit(X_train, y_train)\n",
    "\n",
    "#Predict the response for test dataset\n",
    "y_pred = clfSVM.predict(X_test)"
   ]
  },
  {
   "cell_type": "code",
   "execution_count": 120,
   "metadata": {},
   "outputs": [
    {
     "name": "stdout",
     "output_type": "stream",
     "text": [
      "Accuracy: 0.9010067114093959\n"
     ]
    }
   ],
   "source": [
    "print(\"Accuracy:\",metrics.accuracy_score(y_test, y_pred))\n",
    "yproba = clfSVM.predict_proba(X_test)[::,1]\n",
    "fpr, tpr, _ = roc_curve(y_test,  yproba)\n",
    "auc = roc_auc_score(y_test, yproba)"
   ]
  },
  {
   "cell_type": "code",
   "execution_count": 121,
   "metadata": {},
   "outputs": [
    {
     "data": {
      "text/plain": [
       "0.8629579334902528"
      ]
     },
     "execution_count": 121,
     "metadata": {},
     "output_type": "execute_result"
    }
   ],
   "source": [
    "auc"
   ]
  },
  {
   "cell_type": "code",
   "execution_count": 122,
   "metadata": {},
   "outputs": [
    {
     "data": {
      "text/plain": [
       "[<matplotlib.lines.Line2D at 0x1220f5730>]"
      ]
     },
     "execution_count": 122,
     "metadata": {},
     "output_type": "execute_result"
    },
    {
     "data": {
      "image/png": "[encoded data removed]",
      "text/plain": [
       "<Figure size 432x288 with 1 Axes>"
      ]
     },
     "metadata": {
      "needs_background": "light"
     },
     "output_type": "display_data"
    }
   ],
   "source": [
    "plt.plot(fpr, tpr)"
   ]
  },
  {
   "cell_type": "code",
   "execution_count": 123,
   "metadata": {},
   "outputs": [],
   "source": [
    "import pickle\n",
    "pickle_out = open(\"classifierTap.pkl\",\"wb\")\n",
    "pickle.dump(classifierTap, pickle_out)\n",
    "pickle_out.close()"
   ]
  },
  {
   "cell_type": "markdown",
   "metadata": {},
   "source": [
    "# Checking whether non-linear classifiers do better"
   ]
  },
  {
   "cell_type": "code",
   "execution_count": 118,
   "metadata": {},
   "outputs": [
    {
     "ename": "NameError",
     "evalue": "name 'svm' is not defined",
     "output_type": "error",
     "traceback": [
      "\u001b[0;31m---------------------------------------------------------------------------\u001b[0m",
      "\u001b[0;31mNameError\u001b[0m                                 Traceback (most recent call last)",
      "\u001b[0;32m<ipython-input-118-2973b219a832>\u001b[0m in \u001b[0;36m<module>\u001b[0;34m\u001b[0m\n\u001b[1;32m      1\u001b[0m classifiers = [LogisticRegression(random_state=12), \n\u001b[1;32m      2\u001b[0m              \u001b[0mRandomForestClassifier\u001b[0m\u001b[0;34m(\u001b[0m\u001b[0mrandom_state\u001b[0m\u001b[0;34m=\u001b[0m\u001b[0;36m12\u001b[0m\u001b[0;34m)\u001b[0m\u001b[0;34m,\u001b[0m\u001b[0;34m\u001b[0m\u001b[0;34m\u001b[0m\u001b[0m\n\u001b[0;32m----> 3\u001b[0;31m               svm.SVC(kernel='poly',probability=True,random_state=12)]\n\u001b[0m\u001b[1;32m      4\u001b[0m \u001b[0;34m\u001b[0m\u001b[0m\n\u001b[1;32m      5\u001b[0m \u001b[0;34m\u001b[0m\u001b[0m\n",
      "\u001b[0;31mNameError\u001b[0m: name 'svm' is not defined"
     ]
    }
   ],
   "source": [
    "classifiers = [LogisticRegression(random_state=12), \n",
    "             RandomForestClassifier(random_state=12),\n",
    "              svm.SVC(kernel='poly',probability=True,random_state=12)]\n",
    "\n",
    "\n",
    "# Define a result table as a DataFrame\n",
    "result_table = pd.DataFrame(columns=['classifiers', 'fpr','tpr','auc'])\n",
    "\n",
    "# Train the models and record the results\n",
    "for cls in classifiers:\n",
    "    model = cls.fit(X_train, y_train)\n",
    "    yproba = model.predict_proba(X_test)[::,1]\n",
    "    \n",
    "    fpr, tpr, _ = roc_curve(y_test,  yproba)\n",
    "    auc = roc_auc_score(y_test, yproba)\n",
    "    \n",
    "    result_table = result_table.append({'classifiers':cls.__class__.__name__,\n",
    "                                        'fpr':fpr, \n",
    "                                        'tpr':tpr, \n",
    "                                        'auc':auc}, ignore_index=True)\n",
    "\n",
    "# Set name of the classifiers as index labels\n",
    "result_table.set_index('classifiers', inplace=True)"
   ]
  },
  {
   "cell_type": "code",
   "execution_count": null,
   "metadata": {},
   "outputs": [],
   "source": [
    "import matplotlib.pyplot as plt\n",
    "import numpy as np\n",
    "fig = plt.figure(figsize=(8,6))\n",
    "\n",
    "for i in result_table.index:\n",
    "    plt.plot(result_table.loc[i]['fpr'], \n",
    "             result_table.loc[i]['tpr'], \n",
    "             label=\"{}, AUC={:.3f}\".format(i, result_table.loc[i]['auc']))\n",
    "    \n",
    "plt.plot([0,1], [0,1], color='orange', linestyle='--')\n",
    "\n",
    "plt.xticks(np.arange(0.0, 1.1, step=0.1))\n",
    "plt.xlabel(\"False Positive Rate\", fontsize=15)\n",
    "\n",
    "plt.yticks(np.arange(0.0, 1.1, step=0.1))\n",
    "plt.ylabel(\"True Positive Rate\", fontsize=15)\n",
    "\n",
    "plt.title('ROC Curve ', fontweight='bold', fontsize=15)\n",
    "plt.legend(prop={'size':13}, loc='lower right')\n",
    "\n",
    "plt.show()"
   ]
  },
  {
   "cell_type": "code",
   "execution_count": null,
   "metadata": {},
   "outputs": [],
   "source": [
    "#Notes on the Report:\n",
    "#Precision 0: TN/(TN+FN) of those predicted with out the disease, which how many really do not have it.\n",
    "#Precision 1: TP/(TP+FP) of those predicted with the disease, which how many really had it.\n",
    "#Recall 0: TN/(TN+FP) of those that dont have the disease how many were predicted with out the disease\n",
    "#Recall 1: TP/(TP+FN) of those that have the disease how many were predicted with the disease\n",
    "#Accuracy: TP+TN/(TP+TN+FP+FN), how many were classified correctly.\n",
    "#For early diagnosis we would like to focus on recall 1 to be high. People with early stages of the disease should diagnose\n",
    "#Few false negatives."
   ]
  },
  {
   "cell_type": "markdown",
   "metadata": {},
   "source": [
    "## Classifier for the app with all data set:¶"
   ]
  },
  {
   "cell_type": "code",
   "execution_count": 70,
   "metadata": {},
   "outputs": [
    {
     "data": {
      "text/plain": [
       "LogisticRegression(class_weight={0: 1.0, 1: 1})"
      ]
     },
     "execution_count": 70,
     "metadata": {},
     "output_type": "execute_result"
    }
   ],
   "source": [
    "classTapApp = LogisticRegression(class_weight=w)\n",
    "classTapApp.fit(X, y) "
   ]
  },
  {
   "cell_type": "code",
   "execution_count": 71,
   "metadata": {},
   "outputs": [
    {
     "name": "stdout",
     "output_type": "stream",
     "text": [
      "              precision    recall  f1-score   support\n",
      "\n",
      "           0       0.93      0.97      0.95      5220\n",
      "           1       0.68      0.51      0.58       737\n",
      "\n",
      "    accuracy                           0.91      5957\n",
      "   macro avg       0.81      0.74      0.76      5957\n",
      "weighted avg       0.90      0.91      0.90      5957\n",
      "\n"
     ]
    },
    {
     "data": {
      "image/png": "[encoded data removed]",
      "text/plain": [
       "<Figure size 432x288 with 2 Axes>"
      ]
     },
     "metadata": {
      "needs_background": "light"
     },
     "output_type": "display_data"
    }
   ],
   "source": [
    "y_predAll = classTapApp.predict(X)\n",
    "confusionMatrix = confusion_matrix(y, y_predAll, normalize='true')\n",
    "print(classification_report(y, y_predAll))\n",
    "disp = plot_confusion_matrix(classTapApp, X, y,cmap=plt.cm.Blues,normalize='true')\n"
   ]
  },
  {
   "cell_type": "code",
   "execution_count": null,
   "metadata": {},
   "outputs": [],
   "source": [
    "#'TapPerform', 'age','Male'\n",
    "a=classTapApp.predict([[200,60,1]])\n",
    "a"
   ]
  },
  {
   "cell_type": "code",
   "execution_count": null,
   "metadata": {},
   "outputs": [],
   "source": [
    "print(classTapApp.coef_,classTapApp.intercept_)"
   ]
  },
  {
   "cell_type": "code",
   "execution_count": null,
   "metadata": {},
   "outputs": [],
   "source": [
    "import pickle\n",
    "pickle_out = open(\"classTapApp.pkl\",\"wb\")\n",
    "pickle.dump(classTapApp, pickle_out)\n",
    "pickle_out.close()"
   ]
  },
  {
   "cell_type": "code",
   "execution_count": null,
   "metadata": {},
   "outputs": [],
   "source": [
    "# Classification for each quantile\n",
    "#import numpy as np\n",
    "#from sklearn.linear_model import LogisticRegression\n",
    "#from sklearn import metrics\n",
    "#from sklearn.model_selection import train_test_split\n",
    "#from sklearn.metrics import classification_report\n",
    "#from sklearn.metrics import classification_report\n",
    "#from sklearn.metrics import confusion_matrix\n",
    "#from sklearn.metrics import classification_report\n",
    "#from sklearn.metrics import plot_confusion_matrix\n",
    "#import matplotlib.pyplot as plt\n",
    "\n",
    "\n",
    "\n",
    "#X = TapTableN[['TapPerform','age','Male','Prefer not to answer']].to_numpy()\n",
    "##XTapPerf = np.reshape(XTapPerf, (-1,1))\n",
    "#TapTableN['PDOn']= TapTableN['diagnosis-year']\n",
    "#Y=TapTableN['PDOn'].to_numpy()\n",
    "#Y[Y!=0] = 1\n",
    "#print('Number of samples with the disease is: {:.2f}'.format(np.sum(Y)))\n",
    "#print('Number of total samples: {:.2f}'.format(len(Y)))\n",
    "##array_sum = np.sum(X)\n",
    "##array_has_nan = np.isnan(array_sum)\n",
    "##print(array_has_nan)\n",
    "#X = X.astype(np.float64)\n",
    "#Y = Y.astype(np.float64)\n",
    "#X_train, X_test, y_train, y_test = train_test_split(X,Y , test_size=0.3, random_state=0)\n",
    "\n",
    "#print(X)\n",
    "#print(Y)\n",
    "#print(y_train.shape)\n",
    "\n",
    "#X_train = X_train.astype(np.float64)\n",
    "#y_train = y_train.astype(np.float64)\n",
    "#X_test = X_test.astype(np.float64)\n",
    "#y_test = y_test.astype(np.float64)\n",
    "\n",
    "#Training logistic regression\n",
    "#logreg = LogisticRegression()\n",
    "#logreg.fit(X_train, y_train)\n",
    "#y_pred = logreg.predict(X_test)\n",
    "#print('Accuracy of logistic regression classifier on test set: {:.2f}'.format(logreg.score(X_test, y_test)))\n",
    "\n",
    "#confusionMatrix = confusion_matrix(y_test, y_pred, normalize='true')\n",
    "#print(confusionMatrix)\n",
    "#print(classification_report(y_test, y_pred))\n",
    "#disp = plot_confusion_matrix(logreg, X_test, y_test,cmap=plt.cm.Blues,normalize='true')\n",
    "\n",
    "\n",
    "#Notes on the Report:\n",
    "#Precision 0: TN/(TN+FN) of those predicted with out the disease, which how many really do not have it.\n",
    "#Precision 1: TP/(TP+FP) of those predicted with the disease, which how many really had it.\n",
    "#Recall 0: TN/(TN+FP) of those that dont have the disease how many were predicted with out the disease\n",
    "#Recall 1: TP/(TP+FN) of those that have the disease how many were predicted with the disease\n",
    "#Accuracy: TP+TN/(TP+TN+FP+FN), how many were classified correctly.\n",
    "#For early diagnosis we would like to focus on recall 1 to be high. People with early stages of the disease should diagnose\n",
    "#Few false negatives."
   ]
  },
  {
   "cell_type": "code",
   "execution_count": null,
   "metadata": {},
   "outputs": [],
   "source": [
    "##Plotting ROC Curve\n",
    "\n",
    "##Calculate probabilities. Notice that this is different than evaluating the predict y_pred\n",
    "#y_prob = logreg.predict_proba(X_test)\n",
    "#y_prob1 = y_prob[:, 1]\n",
    "\n",
    "#fpr, tpr, threshold = metrics.roc_curve(y_test, y_prob1)\n",
    "#roc_auc = metrics.auc(fpr, tpr)\n",
    "\n",
    "#plt.title('Receiver Operating Characteristic')\n",
    "#plt.plot(fpr, tpr, 'b', label = 'AUC = %0.2f' % roc_auc)\n",
    "#plt.legend(loc = 'lower right')\n",
    "#plt.plot([0, 1], [0, 1],'r--')\n",
    "#plt.xlim([0, 1])\n",
    "#plt.ylim([0, 1])\n",
    "#plt.ylabel('True Positive Rate')\n",
    "#plt.xlabel('False Positive Rate')\n",
    "#plt.show()\n",
    "\n",
    "##Finding the best threshold\n",
    "#print(threshold[np.argmax(tpr - fpr)])\n",
    "#print(tpr[np.argmax(tpr - fpr)])\n",
    "#print(fpr[np.argmax(tpr - fpr)])\n",
    "#NewThrh=threshold[np.argmax(tpr - fpr)]\n",
    "#y_probNew = (logreg.predict_proba(X_test)[:,1] >= NewThrh).astype(bool)\n",
    "#from sklearn.metrics import accuracy_score\n",
    "#accuracy_score(y_test, y_probNew)"
   ]
  },
  {
   "cell_type": "markdown",
   "metadata": {},
   "source": [
    "## Using only people before taking medication\n"
   ]
  },
  {
   "cell_type": "code",
   "execution_count": null,
   "metadata": {},
   "outputs": [],
   "source": [
    "#TapTableB = TapTableN[TapTableN['medTimepoint'] != \"Just after Parkinson medication (at your best)\"] \n",
    "#TapTableC = TapTableB[TapTableB['medTimepoint'] != \"Another time\"] \n",
    "\n",
    "#XX = TapTableC[['TapPerform','age','Male','Prefer not to answer']].to_numpy()\n",
    "#YY=TapTableC['PDOn'].to_numpy()\n",
    "#YY[YY!=0] = 1\n",
    "\n",
    "#XX_train, XX_test, yy_train, yy_test = train_test_split(XX,YY , test_size=0.3, random_state=1)\n",
    "\n",
    "##Training logistic regression\n",
    "#logregC = LogisticRegression()\n",
    "#logregC.fit(XX_train, yy_train)\n",
    "#yy_predC = logregC.predict(XX_test)\n",
    "#print('Accuracy of logistic regression classifier on test set: {:.2f}'.format(logregC.score(XX_test, yy_test)))\n",
    "#confusionMatrixC = confusion_matrix(yy_test, yy_predC)\n",
    "#print(confusionMatrixC)\n",
    "#print(classification_report(yy_test, yy_predC))\n",
    "#dispC = plot_confusion_matrix(logregC, XX_test, yy_test,cmap=plt.cm.Blues)\n",
    "\n"
   ]
  },
  {
   "cell_type": "code",
   "execution_count": null,
   "metadata": {},
   "outputs": [],
   "source": [
    "#'TapPerform', 'age','Male'\n",
    "a=classifierTap.predict([[100,40,0]])\n",
    "a"
   ]
  },
  {
   "cell_type": "code",
   "execution_count": null,
   "metadata": {},
   "outputs": [],
   "source": [
    "import seaborn as sns\n",
    "sns.swarmplot(data=TapTableN, x=\"YearsPD\", y=\"TapPerform\")"
   ]
  },
  {
   "cell_type": "code",
   "execution_count": null,
   "metadata": {},
   "outputs": [],
   "source": [
    "sns.swarmplot(data=TapTableN, x=\"YearsPD\", y=\"age\")"
   ]
  },
  {
   "cell_type": "code",
   "execution_count": null,
   "metadata": {},
   "outputs": [],
   "source": [
    "#sns.swarmplot(data=TapTableN, x=\"YearsPD\", y=\"Male\")"
   ]
  },
  {
   "cell_type": "code",
   "execution_count": null,
   "metadata": {},
   "outputs": [],
   "source": [
    "##Plotting ROC Curve\n",
    "\n",
    "##Calculate probabilities. Notice that this is different than evaluating the predict y_pred\n",
    "#y_probC = logregC.predict_proba(XX_test)\n",
    "#y_prob1C = y_probC[:, 1]\n",
    "\n",
    "#fprC, tprC, thresholdC = metrics.roc_curve(yy_test, y_prob1C)\n",
    "#roc_aucC = metrics.auc(fprC, tprC)\n",
    "\n",
    "#plt.title('Receiver Operating Characteristic')\n",
    "#plt.plot(fprC, tprC, 'b', label = 'AUC = %0.2f' % roc_auc)\n",
    "#plt.legend(loc = 'lower right')\n",
    "#plt.plot([0, 1], [0, 1],'r--')\n",
    "#plt.xlim([0, 1])\n",
    "#plt.ylim([0, 1])\n",
    "#plt.ylabel('True Positive Rate')\n",
    "#plt.xlabel('False Positive Rate')\n",
    "#plt.show()\n",
    "##Saving this for using the new threshold\n",
    "##y_pred = (clf.predict_proba(X_test)[:,1] >= 0.3).astype(bool) # set threshold as 0.3\n",
    "##print(fprC)\n",
    "##print(fpr)"
   ]
  },
  {
   "cell_type": "markdown",
   "metadata": {},
   "source": [
    "## Graph to see time dependency"
   ]
  },
  {
   "cell_type": "code",
   "execution_count": null,
   "metadata": {},
   "outputs": [],
   "source": [
    "#Prob = logreg.predict_proba(X)\n",
    "#ProbOfPD=Prob[:, 1]\n",
    "#Ind=(TapTableN[\"diagnosis-year\"]!=0)\n",
    "#YearsPD=TapTableN[\"diagnosis-year\"]\n",
    "#nd=(YearsPD!=0)\n",
    "#YearsPD[Ind]=(2015-YearsPD[Ind])\n",
    "#plt.scatter(YearsPD, ProbOfPD, c=\"g\", alpha=0.5, marker=r'$\\clubsuit$',\n",
    "#            label=\"Luck\")\n",
    "#plt.xlim([-0.5, 20])\n",
    "#print(ProbOfPD[42])\n",
    "#print(YearsPD[42])\n",
    "##TapTableN[\"TimeDis\"][Ind]=(2015-TapTableN[\"diagnosis-year\"][Ind])\n",
    "##print(TapTableN[\"age\"][72])"
   ]
  },
  {
   "cell_type": "code",
   "execution_count": null,
   "metadata": {},
   "outputs": [],
   "source": [
    "#'TapPerform', 'age','Male'\n",
    "a=classifierTap.predict([[300,70,1]])\n",
    "a\n"
   ]
  },
  {
   "cell_type": "code",
   "execution_count": null,
   "metadata": {},
   "outputs": [],
   "source": []
  },
  {
   "cell_type": "code",
   "execution_count": null,
   "metadata": {},
   "outputs": [],
   "source": []
  },
  {
   "cell_type": "code",
   "execution_count": null,
   "metadata": {},
   "outputs": [],
   "source": []
  },
  {
   "cell_type": "code",
   "execution_count": null,
   "metadata": {},
   "outputs": [],
   "source": []
  },
  {
   "cell_type": "code",
   "execution_count": null,
   "metadata": {},
   "outputs": [],
   "source": []
  }
 ],
 "metadata": {
  "kernelspec": {
   "display_name": "Python [conda env:insight] *",
   "language": "python",
   "name": "conda-env-insight-py"
  },
  "language_info": {
   "codemirror_mode": {
    "name": "ipython",
    "version": 3
   },
   "file_extension": ".py",
   "mimetype": "text/x-python",
   "name": "python",
   "nbconvert_exporter": "python",
   "pygments_lexer": "ipython3",
   "version": "3.8.5"
  }
 },
 "nbformat": 4,
 "nbformat_minor": 4
}
