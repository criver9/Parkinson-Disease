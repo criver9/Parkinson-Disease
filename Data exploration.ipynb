{
 "cells": [
  {
   "cell_type": "markdown",
   "metadata": {},
   "source": [
    "## Using free available samples: Parkinson analysis"
   ]
  },
  {
   "cell_type": "code",
   "execution_count": 1,
   "metadata": {
    "scrolled": true
   },
   "outputs": [],
   "source": [
    "import pandas as pd \n",
    "import numpy as np \n",
    "import matplotlib.pyplot as plt\n",
    "PD=[2,2,2,2,1,0,0,0,0,0,0,0,4,4,4,4,4,4,4,4]\n",
    "TapPD = list()\n",
    "TapPD.append(pd.read_json('/Users/catalina/Downloads/tapping_results.json.TappingSamples-41126e25-aa15-419f-af14-1aa8e78d870e1383831155599447443.tmp'))\n",
    "TapPD.append(pd.read_json('/Users/catalina/Downloads/tapping_results.json.TappingSamples-e721d2e0-5930-4071-a840-f898883710265378819541683273264.tmp'))\n",
    "TapPD.append(pd.read_json('/Users/catalina/Downloads/tapping_results.json.TappingSamples-a307e4ae-d49a-4f96-a294-b9e56a30c0446583375764081646363.tmp'))\n",
    "TapPD.append(pd.read_json('/Users/catalina/Downloads/tapping_results.json.TappingSamples-532d5097-0e27-49a9-a8e6-7a26c63210bf8048991346106322245.tmp'))\n",
    "TapPD.append(pd.read_json('/Users/catalina/Downloads/tapping_results.json.TappingSamples-dc348d0b-2457-4394-8bea-86b5975a92a68229272086582075256.tmp'))\n",
    "\n",
    "TapPD.append(pd.read_json('/Users/catalina/Downloads/tapping_results.json.TappingSamples-bc72f80c-42b0-4ece-9e46-d75eb78467366264188730012735288.tmp'))\n",
    "TapPD.append(pd.read_json('/Users/catalina/Downloads/tapping_results.json.TappingSamples-c5563a25-a238-421d-be38-7a5134ff45177388291754517110557.tmp'))\n",
    "TapPD.append(pd.read_json('/Users/catalina/Downloads/tapping_results.json.TappingSamples-e255a421-36f0-4fd8-b548-dd67dedb445a8941215721774187059.tmp'))\n",
    "TapPD.append(pd.read_json('/Users/catalina/Downloads/tapping_results.json.TappingSamples-b2bafa3c-3178-46fd-81d3-c1a0e0a8ab965371216142531495452.tmp'))\n",
    "TapPD.append(pd.read_json('/Users/catalina/Downloads/tapping_results.json.TappingSamples-bac511da-1c4a-40e7-a4a9-2770bd74c1178230558000319275806.tmp'))\n",
    "\n",
    "TapPD.append(pd.read_json('/Users/catalina/Downloads/tapping_results.json.TappingSamples-9891461a-2eaa-4a37-852f-b6e0d51c56737688883730723990581.tmp'))\n",
    "TapPD.append(pd.read_json('/Users/catalina/Downloads/tapping_results.json.TappingSamples-d1a0ff32-6756-4c65-bd7b-d5b60faec3926194198098794520520.tmp'))\n",
    "TapPD.append(pd.read_json('/Users/catalina/Downloads/tapping_results.json.TappingSamples-3339eb37-cbca-470a-838f-09b553e50d5d3483250691459460603.tmp'))\n",
    "TapPD.append(pd.read_json('/Users/catalina/Downloads/tapping_results.json.TappingSamples-f6a5df58-a213-40cc-9dd1-d726144b178a7158428480297972834.tmp'))\n",
    "TapPD.append(pd.read_json('/Users/catalina/Downloads/tapping_results.json.TappingSamples-c755675b-7149-481a-aa19-b76db83db84d2150209084706275.tmp'))\n",
    "\n",
    "TapPD.append(pd.read_json('/Users/catalina/Downloads/tapping_results.json.TappingSamples-e5cb5f69-a75a-49cc-83b4-dd0871a6b4fb6002873297461980535.tmp'))\n",
    "TapPD.append(pd.read_json('/Users/catalina/Downloads/tapping_results.json.TappingSamples-1a642746-7f22-421b-a6de-d90eabf99ba96278340256554412503.tmp'))\n",
    "TapPD.append(pd.read_json('/Users/catalina/Downloads/tapping_results.json.TappingSamples-91ee9bcc-065d-4916-882a-53939ffb05962701562103948048429.tmp'))\n",
    "TapPD.append(pd.read_json('/Users/catalina/Downloads/tapping_results.json.TappingSamples-a455a73c-1966-437f-a60e-e0433016ea128863241944941337544.tmp'))\n",
    "TapPD.append(pd.read_json('/Users/catalina/Downloads/tapping_results.json.TappingSamples-2e87c348-d2e1-450f-9c34-2eab52fda5af111790938118683279.tmp'))\n",
    "\n"
   ]
  },
  {
   "cell_type": "code",
   "execution_count": 2,
   "metadata": {},
   "outputs": [
    {
     "name": "stdout",
     "output_type": "stream",
     "text": [
      "     TapTimeStamp     TappedButtonId TapCoordinate\n",
      "0        0.000000   TappedButtonLeft   {99, 426.5}\n",
      "1        0.000525  TappedButtonRight  {234.5, 403}\n",
      "2        0.726266   TappedButtonNone    {104, 422}\n",
      "3        0.728167   TappedButtonLeft    {104, 422}\n",
      "4        0.728593   TappedButtonLeft    {104, 422}\n",
      "..            ...                ...           ...\n",
      "133     19.469220   TappedButtonNone     {91, 415}\n",
      "134     19.621840   TappedButtonLeft     {91, 415}\n",
      "135     19.752176   TappedButtonNone  {194, 396.5}\n",
      "136     19.905026  TappedButtonRight  {194, 396.5}\n",
      "137     19.986031   TappedButtonNone   {79.5, 418}\n",
      "\n",
      "[138 rows x 3 columns]\n"
     ]
    }
   ],
   "source": [
    "print(TapPD[0])"
   ]
  },
  {
   "cell_type": "code",
   "execution_count": 3,
   "metadata": {},
   "outputs": [],
   "source": [
    "def TapPerformance(TapPD1):\n",
    "    \n",
    "    TapPD1.TappedButtonId[TapPD1.TappedButtonId == 'TappedButtonLeft'] = 0\n",
    "    TapPD1.TappedButtonId[TapPD1.TappedButtonId == 'TappedButtonRight'] = 1\n",
    "    TapPD1.TappedButtonId[TapPD1.TappedButtonId == 'TappedButtonNone'] = 2\n",
    "    TapPD1 = Artifactfixed(TapPD1)\n",
    "    TapPerf= TapPD1.shape[0]\n",
    "    return (TapPerf,TapPD1)"
   ]
  },
  {
   "cell_type": "code",
   "execution_count": 4,
   "metadata": {},
   "outputs": [],
   "source": [
    "#Index=list()\n",
    "def Artifactfixed(TapCont):\n",
    "    Ind =  [True] * TapCont.shape[0]\n",
    "    for item in range(0,TapCont.shape[0]-1):\n",
    "        if TapCont.TapCoordinate[item]==TapCont.TapCoordinate[item+1]:\n",
    "            if TapCont.TappedButtonId[item]==2:\n",
    "                Ind[item]=False\n",
    "            elif TapCont.TappedButtonId[item+1]==2:\n",
    "                Ind[item]=False\n",
    "    TapContArtFixed=TapCont[Ind]\n",
    "    return TapContArtFixed\n",
    "          "
   ]
  },
  {
   "cell_type": "code",
   "execution_count": 5,
   "metadata": {},
   "outputs": [
    {
     "name": "stderr",
     "output_type": "stream",
     "text": [
      "<ipython-input-3-3127cb324411>:3: SettingWithCopyWarning: \n",
      "A value is trying to be set on a copy of a slice from a DataFrame\n",
      "\n",
      "See the caveats in the documentation: https://pandas.pydata.org/pandas-docs/stable/user_guide/indexing.html#returning-a-view-versus-a-copy\n",
      "  TapPD1.TappedButtonId[TapPD1.TappedButtonId == 'TappedButtonLeft'] = 0\n",
      "<ipython-input-3-3127cb324411>:4: SettingWithCopyWarning: \n",
      "A value is trying to be set on a copy of a slice from a DataFrame\n",
      "\n",
      "See the caveats in the documentation: https://pandas.pydata.org/pandas-docs/stable/user_guide/indexing.html#returning-a-view-versus-a-copy\n",
      "  TapPD1.TappedButtonId[TapPD1.TappedButtonId == 'TappedButtonRight'] = 1\n",
      "<ipython-input-3-3127cb324411>:5: SettingWithCopyWarning: \n",
      "A value is trying to be set on a copy of a slice from a DataFrame\n",
      "\n",
      "See the caveats in the documentation: https://pandas.pydata.org/pandas-docs/stable/user_guide/indexing.html#returning-a-view-versus-a-copy\n",
      "  TapPD1.TappedButtonId[TapPD1.TappedButtonId == 'TappedButtonNone'] = 2\n"
     ]
    },
    {
     "name": "stdout",
     "output_type": "stream",
     "text": [
      "    PDClass  TapPerfor PDOn\n",
      "0         2         74    1\n",
      "1         2        166    1\n",
      "2         2        201    1\n",
      "3         2        134    1\n",
      "4         1         32    1\n",
      "5         0        392    0\n",
      "6         0        212    0\n",
      "7         0        394    0\n",
      "8         0        302    0\n",
      "9         0        180    0\n",
      "10        0        138    0\n",
      "11        0        242    0\n",
      "12        4         47    1\n",
      "13        4         64    1\n",
      "14        4        232    1\n",
      "15        4        237    1\n",
      "16        4        289    1\n",
      "17        4         70    1\n",
      "18        4         38    1\n",
      "19        4        168    1\n"
     ]
    },
    {
     "data": {
      "text/plain": [
       "[Text(0, 0, 'Control'),\n",
       " Text(1, 0, 'Before Med'),\n",
       " Text(2, 0, 'After Med'),\n",
       " Text(3, 0, 'Another Time')]"
      ]
     },
     "execution_count": 5,
     "metadata": {},
     "output_type": "execute_result"
    },
    {
     "data": {
      "image/png": "[encoded data removed]",
      "text/plain": [
       "<Figure size 432x288 with 1 Axes>"
      ]
     },
     "metadata": {
      "needs_background": "light"
     },
     "output_type": "display_data"
    },
    {
     "data": {
      "image/png": "[encoded data removed]",
      "text/plain": [
       "<Figure size 432x288 with 1 Axes>"
      ]
     },
     "metadata": {
      "needs_background": "light"
     },
     "output_type": "display_data"
    }
   ],
   "source": [
    "TapRes = list()\n",
    "TapPer = list()\n",
    "for i in range(0,len(TapPD)):\n",
    "     TapRes.append(TapPerformance(TapPD[i]))\n",
    "        \n",
    "for item in TapRes:\n",
    "    TapPer.append(item[0])\n",
    "#Making a table with performance\n",
    "dic = {'PDClass':PD,'TapPerfor':TapPer}\n",
    "df = pd.DataFrame(dic)\n",
    "\n",
    "# create a list of our conditions\n",
    "conditions = [(df['PDClass'] != 0 )]\n",
    "# create a list of the values we want to assign for each condition\n",
    "values = ['1']\n",
    "# create a new column and use np.select to assign values to it using our lists as arguments\n",
    "df['PDOn'] = np.select(conditions, values)\n",
    "\n",
    "# Look at statistics of presence or absence of disease in Tap performance\n",
    "\n",
    "byPDOnAv=df.groupby(by='PDOn').mean()['TapPerfor']\n",
    "byPDOnStd=df.groupby(by='PDOn').std()['TapPerfor']\n",
    "\n",
    "#AvgTapPerf2=byPDOn.std();\n",
    "fig, ax = plt.subplots()\n",
    "ax.bar([0,1], byPDOnAv, yerr=byPDOnStd, align='center', alpha=0.5, ecolor='black', capsize=10)\n",
    "ax.set_ylabel('Correct num taps in 20 s')\n",
    "ax.set_xticks([0,1])\n",
    "ax.set_xticklabels(['Control','PD'])\n",
    "ax.set_title('Parkinson patients vs Control')\n",
    "#print(byPDOnStd)\n",
    "\n",
    "byPDGenAv=df.groupby(by='PDClass').mean()['TapPerfor']\n",
    "byPDGenStd=df.groupby(by='PDClass').std()['TapPerfor']\n",
    "\n",
    "print(df)\n",
    "fig, ax = plt.subplots()\n",
    "ax.bar([0,1,2,3], byPDGenAv, yerr=byPDGenStd, align='center', alpha=0.5, ecolor='black', capsize=10)\n",
    "ax.set_ylabel('Correct num taps in 20 s')\n",
    "ax.set_xticks([0,1,2,3])\n",
    "ax.set_xticklabels(['Control','Before Med','After Med', 'Another Time'])\n",
    "#ax.set_title('Parkinson patients vs Control')"
   ]
  },
  {
   "cell_type": "code",
   "execution_count": 11,
   "metadata": {},
   "outputs": [
    {
     "name": "stdout",
     "output_type": "stream",
     "text": [
      "(14, 1)\n",
      "(14,)\n",
      "[[-0.01567732]]\n",
      "[3.94280462]\n",
      "[[-251.49743309]]\n"
     ]
    }
   ],
   "source": [
    "from sklearn.linear_model import LogisticRegression\n",
    "from sklearn import metrics\n",
    "from sklearn.model_selection import train_test_split\n",
    "from sklearn.metrics import classification_report\n",
    "\n",
    "XTapPerf = df['TapPerfor'].to_numpy()\n",
    "XTapPerf = np.reshape(XTapPerf, (-1,1))\n",
    "YTap = df['PDOn'].to_numpy()\n",
    "YTap=YTap.astype(float)\n",
    "YTap=np.ravel(YTap)\n",
    "#YTap = np.reshape(YTap, (-1,1))\n",
    "X_train, X_test, y_train, y_test = train_test_split(XTapPerf,YTap , test_size=0.3, random_state=0)\n",
    "print(X_train.shape)\n",
    "print(y_train.shape)\n",
    "\n",
    "#Training logistic regression\n",
    "logreg = LogisticRegression()\n",
    "logreg.fit(X_train, y_train)\n",
    "print(logreg.coef_)\n",
    "print(logreg.intercept_)\n",
    "print(logreg.intercept_/logreg.coef_)\n",
    "\n",
    "\n",
    "\n",
    "#Predicting \n",
    "#y_pred = logreg.predict(y_test)\n",
    "#print('Accuracy of logistic regression classifier on test set: {:.2f}'.format(logreg.score(X_test, y_test)))\n",
    "#print(classification_report(y_test, y_pred))"
   ]
  },
  {
   "cell_type": "code",
   "execution_count": null,
   "metadata": {},
   "outputs": [],
   "source": [
    "c = np.linspace(20, 500, num=100)\n",
    "Prob = 1/(1+np.exp(logreg.intercept_+ np.multiply(logreg.coef_, c)))\n",
    "#print(np.ravel(X_train))\n",
    "plt.plot(c,np.ravel(Prob))\n",
    "plt.plot(np.ravel(X_train),np.ravel(y_train), 'o')\n",
    "plt.plot(np.ravel(X_test),np.ravel(y_test), 'ro')\n",
    "\n",
    "y_pred = logreg.predict(X_test)\n",
    "print('Accuracy of logistic regression classifier on test set: {:.2f}'.format(logreg.score(X_test, y_test)))\n",
    "from sklearn.metrics import classification_report\n",
    "from sklearn.metrics import confusion_matrix\n",
    "confusion_matrix = confusion_matrix(y_test, y_pred)\n",
    "print(confusion_matrix)\n",
    "from sklearn.metrics import classification_report\n",
    "print(classification_report(y_test, y_pred))"
   ]
  },
  {
   "cell_type": "code",
   "execution_count": null,
   "metadata": {},
   "outputs": [],
   "source": []
  },
  {
   "cell_type": "code",
   "execution_count": null,
   "metadata": {},
   "outputs": [],
   "source": []
  },
  {
   "cell_type": "code",
   "execution_count": null,
   "metadata": {},
   "outputs": [],
   "source": []
  }
 ],
 "metadata": {
  "kernelspec": {
   "display_name": "Python [conda env:insight] *",
   "language": "python",
   "name": "conda-env-insight-py"
  },
  "language_info": {
   "codemirror_mode": {
    "name": "ipython",
    "version": 3
   },
   "file_extension": ".py",
   "mimetype": "text/x-python",
   "name": "python",
   "nbconvert_exporter": "python",
   "pygments_lexer": "ipython3",
   "version": "3.8.5"
  }
 },
 "nbformat": 4,
 "nbformat_minor": 2
}
